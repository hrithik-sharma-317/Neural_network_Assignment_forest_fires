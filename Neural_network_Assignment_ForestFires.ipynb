{
  "cells": [
    {
      "metadata": {},
      "id": "0206868e",
      "cell_type": "markdown",
      "source": "# Neural Networks"
    },
    {
      "metadata": {
        "ExecuteTime": {
          "end_time": "2022-06-13T06:29:59.573704Z",
          "start_time": "2022-06-13T06:29:55.772745Z"
        },
        "trusted": false
      },
      "id": "7aabf9fc",
      "cell_type": "code",
      "source": "!pip install keras",
      "execution_count": 1,
      "outputs": [
        {
          "name": "stdout",
          "output_type": "stream",
          "text": "Requirement already satisfied: keras in c:\\users\\asus\\anaconda3\\anaconda\\lib\\site-packages (2.9.0)\n"
        }
      ]
    },
    {
      "metadata": {
        "ExecuteTime": {
          "end_time": "2022-06-13T06:31:53.762355Z",
          "start_time": "2022-06-13T06:30:18.535879Z"
        },
        "trusted": false
      },
      "id": "ec0504dd",
      "cell_type": "code",
      "source": "!pip install tensorflow",
      "execution_count": 2,
      "outputs": [
        {
          "name": "stdout",
          "output_type": "stream",
          "text": "Collecting tensorflow\n  Downloading tensorflow-2.9.1-cp39-cp39-win_amd64.whl (444.0 MB)\nRequirement already satisfied: setuptools in c:\\users\\asus\\anaconda3\\anaconda\\lib\\site-packages (from tensorflow) (58.0.4)\nCollecting tensorflow-estimator<2.10.0,>=2.9.0rc0\n  Downloading tensorflow_estimator-2.9.0-py2.py3-none-any.whl (438 kB)\nRequirement already satisfied: h5py>=2.9.0 in c:\\users\\asus\\anaconda3\\anaconda\\lib\\site-packages (from tensorflow) (3.2.1)\nCollecting google-pasta>=0.1.1\n  Downloading google_pasta-0.2.0-py3-none-any.whl (57 kB)\nCollecting keras-preprocessing>=1.1.1\n  Downloading Keras_Preprocessing-1.1.2-py2.py3-none-any.whl (42 kB)\nRequirement already satisfied: numpy>=1.20 in c:\\users\\asus\\anaconda3\\anaconda\\lib\\site-packages (from tensorflow) (1.20.3)\nCollecting tensorboard<2.10,>=2.9\n  Downloading tensorboard-2.9.1-py3-none-any.whl (5.8 MB)\nRequirement already satisfied: six>=1.12.0 in c:\\users\\asus\\anaconda3\\anaconda\\lib\\site-packages (from tensorflow) (1.16.0)\nCollecting libclang>=13.0.0\n  Downloading libclang-14.0.1-py2.py3-none-win_amd64.whl (14.2 MB)\nCollecting grpcio<2.0,>=1.24.3\n  Downloading grpcio-1.46.3-cp39-cp39-win_amd64.whl (3.5 MB)\nCollecting termcolor>=1.1.0\n  Downloading termcolor-1.1.0.tar.gz (3.9 kB)\nRequirement already satisfied: wrapt>=1.11.0 in c:\\users\\asus\\anaconda3\\anaconda\\lib\\site-packages (from tensorflow) (1.12.1)\nCollecting astunparse>=1.6.0\n  Downloading astunparse-1.6.3-py2.py3-none-any.whl (12 kB)\nCollecting gast<=0.4.0,>=0.2.1\n  Downloading gast-0.4.0-py3-none-any.whl (9.8 kB)\nRequirement already satisfied: keras<2.10.0,>=2.9.0rc0 in c:\\users\\asus\\anaconda3\\anaconda\\lib\\site-packages (from tensorflow) (2.9.0)\nCollecting absl-py>=1.0.0\n  Downloading absl_py-1.1.0-py3-none-any.whl (123 kB)\nCollecting opt-einsum>=2.3.2\n  Downloading opt_einsum-3.3.0-py3-none-any.whl (65 kB)\nRequirement already satisfied: typing-extensions>=3.6.6 in c:\\users\\asus\\anaconda3\\anaconda\\lib\\site-packages (from tensorflow) (3.10.0.2)\nCollecting tensorflow-io-gcs-filesystem>=0.23.1\n  Downloading tensorflow_io_gcs_filesystem-0.26.0-cp39-cp39-win_amd64.whl (1.5 MB)\nCollecting flatbuffers<2,>=1.12\n  Downloading flatbuffers-1.12-py2.py3-none-any.whl (15 kB)\nCollecting protobuf<3.20,>=3.9.2\n  Downloading protobuf-3.19.4-cp39-cp39-win_amd64.whl (895 kB)\nRequirement already satisfied: packaging in c:\\users\\asus\\anaconda3\\anaconda\\lib\\site-packages (from tensorflow) (21.0)\nRequirement already satisfied: wheel<1.0,>=0.23.0 in c:\\users\\asus\\anaconda3\\anaconda\\lib\\site-packages (from astunparse>=1.6.0->tensorflow) (0.37.0)\nCollecting tensorboard-plugin-wit>=1.6.0\n  Downloading tensorboard_plugin_wit-1.8.1-py3-none-any.whl (781 kB)\nCollecting tensorboard-data-server<0.7.0,>=0.6.0\n  Downloading tensorboard_data_server-0.6.1-py3-none-any.whl (2.4 kB)\nRequirement already satisfied: requests<3,>=2.21.0 in c:\\users\\asus\\anaconda3\\anaconda\\lib\\site-packages (from tensorboard<2.10,>=2.9->tensorflow) (2.26.0)\nRequirement already satisfied: werkzeug>=1.0.1 in c:\\users\\asus\\anaconda3\\anaconda\\lib\\site-packages (from tensorboard<2.10,>=2.9->tensorflow) (2.0.2)\nCollecting google-auth-oauthlib<0.5,>=0.4.1\n  Downloading google_auth_oauthlib-0.4.6-py2.py3-none-any.whl (18 kB)\nCollecting markdown>=2.6.8\n  Downloading Markdown-3.3.7-py3-none-any.whl (97 kB)\nCollecting google-auth<3,>=1.6.3\n  Downloading google_auth-2.7.0-py2.py3-none-any.whl (160 kB)\nCollecting pyasn1-modules>=0.2.1\n  Downloading pyasn1_modules-0.2.8-py2.py3-none-any.whl (155 kB)\nCollecting cachetools<6.0,>=2.0.0\n  Downloading cachetools-5.2.0-py3-none-any.whl (9.3 kB)\nCollecting rsa<5,>=3.1.4\n  Downloading rsa-4.8-py3-none-any.whl (39 kB)\nCollecting requests-oauthlib>=0.7.0\n  Downloading requests_oauthlib-1.3.1-py2.py3-none-any.whl (23 kB)\nRequirement already satisfied: importlib-metadata>=4.4 in c:\\users\\asus\\anaconda3\\anaconda\\lib\\site-packages (from markdown>=2.6.8->tensorboard<2.10,>=2.9->tensorflow) (4.8.1)\nRequirement already satisfied: zipp>=0.5 in c:\\users\\asus\\anaconda3\\anaconda\\lib\\site-packages (from importlib-metadata>=4.4->markdown>=2.6.8->tensorboard<2.10,>=2.9->tensorflow) (3.6.0)\nCollecting pyasn1<0.5.0,>=0.4.6\n  Downloading pyasn1-0.4.8-py2.py3-none-any.whl (77 kB)\nRequirement already satisfied: urllib3<1.27,>=1.21.1 in c:\\users\\asus\\anaconda3\\anaconda\\lib\\site-packages (from requests<3,>=2.21.0->tensorboard<2.10,>=2.9->tensorflow) (1.26.7)\nRequirement already satisfied: certifi>=2017.4.17 in c:\\users\\asus\\anaconda3\\anaconda\\lib\\site-packages (from requests<3,>=2.21.0->tensorboard<2.10,>=2.9->tensorflow) (2021.10.8)\nRequirement already satisfied: idna<4,>=2.5 in c:\\users\\asus\\anaconda3\\anaconda\\lib\\site-packages (from requests<3,>=2.21.0->tensorboard<2.10,>=2.9->tensorflow) (3.2)\nRequirement already satisfied: charset-normalizer~=2.0.0 in c:\\users\\asus\\anaconda3\\anaconda\\lib\\site-packages (from requests<3,>=2.21.0->tensorboard<2.10,>=2.9->tensorflow) (2.0.4)\nCollecting oauthlib>=3.0.0\n  Downloading oauthlib-3.2.0-py3-none-any.whl (151 kB)\nRequirement already satisfied: pyparsing>=2.0.2 in c:\\users\\asus\\anaconda3\\anaconda\\lib\\site-packages (from packaging->tensorflow) (3.0.4)\nBuilding wheels for collected packages: termcolor\n  Building wheel for termcolor (setup.py): started\n  Building wheel for termcolor (setup.py): finished with status 'done'\n  Created wheel for termcolor: filename=termcolor-1.1.0-py3-none-any.whl size=4847 sha256=55e76595f11570bd12c81476bc52e02857420120f85869631aa557216b204315\n  Stored in directory: c:\\users\\asus\\appdata\\local\\pip\\cache\\wheels\\b6\\0d\\90\\0d1bbd99855f99cb2f6c2e5ff96f8023fad8ec367695f7d72d\nSuccessfully built termcolor\nInstalling collected packages: pyasn1, rsa, pyasn1-modules, oauthlib, cachetools, requests-oauthlib, google-auth, tensorboard-plugin-wit, tensorboard-data-server, protobuf, markdown, grpcio, google-auth-oauthlib, absl-py, termcolor, tensorflow-io-gcs-filesystem, tensorflow-estimator, tensorboard, opt-einsum, libclang, keras-preprocessing, google-pasta, gast, flatbuffers, astunparse, tensorflow\nSuccessfully installed absl-py-1.1.0 astunparse-1.6.3 cachetools-5.2.0 flatbuffers-1.12 gast-0.4.0 google-auth-2.7.0 google-auth-oauthlib-0.4.6 google-pasta-0.2.0 grpcio-1.46.3 keras-preprocessing-1.1.2 libclang-14.0.1 markdown-3.3.7 oauthlib-3.2.0 opt-einsum-3.3.0 protobuf-3.19.4 pyasn1-0.4.8 pyasn1-modules-0.2.8 requests-oauthlib-1.3.1 rsa-4.8 tensorboard-2.9.1 tensorboard-data-server-0.6.1 tensorboard-plugin-wit-1.8.1 tensorflow-2.9.1 tensorflow-estimator-2.9.0 tensorflow-io-gcs-filesystem-0.26.0 termcolor-1.1.0\n"
        }
      ]
    },
    {
      "metadata": {
        "ExecuteTime": {
          "end_time": "2022-06-13T07:13:17.429099Z",
          "start_time": "2022-06-13T07:12:55.672716Z"
        },
        "trusted": false
      },
      "id": "18592c09",
      "cell_type": "code",
      "source": "import pandas as pd\nimport numpy as np\nimport keras\nimport tensorflow\nimport seaborn as sns",
      "execution_count": 3,
      "outputs": []
    },
    {
      "metadata": {
        "ExecuteTime": {
          "end_time": "2022-06-13T07:13:17.606778Z",
          "start_time": "2022-06-13T07:13:17.436962Z"
        },
        "trusted": false
      },
      "id": "a3212bb6",
      "cell_type": "code",
      "source": "df = pd.read_csv(\"forestfires.csv\")\ndf",
      "execution_count": 4,
      "outputs": [
        {
          "data": {
            "text/html": "<div>\n<style scoped>\n    .dataframe tbody tr th:only-of-type {\n        vertical-align: middle;\n    }\n\n    .dataframe tbody tr th {\n        vertical-align: top;\n    }\n\n    .dataframe thead th {\n        text-align: right;\n    }\n</style>\n<table border=\"1\" class=\"dataframe\">\n  <thead>\n    <tr style=\"text-align: right;\">\n      <th></th>\n      <th>month</th>\n      <th>day</th>\n      <th>FFMC</th>\n      <th>DMC</th>\n      <th>DC</th>\n      <th>ISI</th>\n      <th>temp</th>\n      <th>RH</th>\n      <th>wind</th>\n      <th>rain</th>\n      <th>...</th>\n      <th>monthfeb</th>\n      <th>monthjan</th>\n      <th>monthjul</th>\n      <th>monthjun</th>\n      <th>monthmar</th>\n      <th>monthmay</th>\n      <th>monthnov</th>\n      <th>monthoct</th>\n      <th>monthsep</th>\n      <th>size_category</th>\n    </tr>\n  </thead>\n  <tbody>\n    <tr>\n      <th>0</th>\n      <td>mar</td>\n      <td>fri</td>\n      <td>86.2</td>\n      <td>26.2</td>\n      <td>94.3</td>\n      <td>5.1</td>\n      <td>8.2</td>\n      <td>51</td>\n      <td>6.7</td>\n      <td>0.0</td>\n      <td>...</td>\n      <td>0</td>\n      <td>0</td>\n      <td>0</td>\n      <td>0</td>\n      <td>1</td>\n      <td>0</td>\n      <td>0</td>\n      <td>0</td>\n      <td>0</td>\n      <td>small</td>\n    </tr>\n    <tr>\n      <th>1</th>\n      <td>oct</td>\n      <td>tue</td>\n      <td>90.6</td>\n      <td>35.4</td>\n      <td>669.1</td>\n      <td>6.7</td>\n      <td>18.0</td>\n      <td>33</td>\n      <td>0.9</td>\n      <td>0.0</td>\n      <td>...</td>\n      <td>0</td>\n      <td>0</td>\n      <td>0</td>\n      <td>0</td>\n      <td>0</td>\n      <td>0</td>\n      <td>0</td>\n      <td>1</td>\n      <td>0</td>\n      <td>small</td>\n    </tr>\n    <tr>\n      <th>2</th>\n      <td>oct</td>\n      <td>sat</td>\n      <td>90.6</td>\n      <td>43.7</td>\n      <td>686.9</td>\n      <td>6.7</td>\n      <td>14.6</td>\n      <td>33</td>\n      <td>1.3</td>\n      <td>0.0</td>\n      <td>...</td>\n      <td>0</td>\n      <td>0</td>\n      <td>0</td>\n      <td>0</td>\n      <td>0</td>\n      <td>0</td>\n      <td>0</td>\n      <td>1</td>\n      <td>0</td>\n      <td>small</td>\n    </tr>\n    <tr>\n      <th>3</th>\n      <td>mar</td>\n      <td>fri</td>\n      <td>91.7</td>\n      <td>33.3</td>\n      <td>77.5</td>\n      <td>9.0</td>\n      <td>8.3</td>\n      <td>97</td>\n      <td>4.0</td>\n      <td>0.2</td>\n      <td>...</td>\n      <td>0</td>\n      <td>0</td>\n      <td>0</td>\n      <td>0</td>\n      <td>1</td>\n      <td>0</td>\n      <td>0</td>\n      <td>0</td>\n      <td>0</td>\n      <td>small</td>\n    </tr>\n    <tr>\n      <th>4</th>\n      <td>mar</td>\n      <td>sun</td>\n      <td>89.3</td>\n      <td>51.3</td>\n      <td>102.2</td>\n      <td>9.6</td>\n      <td>11.4</td>\n      <td>99</td>\n      <td>1.8</td>\n      <td>0.0</td>\n      <td>...</td>\n      <td>0</td>\n      <td>0</td>\n      <td>0</td>\n      <td>0</td>\n      <td>1</td>\n      <td>0</td>\n      <td>0</td>\n      <td>0</td>\n      <td>0</td>\n      <td>small</td>\n    </tr>\n    <tr>\n      <th>...</th>\n      <td>...</td>\n      <td>...</td>\n      <td>...</td>\n      <td>...</td>\n      <td>...</td>\n      <td>...</td>\n      <td>...</td>\n      <td>...</td>\n      <td>...</td>\n      <td>...</td>\n      <td>...</td>\n      <td>...</td>\n      <td>...</td>\n      <td>...</td>\n      <td>...</td>\n      <td>...</td>\n      <td>...</td>\n      <td>...</td>\n      <td>...</td>\n      <td>...</td>\n      <td>...</td>\n    </tr>\n    <tr>\n      <th>512</th>\n      <td>aug</td>\n      <td>sun</td>\n      <td>81.6</td>\n      <td>56.7</td>\n      <td>665.6</td>\n      <td>1.9</td>\n      <td>27.8</td>\n      <td>32</td>\n      <td>2.7</td>\n      <td>0.0</td>\n      <td>...</td>\n      <td>0</td>\n      <td>0</td>\n      <td>0</td>\n      <td>0</td>\n      <td>0</td>\n      <td>0</td>\n      <td>0</td>\n      <td>0</td>\n      <td>0</td>\n      <td>large</td>\n    </tr>\n    <tr>\n      <th>513</th>\n      <td>aug</td>\n      <td>sun</td>\n      <td>81.6</td>\n      <td>56.7</td>\n      <td>665.6</td>\n      <td>1.9</td>\n      <td>21.9</td>\n      <td>71</td>\n      <td>5.8</td>\n      <td>0.0</td>\n      <td>...</td>\n      <td>0</td>\n      <td>0</td>\n      <td>0</td>\n      <td>0</td>\n      <td>0</td>\n      <td>0</td>\n      <td>0</td>\n      <td>0</td>\n      <td>0</td>\n      <td>large</td>\n    </tr>\n    <tr>\n      <th>514</th>\n      <td>aug</td>\n      <td>sun</td>\n      <td>81.6</td>\n      <td>56.7</td>\n      <td>665.6</td>\n      <td>1.9</td>\n      <td>21.2</td>\n      <td>70</td>\n      <td>6.7</td>\n      <td>0.0</td>\n      <td>...</td>\n      <td>0</td>\n      <td>0</td>\n      <td>0</td>\n      <td>0</td>\n      <td>0</td>\n      <td>0</td>\n      <td>0</td>\n      <td>0</td>\n      <td>0</td>\n      <td>large</td>\n    </tr>\n    <tr>\n      <th>515</th>\n      <td>aug</td>\n      <td>sat</td>\n      <td>94.4</td>\n      <td>146.0</td>\n      <td>614.7</td>\n      <td>11.3</td>\n      <td>25.6</td>\n      <td>42</td>\n      <td>4.0</td>\n      <td>0.0</td>\n      <td>...</td>\n      <td>0</td>\n      <td>0</td>\n      <td>0</td>\n      <td>0</td>\n      <td>0</td>\n      <td>0</td>\n      <td>0</td>\n      <td>0</td>\n      <td>0</td>\n      <td>small</td>\n    </tr>\n    <tr>\n      <th>516</th>\n      <td>nov</td>\n      <td>tue</td>\n      <td>79.5</td>\n      <td>3.0</td>\n      <td>106.7</td>\n      <td>1.1</td>\n      <td>11.8</td>\n      <td>31</td>\n      <td>4.5</td>\n      <td>0.0</td>\n      <td>...</td>\n      <td>0</td>\n      <td>0</td>\n      <td>0</td>\n      <td>0</td>\n      <td>0</td>\n      <td>0</td>\n      <td>1</td>\n      <td>0</td>\n      <td>0</td>\n      <td>small</td>\n    </tr>\n  </tbody>\n</table>\n<p>517 rows × 31 columns</p>\n</div>",
            "text/plain": "    month  day  FFMC    DMC     DC   ISI  temp  RH  wind  rain  ...  monthfeb  \\\n0     mar  fri  86.2   26.2   94.3   5.1   8.2  51   6.7   0.0  ...         0   \n1     oct  tue  90.6   35.4  669.1   6.7  18.0  33   0.9   0.0  ...         0   \n2     oct  sat  90.6   43.7  686.9   6.7  14.6  33   1.3   0.0  ...         0   \n3     mar  fri  91.7   33.3   77.5   9.0   8.3  97   4.0   0.2  ...         0   \n4     mar  sun  89.3   51.3  102.2   9.6  11.4  99   1.8   0.0  ...         0   \n..    ...  ...   ...    ...    ...   ...   ...  ..   ...   ...  ...       ...   \n512   aug  sun  81.6   56.7  665.6   1.9  27.8  32   2.7   0.0  ...         0   \n513   aug  sun  81.6   56.7  665.6   1.9  21.9  71   5.8   0.0  ...         0   \n514   aug  sun  81.6   56.7  665.6   1.9  21.2  70   6.7   0.0  ...         0   \n515   aug  sat  94.4  146.0  614.7  11.3  25.6  42   4.0   0.0  ...         0   \n516   nov  tue  79.5    3.0  106.7   1.1  11.8  31   4.5   0.0  ...         0   \n\n     monthjan  monthjul  monthjun  monthmar  monthmay  monthnov  monthoct  \\\n0           0         0         0         1         0         0         0   \n1           0         0         0         0         0         0         1   \n2           0         0         0         0         0         0         1   \n3           0         0         0         1         0         0         0   \n4           0         0         0         1         0         0         0   \n..        ...       ...       ...       ...       ...       ...       ...   \n512         0         0         0         0         0         0         0   \n513         0         0         0         0         0         0         0   \n514         0         0         0         0         0         0         0   \n515         0         0         0         0         0         0         0   \n516         0         0         0         0         0         1         0   \n\n     monthsep  size_category  \n0           0          small  \n1           0          small  \n2           0          small  \n3           0          small  \n4           0          small  \n..        ...            ...  \n512         0          large  \n513         0          large  \n514         0          large  \n515         0          small  \n516         0          small  \n\n[517 rows x 31 columns]"
          },
          "execution_count": 4,
          "metadata": {},
          "output_type": "execute_result"
        }
      ]
    },
    {
      "metadata": {
        "ExecuteTime": {
          "end_time": "2022-06-13T07:13:42.274096Z",
          "start_time": "2022-06-13T07:13:42.257120Z"
        },
        "trusted": false
      },
      "id": "2187e72c",
      "cell_type": "code",
      "source": "df.isnull().sum()",
      "execution_count": 5,
      "outputs": [
        {
          "data": {
            "text/plain": "month            0\nday              0\nFFMC             0\nDMC              0\nDC               0\nISI              0\ntemp             0\nRH               0\nwind             0\nrain             0\narea             0\ndayfri           0\ndaymon           0\ndaysat           0\ndaysun           0\ndaythu           0\ndaytue           0\ndaywed           0\nmonthapr         0\nmonthaug         0\nmonthdec         0\nmonthfeb         0\nmonthjan         0\nmonthjul         0\nmonthjun         0\nmonthmar         0\nmonthmay         0\nmonthnov         0\nmonthoct         0\nmonthsep         0\nsize_category    0\ndtype: int64"
          },
          "execution_count": 5,
          "metadata": {},
          "output_type": "execute_result"
        }
      ]
    },
    {
      "metadata": {
        "ExecuteTime": {
          "end_time": "2022-06-13T07:13:54.880579Z",
          "start_time": "2022-06-13T07:13:54.847804Z"
        },
        "trusted": false
      },
      "id": "3baf4396",
      "cell_type": "code",
      "source": "df.info()",
      "execution_count": 6,
      "outputs": [
        {
          "name": "stdout",
          "output_type": "stream",
          "text": "<class 'pandas.core.frame.DataFrame'>\nRangeIndex: 517 entries, 0 to 516\nData columns (total 31 columns):\n #   Column         Non-Null Count  Dtype  \n---  ------         --------------  -----  \n 0   month          517 non-null    object \n 1   day            517 non-null    object \n 2   FFMC           517 non-null    float64\n 3   DMC            517 non-null    float64\n 4   DC             517 non-null    float64\n 5   ISI            517 non-null    float64\n 6   temp           517 non-null    float64\n 7   RH             517 non-null    int64  \n 8   wind           517 non-null    float64\n 9   rain           517 non-null    float64\n 10  area           517 non-null    float64\n 11  dayfri         517 non-null    int64  \n 12  daymon         517 non-null    int64  \n 13  daysat         517 non-null    int64  \n 14  daysun         517 non-null    int64  \n 15  daythu         517 non-null    int64  \n 16  daytue         517 non-null    int64  \n 17  daywed         517 non-null    int64  \n 18  monthapr       517 non-null    int64  \n 19  monthaug       517 non-null    int64  \n 20  monthdec       517 non-null    int64  \n 21  monthfeb       517 non-null    int64  \n 22  monthjan       517 non-null    int64  \n 23  monthjul       517 non-null    int64  \n 24  monthjun       517 non-null    int64  \n 25  monthmar       517 non-null    int64  \n 26  monthmay       517 non-null    int64  \n 27  monthnov       517 non-null    int64  \n 28  monthoct       517 non-null    int64  \n 29  monthsep       517 non-null    int64  \n 30  size_category  517 non-null    object \ndtypes: float64(8), int64(20), object(3)\nmemory usage: 125.3+ KB\n"
        }
      ]
    },
    {
      "metadata": {
        "ExecuteTime": {
          "end_time": "2022-06-13T07:14:10.075034Z",
          "start_time": "2022-06-13T07:14:09.845014Z"
        },
        "trusted": false
      },
      "id": "172ec815",
      "cell_type": "code",
      "source": "df.describe()",
      "execution_count": 7,
      "outputs": [
        {
          "data": {
            "text/html": "<div>\n<style scoped>\n    .dataframe tbody tr th:only-of-type {\n        vertical-align: middle;\n    }\n\n    .dataframe tbody tr th {\n        vertical-align: top;\n    }\n\n    .dataframe thead th {\n        text-align: right;\n    }\n</style>\n<table border=\"1\" class=\"dataframe\">\n  <thead>\n    <tr style=\"text-align: right;\">\n      <th></th>\n      <th>FFMC</th>\n      <th>DMC</th>\n      <th>DC</th>\n      <th>ISI</th>\n      <th>temp</th>\n      <th>RH</th>\n      <th>wind</th>\n      <th>rain</th>\n      <th>area</th>\n      <th>dayfri</th>\n      <th>...</th>\n      <th>monthdec</th>\n      <th>monthfeb</th>\n      <th>monthjan</th>\n      <th>monthjul</th>\n      <th>monthjun</th>\n      <th>monthmar</th>\n      <th>monthmay</th>\n      <th>monthnov</th>\n      <th>monthoct</th>\n      <th>monthsep</th>\n    </tr>\n  </thead>\n  <tbody>\n    <tr>\n      <th>count</th>\n      <td>517.000000</td>\n      <td>517.000000</td>\n      <td>517.000000</td>\n      <td>517.000000</td>\n      <td>517.000000</td>\n      <td>517.000000</td>\n      <td>517.000000</td>\n      <td>517.000000</td>\n      <td>517.000000</td>\n      <td>517.000000</td>\n      <td>...</td>\n      <td>517.000000</td>\n      <td>517.000000</td>\n      <td>517.000000</td>\n      <td>517.000000</td>\n      <td>517.000000</td>\n      <td>517.000000</td>\n      <td>517.000000</td>\n      <td>517.000000</td>\n      <td>517.000000</td>\n      <td>517.000000</td>\n    </tr>\n    <tr>\n      <th>mean</th>\n      <td>90.644681</td>\n      <td>110.872340</td>\n      <td>547.940039</td>\n      <td>9.021663</td>\n      <td>18.889168</td>\n      <td>44.288201</td>\n      <td>4.017602</td>\n      <td>0.021663</td>\n      <td>12.847292</td>\n      <td>0.164410</td>\n      <td>...</td>\n      <td>0.017408</td>\n      <td>0.038685</td>\n      <td>0.003868</td>\n      <td>0.061896</td>\n      <td>0.032882</td>\n      <td>0.104449</td>\n      <td>0.003868</td>\n      <td>0.001934</td>\n      <td>0.029014</td>\n      <td>0.332689</td>\n    </tr>\n    <tr>\n      <th>std</th>\n      <td>5.520111</td>\n      <td>64.046482</td>\n      <td>248.066192</td>\n      <td>4.559477</td>\n      <td>5.806625</td>\n      <td>16.317469</td>\n      <td>1.791653</td>\n      <td>0.295959</td>\n      <td>63.655818</td>\n      <td>0.371006</td>\n      <td>...</td>\n      <td>0.130913</td>\n      <td>0.193029</td>\n      <td>0.062137</td>\n      <td>0.241199</td>\n      <td>0.178500</td>\n      <td>0.306138</td>\n      <td>0.062137</td>\n      <td>0.043980</td>\n      <td>0.168007</td>\n      <td>0.471632</td>\n    </tr>\n    <tr>\n      <th>min</th>\n      <td>18.700000</td>\n      <td>1.100000</td>\n      <td>7.900000</td>\n      <td>0.000000</td>\n      <td>2.200000</td>\n      <td>15.000000</td>\n      <td>0.400000</td>\n      <td>0.000000</td>\n      <td>0.000000</td>\n      <td>0.000000</td>\n      <td>...</td>\n      <td>0.000000</td>\n      <td>0.000000</td>\n      <td>0.000000</td>\n      <td>0.000000</td>\n      <td>0.000000</td>\n      <td>0.000000</td>\n      <td>0.000000</td>\n      <td>0.000000</td>\n      <td>0.000000</td>\n      <td>0.000000</td>\n    </tr>\n    <tr>\n      <th>25%</th>\n      <td>90.200000</td>\n      <td>68.600000</td>\n      <td>437.700000</td>\n      <td>6.500000</td>\n      <td>15.500000</td>\n      <td>33.000000</td>\n      <td>2.700000</td>\n      <td>0.000000</td>\n      <td>0.000000</td>\n      <td>0.000000</td>\n      <td>...</td>\n      <td>0.000000</td>\n      <td>0.000000</td>\n      <td>0.000000</td>\n      <td>0.000000</td>\n      <td>0.000000</td>\n      <td>0.000000</td>\n      <td>0.000000</td>\n      <td>0.000000</td>\n      <td>0.000000</td>\n      <td>0.000000</td>\n    </tr>\n    <tr>\n      <th>50%</th>\n      <td>91.600000</td>\n      <td>108.300000</td>\n      <td>664.200000</td>\n      <td>8.400000</td>\n      <td>19.300000</td>\n      <td>42.000000</td>\n      <td>4.000000</td>\n      <td>0.000000</td>\n      <td>0.520000</td>\n      <td>0.000000</td>\n      <td>...</td>\n      <td>0.000000</td>\n      <td>0.000000</td>\n      <td>0.000000</td>\n      <td>0.000000</td>\n      <td>0.000000</td>\n      <td>0.000000</td>\n      <td>0.000000</td>\n      <td>0.000000</td>\n      <td>0.000000</td>\n      <td>0.000000</td>\n    </tr>\n    <tr>\n      <th>75%</th>\n      <td>92.900000</td>\n      <td>142.400000</td>\n      <td>713.900000</td>\n      <td>10.800000</td>\n      <td>22.800000</td>\n      <td>53.000000</td>\n      <td>4.900000</td>\n      <td>0.000000</td>\n      <td>6.570000</td>\n      <td>0.000000</td>\n      <td>...</td>\n      <td>0.000000</td>\n      <td>0.000000</td>\n      <td>0.000000</td>\n      <td>0.000000</td>\n      <td>0.000000</td>\n      <td>0.000000</td>\n      <td>0.000000</td>\n      <td>0.000000</td>\n      <td>0.000000</td>\n      <td>1.000000</td>\n    </tr>\n    <tr>\n      <th>max</th>\n      <td>96.200000</td>\n      <td>291.300000</td>\n      <td>860.600000</td>\n      <td>56.100000</td>\n      <td>33.300000</td>\n      <td>100.000000</td>\n      <td>9.400000</td>\n      <td>6.400000</td>\n      <td>1090.840000</td>\n      <td>1.000000</td>\n      <td>...</td>\n      <td>1.000000</td>\n      <td>1.000000</td>\n      <td>1.000000</td>\n      <td>1.000000</td>\n      <td>1.000000</td>\n      <td>1.000000</td>\n      <td>1.000000</td>\n      <td>1.000000</td>\n      <td>1.000000</td>\n      <td>1.000000</td>\n    </tr>\n  </tbody>\n</table>\n<p>8 rows × 28 columns</p>\n</div>",
            "text/plain": "             FFMC         DMC          DC         ISI        temp          RH  \\\ncount  517.000000  517.000000  517.000000  517.000000  517.000000  517.000000   \nmean    90.644681  110.872340  547.940039    9.021663   18.889168   44.288201   \nstd      5.520111   64.046482  248.066192    4.559477    5.806625   16.317469   \nmin     18.700000    1.100000    7.900000    0.000000    2.200000   15.000000   \n25%     90.200000   68.600000  437.700000    6.500000   15.500000   33.000000   \n50%     91.600000  108.300000  664.200000    8.400000   19.300000   42.000000   \n75%     92.900000  142.400000  713.900000   10.800000   22.800000   53.000000   \nmax     96.200000  291.300000  860.600000   56.100000   33.300000  100.000000   \n\n             wind        rain         area      dayfri  ...    monthdec  \\\ncount  517.000000  517.000000   517.000000  517.000000  ...  517.000000   \nmean     4.017602    0.021663    12.847292    0.164410  ...    0.017408   \nstd      1.791653    0.295959    63.655818    0.371006  ...    0.130913   \nmin      0.400000    0.000000     0.000000    0.000000  ...    0.000000   \n25%      2.700000    0.000000     0.000000    0.000000  ...    0.000000   \n50%      4.000000    0.000000     0.520000    0.000000  ...    0.000000   \n75%      4.900000    0.000000     6.570000    0.000000  ...    0.000000   \nmax      9.400000    6.400000  1090.840000    1.000000  ...    1.000000   \n\n         monthfeb    monthjan    monthjul    monthjun    monthmar    monthmay  \\\ncount  517.000000  517.000000  517.000000  517.000000  517.000000  517.000000   \nmean     0.038685    0.003868    0.061896    0.032882    0.104449    0.003868   \nstd      0.193029    0.062137    0.241199    0.178500    0.306138    0.062137   \nmin      0.000000    0.000000    0.000000    0.000000    0.000000    0.000000   \n25%      0.000000    0.000000    0.000000    0.000000    0.000000    0.000000   \n50%      0.000000    0.000000    0.000000    0.000000    0.000000    0.000000   \n75%      0.000000    0.000000    0.000000    0.000000    0.000000    0.000000   \nmax      1.000000    1.000000    1.000000    1.000000    1.000000    1.000000   \n\n         monthnov    monthoct    monthsep  \ncount  517.000000  517.000000  517.000000  \nmean     0.001934    0.029014    0.332689  \nstd      0.043980    0.168007    0.471632  \nmin      0.000000    0.000000    0.000000  \n25%      0.000000    0.000000    0.000000  \n50%      0.000000    0.000000    0.000000  \n75%      0.000000    0.000000    1.000000  \nmax      1.000000    1.000000    1.000000  \n\n[8 rows x 28 columns]"
          },
          "execution_count": 7,
          "metadata": {},
          "output_type": "execute_result"
        }
      ]
    },
    {
      "metadata": {
        "ExecuteTime": {
          "end_time": "2022-06-13T07:14:25.648900Z",
          "start_time": "2022-06-13T07:14:25.631634Z"
        },
        "trusted": false
      },
      "id": "91490046",
      "cell_type": "code",
      "source": "x = df.iloc[:,:-1]\ny = df.iloc[:,-1]",
      "execution_count": 8,
      "outputs": []
    },
    {
      "metadata": {
        "ExecuteTime": {
          "end_time": "2022-06-13T07:14:41.199926Z",
          "start_time": "2022-06-13T07:14:40.863483Z"
        },
        "trusted": false
      },
      "id": "67b4fb6e",
      "cell_type": "code",
      "source": "from sklearn.preprocessing import LabelEncoder\nlabel_encoder_x=LabelEncoder()\nx=x.apply(LabelEncoder().fit_transform)\nx",
      "execution_count": 9,
      "outputs": [
        {
          "data": {
            "text/html": "<div>\n<style scoped>\n    .dataframe tbody tr th:only-of-type {\n        vertical-align: middle;\n    }\n\n    .dataframe tbody tr th {\n        vertical-align: top;\n    }\n\n    .dataframe thead th {\n        text-align: right;\n    }\n</style>\n<table border=\"1\" class=\"dataframe\">\n  <thead>\n    <tr style=\"text-align: right;\">\n      <th></th>\n      <th>month</th>\n      <th>day</th>\n      <th>FFMC</th>\n      <th>DMC</th>\n      <th>DC</th>\n      <th>ISI</th>\n      <th>temp</th>\n      <th>RH</th>\n      <th>wind</th>\n      <th>rain</th>\n      <th>...</th>\n      <th>monthdec</th>\n      <th>monthfeb</th>\n      <th>monthjan</th>\n      <th>monthjul</th>\n      <th>monthjun</th>\n      <th>monthmar</th>\n      <th>monthmay</th>\n      <th>monthnov</th>\n      <th>monthoct</th>\n      <th>monthsep</th>\n    </tr>\n  </thead>\n  <tbody>\n    <tr>\n      <th>0</th>\n      <td>7</td>\n      <td>0</td>\n      <td>28</td>\n      <td>37</td>\n      <td>41</td>\n      <td>29</td>\n      <td>12</td>\n      <td>34</td>\n      <td>14</td>\n      <td>0</td>\n      <td>...</td>\n      <td>0</td>\n      <td>0</td>\n      <td>0</td>\n      <td>0</td>\n      <td>0</td>\n      <td>1</td>\n      <td>0</td>\n      <td>0</td>\n      <td>0</td>\n      <td>0</td>\n    </tr>\n    <tr>\n      <th>1</th>\n      <td>10</td>\n      <td>5</td>\n      <td>56</td>\n      <td>49</td>\n      <td>144</td>\n      <td>42</td>\n      <td>85</td>\n      <td>16</td>\n      <td>1</td>\n      <td>0</td>\n      <td>...</td>\n      <td>0</td>\n      <td>0</td>\n      <td>0</td>\n      <td>0</td>\n      <td>0</td>\n      <td>0</td>\n      <td>0</td>\n      <td>0</td>\n      <td>1</td>\n      <td>0</td>\n    </tr>\n    <tr>\n      <th>2</th>\n      <td>10</td>\n      <td>2</td>\n      <td>56</td>\n      <td>56</td>\n      <td>156</td>\n      <td>42</td>\n      <td>55</td>\n      <td>16</td>\n      <td>2</td>\n      <td>0</td>\n      <td>...</td>\n      <td>0</td>\n      <td>0</td>\n      <td>0</td>\n      <td>0</td>\n      <td>0</td>\n      <td>0</td>\n      <td>0</td>\n      <td>0</td>\n      <td>1</td>\n      <td>0</td>\n    </tr>\n    <tr>\n      <th>3</th>\n      <td>7</td>\n      <td>0</td>\n      <td>67</td>\n      <td>48</td>\n      <td>33</td>\n      <td>64</td>\n      <td>13</td>\n      <td>72</td>\n      <td>8</td>\n      <td>1</td>\n      <td>...</td>\n      <td>0</td>\n      <td>0</td>\n      <td>0</td>\n      <td>0</td>\n      <td>0</td>\n      <td>1</td>\n      <td>0</td>\n      <td>0</td>\n      <td>0</td>\n      <td>0</td>\n    </tr>\n    <tr>\n      <th>4</th>\n      <td>7</td>\n      <td>3</td>\n      <td>46</td>\n      <td>66</td>\n      <td>46</td>\n      <td>68</td>\n      <td>30</td>\n      <td>73</td>\n      <td>3</td>\n      <td>0</td>\n      <td>...</td>\n      <td>0</td>\n      <td>0</td>\n      <td>0</td>\n      <td>0</td>\n      <td>0</td>\n      <td>1</td>\n      <td>0</td>\n      <td>0</td>\n      <td>0</td>\n      <td>0</td>\n    </tr>\n    <tr>\n      <th>...</th>\n      <td>...</td>\n      <td>...</td>\n      <td>...</td>\n      <td>...</td>\n      <td>...</td>\n      <td>...</td>\n      <td>...</td>\n      <td>...</td>\n      <td>...</td>\n      <td>...</td>\n      <td>...</td>\n      <td>...</td>\n      <td>...</td>\n      <td>...</td>\n      <td>...</td>\n      <td>...</td>\n      <td>...</td>\n      <td>...</td>\n      <td>...</td>\n      <td>...</td>\n      <td>...</td>\n    </tr>\n    <tr>\n      <th>512</th>\n      <td>1</td>\n      <td>3</td>\n      <td>9</td>\n      <td>71</td>\n      <td>141</td>\n      <td>7</td>\n      <td>172</td>\n      <td>15</td>\n      <td>5</td>\n      <td>0</td>\n      <td>...</td>\n      <td>0</td>\n      <td>0</td>\n      <td>0</td>\n      <td>0</td>\n      <td>0</td>\n      <td>0</td>\n      <td>0</td>\n      <td>0</td>\n      <td>0</td>\n      <td>0</td>\n    </tr>\n    <tr>\n      <th>513</th>\n      <td>1</td>\n      <td>3</td>\n      <td>9</td>\n      <td>71</td>\n      <td>141</td>\n      <td>7</td>\n      <td>123</td>\n      <td>54</td>\n      <td>12</td>\n      <td>0</td>\n      <td>...</td>\n      <td>0</td>\n      <td>0</td>\n      <td>0</td>\n      <td>0</td>\n      <td>0</td>\n      <td>0</td>\n      <td>0</td>\n      <td>0</td>\n      <td>0</td>\n      <td>0</td>\n    </tr>\n    <tr>\n      <th>514</th>\n      <td>1</td>\n      <td>3</td>\n      <td>9</td>\n      <td>71</td>\n      <td>141</td>\n      <td>7</td>\n      <td>116</td>\n      <td>53</td>\n      <td>14</td>\n      <td>0</td>\n      <td>...</td>\n      <td>0</td>\n      <td>0</td>\n      <td>0</td>\n      <td>0</td>\n      <td>0</td>\n      <td>0</td>\n      <td>0</td>\n      <td>0</td>\n      <td>0</td>\n      <td>0</td>\n    </tr>\n    <tr>\n      <th>515</th>\n      <td>1</td>\n      <td>2</td>\n      <td>92</td>\n      <td>168</td>\n      <td>122</td>\n      <td>80</td>\n      <td>156</td>\n      <td>25</td>\n      <td>8</td>\n      <td>0</td>\n      <td>...</td>\n      <td>0</td>\n      <td>0</td>\n      <td>0</td>\n      <td>0</td>\n      <td>0</td>\n      <td>0</td>\n      <td>0</td>\n      <td>0</td>\n      <td>0</td>\n      <td>0</td>\n    </tr>\n    <tr>\n      <th>516</th>\n      <td>9</td>\n      <td>5</td>\n      <td>7</td>\n      <td>2</td>\n      <td>48</td>\n      <td>4</td>\n      <td>34</td>\n      <td>14</td>\n      <td>9</td>\n      <td>0</td>\n      <td>...</td>\n      <td>0</td>\n      <td>0</td>\n      <td>0</td>\n      <td>0</td>\n      <td>0</td>\n      <td>0</td>\n      <td>0</td>\n      <td>1</td>\n      <td>0</td>\n      <td>0</td>\n    </tr>\n  </tbody>\n</table>\n<p>517 rows × 30 columns</p>\n</div>",
            "text/plain": "     month  day  FFMC  DMC   DC  ISI  temp  RH  wind  rain  ...  monthdec  \\\n0        7    0    28   37   41   29    12  34    14     0  ...         0   \n1       10    5    56   49  144   42    85  16     1     0  ...         0   \n2       10    2    56   56  156   42    55  16     2     0  ...         0   \n3        7    0    67   48   33   64    13  72     8     1  ...         0   \n4        7    3    46   66   46   68    30  73     3     0  ...         0   \n..     ...  ...   ...  ...  ...  ...   ...  ..   ...   ...  ...       ...   \n512      1    3     9   71  141    7   172  15     5     0  ...         0   \n513      1    3     9   71  141    7   123  54    12     0  ...         0   \n514      1    3     9   71  141    7   116  53    14     0  ...         0   \n515      1    2    92  168  122   80   156  25     8     0  ...         0   \n516      9    5     7    2   48    4    34  14     9     0  ...         0   \n\n     monthfeb  monthjan  monthjul  monthjun  monthmar  monthmay  monthnov  \\\n0           0         0         0         0         1         0         0   \n1           0         0         0         0         0         0         0   \n2           0         0         0         0         0         0         0   \n3           0         0         0         0         1         0         0   \n4           0         0         0         0         1         0         0   \n..        ...       ...       ...       ...       ...       ...       ...   \n512         0         0         0         0         0         0         0   \n513         0         0         0         0         0         0         0   \n514         0         0         0         0         0         0         0   \n515         0         0         0         0         0         0         0   \n516         0         0         0         0         0         0         1   \n\n     monthoct  monthsep  \n0           0         0  \n1           1         0  \n2           1         0  \n3           0         0  \n4           0         0  \n..        ...       ...  \n512         0         0  \n513         0         0  \n514         0         0  \n515         0         0  \n516         0         0  \n\n[517 rows x 30 columns]"
          },
          "execution_count": 9,
          "metadata": {},
          "output_type": "execute_result"
        }
      ]
    },
    {
      "metadata": {
        "ExecuteTime": {
          "end_time": "2022-06-13T07:14:56.105208Z",
          "start_time": "2022-06-13T07:14:56.077566Z"
        },
        "trusted": false
      },
      "id": "ec41d076",
      "cell_type": "code",
      "source": "y = pd.DataFrame(y)\nlabel_encoder_y = LabelEncoder()\ny = y.apply(LabelEncoder().fit_transform)\ny",
      "execution_count": 10,
      "outputs": [
        {
          "data": {
            "text/html": "<div>\n<style scoped>\n    .dataframe tbody tr th:only-of-type {\n        vertical-align: middle;\n    }\n\n    .dataframe tbody tr th {\n        vertical-align: top;\n    }\n\n    .dataframe thead th {\n        text-align: right;\n    }\n</style>\n<table border=\"1\" class=\"dataframe\">\n  <thead>\n    <tr style=\"text-align: right;\">\n      <th></th>\n      <th>size_category</th>\n    </tr>\n  </thead>\n  <tbody>\n    <tr>\n      <th>0</th>\n      <td>1</td>\n    </tr>\n    <tr>\n      <th>1</th>\n      <td>1</td>\n    </tr>\n    <tr>\n      <th>2</th>\n      <td>1</td>\n    </tr>\n    <tr>\n      <th>3</th>\n      <td>1</td>\n    </tr>\n    <tr>\n      <th>4</th>\n      <td>1</td>\n    </tr>\n    <tr>\n      <th>...</th>\n      <td>...</td>\n    </tr>\n    <tr>\n      <th>512</th>\n      <td>0</td>\n    </tr>\n    <tr>\n      <th>513</th>\n      <td>0</td>\n    </tr>\n    <tr>\n      <th>514</th>\n      <td>0</td>\n    </tr>\n    <tr>\n      <th>515</th>\n      <td>1</td>\n    </tr>\n    <tr>\n      <th>516</th>\n      <td>1</td>\n    </tr>\n  </tbody>\n</table>\n<p>517 rows × 1 columns</p>\n</div>",
            "text/plain": "     size_category\n0                1\n1                1\n2                1\n3                1\n4                1\n..             ...\n512              0\n513              0\n514              0\n515              1\n516              1\n\n[517 rows x 1 columns]"
          },
          "execution_count": 10,
          "metadata": {},
          "output_type": "execute_result"
        }
      ]
    },
    {
      "metadata": {
        "ExecuteTime": {
          "end_time": "2022-06-13T07:15:22.181309Z",
          "start_time": "2022-06-13T07:15:22.175108Z"
        },
        "trusted": false
      },
      "id": "d96d5d84",
      "cell_type": "code",
      "source": "seed = 7\nnp.random.seed(seed)",
      "execution_count": 12,
      "outputs": []
    },
    {
      "metadata": {
        "ExecuteTime": {
          "end_time": "2022-06-13T07:15:36.233325Z",
          "start_time": "2022-06-13T07:15:33.999079Z"
        },
        "trusted": false
      },
      "id": "d33775c5",
      "cell_type": "code",
      "source": "from keras.models import Sequential\nfrom keras.layers import Dense\nmodel = Sequential()\nmodel.add(Dense(12, input_dim=30, kernel_initializer='uniform', activation='relu'))\nmodel.add(Dense(8, kernel_initializer='uniform', activation='relu'))\nmodel.add(Dense(1, kernel_initializer='uniform', activation='sigmoid'))",
      "execution_count": 13,
      "outputs": []
    },
    {
      "metadata": {
        "ExecuteTime": {
          "end_time": "2022-06-13T07:15:48.666730Z",
          "start_time": "2022-06-13T07:15:48.643825Z"
        },
        "trusted": false
      },
      "id": "aae03daa",
      "cell_type": "code",
      "source": "model.compile(loss='binary_crossentropy', optimizer='adam', metrics=['accuracy'])",
      "execution_count": 14,
      "outputs": []
    },
    {
      "metadata": {
        "ExecuteTime": {
          "end_time": "2022-06-13T07:16:47.947025Z",
          "start_time": "2022-06-13T07:16:08.398992Z"
        },
        "trusted": false
      },
      "id": "b58f0862",
      "cell_type": "code",
      "source": "history= model.fit(x, y, validation_split=0.33, epochs=150, batch_size=10)",
      "execution_count": 15,
      "outputs": [
        {
          "name": "stdout",
          "output_type": "stream",
          "text": "Epoch 1/150\n35/35 [==============================] - 3s 30ms/step - loss: 0.6704 - accuracy: 0.7543 - val_loss: 0.6373 - val_accuracy: 0.6784\nEpoch 2/150\n35/35 [==============================] - 0s 7ms/step - loss: 0.5263 - accuracy: 0.7746 - val_loss: 0.5430 - val_accuracy: 0.6959\nEpoch 3/150\n35/35 [==============================] - 0s 9ms/step - loss: 0.3512 - accuracy: 0.8786 - val_loss: 0.3577 - val_accuracy: 0.8012\nEpoch 4/150\n35/35 [==============================] - 0s 7ms/step - loss: 0.2111 - accuracy: 0.9393 - val_loss: 0.2201 - val_accuracy: 0.9006\nEpoch 5/150\n35/35 [==============================] - 0s 6ms/step - loss: 0.1333 - accuracy: 0.9711 - val_loss: 0.1644 - val_accuracy: 0.9298\nEpoch 6/150\n35/35 [==============================] - 0s 6ms/step - loss: 0.0956 - accuracy: 0.9798 - val_loss: 0.1483 - val_accuracy: 0.9415\nEpoch 7/150\n35/35 [==============================] - 0s 7ms/step - loss: 0.0769 - accuracy: 0.9827 - val_loss: 0.1479 - val_accuracy: 0.9357\nEpoch 8/150\n35/35 [==============================] - 0s 7ms/step - loss: 0.0724 - accuracy: 0.9798 - val_loss: 0.1186 - val_accuracy: 0.9532\nEpoch 9/150\n35/35 [==============================] - 0s 10ms/step - loss: 0.0706 - accuracy: 0.9798 - val_loss: 0.1155 - val_accuracy: 0.9532\nEpoch 10/150\n35/35 [==============================] - 0s 8ms/step - loss: 0.0629 - accuracy: 0.9827 - val_loss: 0.1340 - val_accuracy: 0.9532\nEpoch 11/150\n35/35 [==============================] - 0s 5ms/step - loss: 0.0589 - accuracy: 0.9855 - val_loss: 0.1138 - val_accuracy: 0.9532\nEpoch 12/150\n35/35 [==============================] - 0s 7ms/step - loss: 0.0625 - accuracy: 0.9798 - val_loss: 0.1447 - val_accuracy: 0.9357\nEpoch 13/150\n35/35 [==============================] - 0s 9ms/step - loss: 0.0547 - accuracy: 0.9827 - val_loss: 0.1352 - val_accuracy: 0.9415\nEpoch 14/150\n35/35 [==============================] - 0s 9ms/step - loss: 0.0561 - accuracy: 0.9798 - val_loss: 0.1108 - val_accuracy: 0.9474\nEpoch 15/150\n35/35 [==============================] - 0s 7ms/step - loss: 0.0575 - accuracy: 0.9827 - val_loss: 0.1078 - val_accuracy: 0.9415\nEpoch 16/150\n35/35 [==============================] - 0s 6ms/step - loss: 0.0537 - accuracy: 0.9798 - val_loss: 0.1406 - val_accuracy: 0.9415\nEpoch 17/150\n35/35 [==============================] - 0s 5ms/step - loss: 0.0476 - accuracy: 0.9798 - val_loss: 0.1710 - val_accuracy: 0.9240\nEpoch 18/150\n35/35 [==============================] - 0s 7ms/step - loss: 0.0499 - accuracy: 0.9827 - val_loss: 0.1199 - val_accuracy: 0.9474\nEpoch 19/150\n35/35 [==============================] - 0s 5ms/step - loss: 0.0464 - accuracy: 0.9827 - val_loss: 0.1820 - val_accuracy: 0.9181\nEpoch 20/150\n35/35 [==============================] - 0s 5ms/step - loss: 0.0482 - accuracy: 0.9827 - val_loss: 0.1235 - val_accuracy: 0.9474\nEpoch 21/150\n35/35 [==============================] - 0s 6ms/step - loss: 0.0521 - accuracy: 0.9769 - val_loss: 0.2032 - val_accuracy: 0.9064\nEpoch 22/150\n35/35 [==============================] - 0s 12ms/step - loss: 0.0492 - accuracy: 0.9827 - val_loss: 0.1112 - val_accuracy: 0.9474\nEpoch 23/150\n35/35 [==============================] - 0s 7ms/step - loss: 0.0445 - accuracy: 0.9798 - val_loss: 0.1211 - val_accuracy: 0.9415\nEpoch 24/150\n35/35 [==============================] - 0s 8ms/step - loss: 0.0421 - accuracy: 0.9798 - val_loss: 0.2046 - val_accuracy: 0.9181\nEpoch 25/150\n35/35 [==============================] - 0s 10ms/step - loss: 0.0533 - accuracy: 0.9798 - val_loss: 0.1400 - val_accuracy: 0.9415\nEpoch 26/150\n35/35 [==============================] - 0s 9ms/step - loss: 0.0451 - accuracy: 0.9798 - val_loss: 0.1100 - val_accuracy: 0.9357\nEpoch 27/150\n35/35 [==============================] - 0s 7ms/step - loss: 0.0387 - accuracy: 0.9827 - val_loss: 0.2192 - val_accuracy: 0.9123\nEpoch 28/150\n35/35 [==============================] - 0s 10ms/step - loss: 0.0446 - accuracy: 0.9798 - val_loss: 0.1484 - val_accuracy: 0.9357\nEpoch 29/150\n35/35 [==============================] - 0s 10ms/step - loss: 0.0378 - accuracy: 0.9827 - val_loss: 0.1867 - val_accuracy: 0.9240\nEpoch 30/150\n35/35 [==============================] - 0s 11ms/step - loss: 0.0396 - accuracy: 0.9798 - val_loss: 0.1269 - val_accuracy: 0.9357\nEpoch 31/150\n35/35 [==============================] - 0s 12ms/step - loss: 0.0405 - accuracy: 0.9827 - val_loss: 0.1464 - val_accuracy: 0.9415\nEpoch 32/150\n35/35 [==============================] - 0s 9ms/step - loss: 0.0513 - accuracy: 0.9798 - val_loss: 0.1565 - val_accuracy: 0.9357\nEpoch 33/150\n35/35 [==============================] - 0s 5ms/step - loss: 0.0401 - accuracy: 0.9855 - val_loss: 0.2043 - val_accuracy: 0.9181\nEpoch 34/150\n35/35 [==============================] - 0s 12ms/step - loss: 0.0407 - accuracy: 0.9855 - val_loss: 0.1933 - val_accuracy: 0.9181\nEpoch 35/150\n35/35 [==============================] - 0s 10ms/step - loss: 0.0369 - accuracy: 0.9884 - val_loss: 0.1411 - val_accuracy: 0.9357\nEpoch 36/150\n35/35 [==============================] - 0s 7ms/step - loss: 0.0404 - accuracy: 0.9827 - val_loss: 0.1307 - val_accuracy: 0.9357\nEpoch 37/150\n35/35 [==============================] - 0s 10ms/step - loss: 0.0466 - accuracy: 0.9798 - val_loss: 0.1265 - val_accuracy: 0.9357\nEpoch 38/150\n35/35 [==============================] - 0s 9ms/step - loss: 0.0341 - accuracy: 0.9855 - val_loss: 0.1751 - val_accuracy: 0.9298\nEpoch 39/150\n35/35 [==============================] - 0s 11ms/step - loss: 0.0432 - accuracy: 0.9827 - val_loss: 0.1205 - val_accuracy: 0.9240\nEpoch 40/150\n35/35 [==============================] - 0s 8ms/step - loss: 0.0357 - accuracy: 0.9855 - val_loss: 0.2204 - val_accuracy: 0.9181\nEpoch 41/150\n35/35 [==============================] - 0s 6ms/step - loss: 0.0399 - accuracy: 0.9798 - val_loss: 0.1751 - val_accuracy: 0.9298\nEpoch 42/150\n35/35 [==============================] - 0s 11ms/step - loss: 0.0328 - accuracy: 0.9913 - val_loss: 0.2387 - val_accuracy: 0.9123\nEpoch 43/150\n35/35 [==============================] - 0s 5ms/step - loss: 0.0351 - accuracy: 0.9855 - val_loss: 0.1641 - val_accuracy: 0.9298\nEpoch 44/150\n35/35 [==============================] - 0s 8ms/step - loss: 0.0338 - accuracy: 0.9827 - val_loss: 0.1754 - val_accuracy: 0.9298\nEpoch 45/150\n35/35 [==============================] - 0s 9ms/step - loss: 0.0326 - accuracy: 0.9827 - val_loss: 0.1654 - val_accuracy: 0.9298\nEpoch 46/150\n35/35 [==============================] - 0s 9ms/step - loss: 0.0335 - accuracy: 0.9827 - val_loss: 0.1528 - val_accuracy: 0.9298\nEpoch 47/150\n35/35 [==============================] - 0s 6ms/step - loss: 0.0349 - accuracy: 0.9798 - val_loss: 0.2084 - val_accuracy: 0.9240\nEpoch 48/150\n35/35 [==============================] - 0s 5ms/step - loss: 0.0346 - accuracy: 0.9855 - val_loss: 0.1933 - val_accuracy: 0.9298\nEpoch 49/150\n35/35 [==============================] - 0s 6ms/step - loss: 0.0330 - accuracy: 0.9855 - val_loss: 0.2185 - val_accuracy: 0.9240\nEpoch 50/150\n35/35 [==============================] - 0s 8ms/step - loss: 0.0306 - accuracy: 0.9855 - val_loss: 0.1578 - val_accuracy: 0.9298\nEpoch 51/150\n35/35 [==============================] - 0s 6ms/step - loss: 0.0361 - accuracy: 0.9884 - val_loss: 0.2895 - val_accuracy: 0.9123\nEpoch 52/150\n35/35 [==============================] - 0s 10ms/step - loss: 0.0276 - accuracy: 0.9913 - val_loss: 0.1607 - val_accuracy: 0.9298\nEpoch 53/150\n35/35 [==============================] - 0s 10ms/step - loss: 0.0384 - accuracy: 0.9798 - val_loss: 0.1675 - val_accuracy: 0.9298\nEpoch 54/150\n35/35 [==============================] - 0s 7ms/step - loss: 0.0335 - accuracy: 0.9855 - val_loss: 0.2006 - val_accuracy: 0.9240\nEpoch 55/150\n35/35 [==============================] - 0s 5ms/step - loss: 0.0317 - accuracy: 0.9855 - val_loss: 0.1575 - val_accuracy: 0.9298\nEpoch 56/150\n35/35 [==============================] - 0s 5ms/step - loss: 0.0282 - accuracy: 0.9913 - val_loss: 0.2675 - val_accuracy: 0.9240\nEpoch 57/150\n35/35 [==============================] - 0s 6ms/step - loss: 0.0372 - accuracy: 0.9827 - val_loss: 0.2130 - val_accuracy: 0.9240\nEpoch 58/150\n35/35 [==============================] - 0s 6ms/step - loss: 0.0279 - accuracy: 0.9884 - val_loss: 0.1613 - val_accuracy: 0.9298\nEpoch 59/150\n35/35 [==============================] - 0s 6ms/step - loss: 0.0326 - accuracy: 0.9855 - val_loss: 0.1832 - val_accuracy: 0.9298\nEpoch 60/150\n35/35 [==============================] - 0s 5ms/step - loss: 0.0318 - accuracy: 0.9827 - val_loss: 0.2065 - val_accuracy: 0.9240\nEpoch 61/150\n35/35 [==============================] - 0s 5ms/step - loss: 0.0369 - accuracy: 0.9827 - val_loss: 0.1954 - val_accuracy: 0.9298\nEpoch 62/150\n35/35 [==============================] - 0s 11ms/step - loss: 0.0323 - accuracy: 0.9884 - val_loss: 0.2768 - val_accuracy: 0.9240\nEpoch 63/150\n35/35 [==============================] - 0s 11ms/step - loss: 0.0322 - accuracy: 0.9855 - val_loss: 0.2038 - val_accuracy: 0.9298\nEpoch 64/150\n35/35 [==============================] - 0s 10ms/step - loss: 0.0295 - accuracy: 0.9884 - val_loss: 0.2510 - val_accuracy: 0.9240\nEpoch 65/150\n35/35 [==============================] - 0s 9ms/step - loss: 0.0273 - accuracy: 0.9855 - val_loss: 0.1686 - val_accuracy: 0.9298\nEpoch 66/150\n35/35 [==============================] - 0s 8ms/step - loss: 0.0341 - accuracy: 0.9827 - val_loss: 0.1838 - val_accuracy: 0.9357\nEpoch 67/150\n35/35 [==============================] - 0s 8ms/step - loss: 0.0265 - accuracy: 0.9913 - val_loss: 0.3662 - val_accuracy: 0.8947\nEpoch 68/150\n35/35 [==============================] - 0s 5ms/step - loss: 0.0339 - accuracy: 0.9798 - val_loss: 0.1959 - val_accuracy: 0.9357\nEpoch 69/150\n35/35 [==============================] - 0s 6ms/step - loss: 0.0347 - accuracy: 0.9855 - val_loss: 0.2107 - val_accuracy: 0.9357\nEpoch 70/150\n35/35 [==============================] - 0s 6ms/step - loss: 0.0304 - accuracy: 0.9855 - val_loss: 0.2435 - val_accuracy: 0.9240\nEpoch 71/150\n35/35 [==============================] - 0s 6ms/step - loss: 0.0281 - accuracy: 0.9855 - val_loss: 0.2304 - val_accuracy: 0.9298\nEpoch 72/150\n35/35 [==============================] - 0s 6ms/step - loss: 0.0276 - accuracy: 0.9884 - val_loss: 0.2319 - val_accuracy: 0.9298\nEpoch 73/150\n35/35 [==============================] - 0s 6ms/step - loss: 0.0266 - accuracy: 0.9913 - val_loss: 0.2827 - val_accuracy: 0.9240\nEpoch 74/150\n35/35 [==============================] - 0s 6ms/step - loss: 0.0264 - accuracy: 0.9855 - val_loss: 0.2604 - val_accuracy: 0.9298\nEpoch 75/150\n35/35 [==============================] - 0s 7ms/step - loss: 0.0295 - accuracy: 0.9827 - val_loss: 0.2106 - val_accuracy: 0.9357\nEpoch 76/150\n35/35 [==============================] - 0s 7ms/step - loss: 0.0282 - accuracy: 0.9855 - val_loss: 0.2302 - val_accuracy: 0.9298\nEpoch 77/150\n35/35 [==============================] - 0s 7ms/step - loss: 0.0277 - accuracy: 0.9855 - val_loss: 0.1972 - val_accuracy: 0.9357\nEpoch 78/150\n35/35 [==============================] - 0s 7ms/step - loss: 0.0331 - accuracy: 0.9855 - val_loss: 0.1669 - val_accuracy: 0.9240\nEpoch 79/150\n35/35 [==============================] - 0s 6ms/step - loss: 0.0295 - accuracy: 0.9827 - val_loss: 0.1796 - val_accuracy: 0.9298\nEpoch 80/150\n35/35 [==============================] - 0s 7ms/step - loss: 0.0326 - accuracy: 0.9827 - val_loss: 0.2124 - val_accuracy: 0.9357\nEpoch 81/150\n35/35 [==============================] - 0s 5ms/step - loss: 0.0303 - accuracy: 0.9855 - val_loss: 0.2768 - val_accuracy: 0.9298\nEpoch 82/150\n35/35 [==============================] - 0s 4ms/step - loss: 0.0287 - accuracy: 0.9855 - val_loss: 0.2385 - val_accuracy: 0.9298\nEpoch 83/150\n35/35 [==============================] - 0s 7ms/step - loss: 0.0294 - accuracy: 0.9884 - val_loss: 0.4190 - val_accuracy: 0.9006\nEpoch 84/150\n35/35 [==============================] - 0s 6ms/step - loss: 0.0396 - accuracy: 0.9827 - val_loss: 0.2246 - val_accuracy: 0.9357\nEpoch 85/150\n35/35 [==============================] - 0s 6ms/step - loss: 0.0261 - accuracy: 0.9884 - val_loss: 0.2117 - val_accuracy: 0.9357\nEpoch 86/150\n35/35 [==============================] - 0s 6ms/step - loss: 0.0242 - accuracy: 0.9913 - val_loss: 0.2566 - val_accuracy: 0.9240\nEpoch 87/150\n35/35 [==============================] - 0s 7ms/step - loss: 0.0333 - accuracy: 0.9884 - val_loss: 0.1954 - val_accuracy: 0.9357\nEpoch 88/150\n35/35 [==============================] - 0s 7ms/step - loss: 0.0261 - accuracy: 0.9913 - val_loss: 0.2829 - val_accuracy: 0.9298\nEpoch 89/150\n35/35 [==============================] - 0s 6ms/step - loss: 0.0225 - accuracy: 0.9884 - val_loss: 0.3090 - val_accuracy: 0.9298\nEpoch 90/150\n35/35 [==============================] - 0s 5ms/step - loss: 0.0253 - accuracy: 0.9884 - val_loss: 0.1967 - val_accuracy: 0.9298\nEpoch 91/150\n35/35 [==============================] - 0s 5ms/step - loss: 0.0242 - accuracy: 0.9884 - val_loss: 0.2551 - val_accuracy: 0.9357\nEpoch 92/150\n35/35 [==============================] - 0s 5ms/step - loss: 0.0207 - accuracy: 0.9942 - val_loss: 0.2104 - val_accuracy: 0.9415\nEpoch 93/150\n35/35 [==============================] - 0s 5ms/step - loss: 0.0250 - accuracy: 0.9913 - val_loss: 0.2377 - val_accuracy: 0.9474\nEpoch 94/150\n35/35 [==============================] - 0s 5ms/step - loss: 0.0210 - accuracy: 0.9913 - val_loss: 0.2588 - val_accuracy: 0.9298\nEpoch 95/150\n35/35 [==============================] - 0s 5ms/step - loss: 0.0193 - accuracy: 0.9942 - val_loss: 0.2939 - val_accuracy: 0.9298\nEpoch 96/150\n35/35 [==============================] - 0s 5ms/step - loss: 0.0208 - accuracy: 0.9884 - val_loss: 0.2220 - val_accuracy: 0.9474\nEpoch 97/150\n35/35 [==============================] - 0s 7ms/step - loss: 0.0166 - accuracy: 0.9913 - val_loss: 0.4149 - val_accuracy: 0.9181\nEpoch 98/150\n35/35 [==============================] - 0s 8ms/step - loss: 0.0304 - accuracy: 0.9913 - val_loss: 0.2992 - val_accuracy: 0.9298\nEpoch 99/150\n35/35 [==============================] - 0s 12ms/step - loss: 0.0207 - accuracy: 0.9942 - val_loss: 0.2701 - val_accuracy: 0.9357\nEpoch 100/150\n35/35 [==============================] - 0s 7ms/step - loss: 0.0203 - accuracy: 0.9942 - val_loss: 0.3908 - val_accuracy: 0.9357\nEpoch 101/150\n35/35 [==============================] - 0s 10ms/step - loss: 0.0298 - accuracy: 0.9884 - val_loss: 0.3251 - val_accuracy: 0.9298\nEpoch 102/150\n35/35 [==============================] - 0s 8ms/step - loss: 0.0159 - accuracy: 0.9971 - val_loss: 0.1977 - val_accuracy: 0.9298\nEpoch 103/150\n35/35 [==============================] - 0s 6ms/step - loss: 0.0321 - accuracy: 0.9884 - val_loss: 0.1976 - val_accuracy: 0.9298\nEpoch 104/150\n35/35 [==============================] - 0s 9ms/step - loss: 0.0244 - accuracy: 0.9942 - val_loss: 0.2738 - val_accuracy: 0.9357\nEpoch 105/150\n35/35 [==============================] - 0s 10ms/step - loss: 0.0230 - accuracy: 0.9913 - val_loss: 0.2130 - val_accuracy: 0.9415\nEpoch 106/150\n35/35 [==============================] - 0s 10ms/step - loss: 0.0248 - accuracy: 0.9913 - val_loss: 0.2373 - val_accuracy: 0.9474\nEpoch 107/150\n35/35 [==============================] - 0s 6ms/step - loss: 0.0218 - accuracy: 0.9884 - val_loss: 0.2142 - val_accuracy: 0.9415\nEpoch 108/150\n35/35 [==============================] - 0s 12ms/step - loss: 0.0150 - accuracy: 0.9942 - val_loss: 0.3408 - val_accuracy: 0.9298\nEpoch 109/150\n35/35 [==============================] - 0s 10ms/step - loss: 0.0387 - accuracy: 0.9827 - val_loss: 0.3420 - val_accuracy: 0.9298\nEpoch 110/150\n35/35 [==============================] - 0s 10ms/step - loss: 0.0199 - accuracy: 0.9913 - val_loss: 0.2179 - val_accuracy: 0.9357\nEpoch 111/150\n35/35 [==============================] - 0s 9ms/step - loss: 0.0194 - accuracy: 0.9913 - val_loss: 0.3578 - val_accuracy: 0.9357\nEpoch 112/150\n35/35 [==============================] - 0s 5ms/step - loss: 0.0273 - accuracy: 0.9884 - val_loss: 0.3120 - val_accuracy: 0.9298\nEpoch 113/150\n35/35 [==============================] - 0s 6ms/step - loss: 0.0292 - accuracy: 0.9913 - val_loss: 0.4153 - val_accuracy: 0.9357\nEpoch 114/150\n35/35 [==============================] - 0s 6ms/step - loss: 0.0221 - accuracy: 0.9971 - val_loss: 0.2203 - val_accuracy: 0.9357\nEpoch 115/150\n35/35 [==============================] - 0s 6ms/step - loss: 0.0262 - accuracy: 0.9884 - val_loss: 0.2462 - val_accuracy: 0.9474\nEpoch 116/150\n35/35 [==============================] - 0s 6ms/step - loss: 0.0184 - accuracy: 0.9942 - val_loss: 0.2591 - val_accuracy: 0.9474\nEpoch 117/150\n35/35 [==============================] - 0s 5ms/step - loss: 0.0198 - accuracy: 0.9942 - val_loss: 0.3657 - val_accuracy: 0.9298\nEpoch 118/150\n35/35 [==============================] - 0s 5ms/step - loss: 0.0228 - accuracy: 0.9942 - val_loss: 0.2596 - val_accuracy: 0.9474\nEpoch 119/150\n35/35 [==============================] - 0s 5ms/step - loss: 0.0199 - accuracy: 0.9942 - val_loss: 0.2584 - val_accuracy: 0.9474\nEpoch 120/150\n35/35 [==============================] - 0s 7ms/step - loss: 0.0233 - accuracy: 0.9942 - val_loss: 0.5545 - val_accuracy: 0.9123\nEpoch 121/150\n35/35 [==============================] - 0s 5ms/step - loss: 0.0306 - accuracy: 0.9913 - val_loss: 0.3054 - val_accuracy: 0.9357\nEpoch 122/150\n35/35 [==============================] - 0s 5ms/step - loss: 0.0245 - accuracy: 0.9913 - val_loss: 0.3274 - val_accuracy: 0.9298\nEpoch 123/150\n35/35 [==============================] - 0s 5ms/step - loss: 0.0177 - accuracy: 0.9942 - val_loss: 0.2225 - val_accuracy: 0.9357\nEpoch 124/150\n35/35 [==============================] - 0s 5ms/step - loss: 0.0211 - accuracy: 0.9942 - val_loss: 0.2728 - val_accuracy: 0.9474\nEpoch 125/150\n35/35 [==============================] - 0s 5ms/step - loss: 0.0155 - accuracy: 0.9942 - val_loss: 0.4438 - val_accuracy: 0.9240\nEpoch 126/150\n35/35 [==============================] - 0s 5ms/step - loss: 0.0201 - accuracy: 0.9942 - val_loss: 0.2772 - val_accuracy: 0.9474\nEpoch 127/150\n35/35 [==============================] - 0s 5ms/step - loss: 0.0158 - accuracy: 0.9971 - val_loss: 0.3493 - val_accuracy: 0.9240\nEpoch 128/150\n35/35 [==============================] - 0s 5ms/step - loss: 0.0206 - accuracy: 0.9942 - val_loss: 0.3270 - val_accuracy: 0.9298\nEpoch 129/150\n35/35 [==============================] - 0s 5ms/step - loss: 0.0194 - accuracy: 0.9913 - val_loss: 0.2765 - val_accuracy: 0.9474\nEpoch 130/150\n35/35 [==============================] - 0s 5ms/step - loss: 0.0172 - accuracy: 0.9942 - val_loss: 0.2946 - val_accuracy: 0.9357\nEpoch 131/150\n35/35 [==============================] - 0s 5ms/step - loss: 0.0170 - accuracy: 0.9942 - val_loss: 0.2982 - val_accuracy: 0.9357\nEpoch 132/150\n35/35 [==============================] - 0s 5ms/step - loss: 0.0162 - accuracy: 0.9942 - val_loss: 0.3437 - val_accuracy: 0.9298\nEpoch 133/150\n35/35 [==============================] - 0s 5ms/step - loss: 0.0169 - accuracy: 0.9942 - val_loss: 0.3322 - val_accuracy: 0.9298\nEpoch 134/150\n35/35 [==============================] - 0s 5ms/step - loss: 0.0143 - accuracy: 0.9913 - val_loss: 0.2651 - val_accuracy: 0.9474\nEpoch 135/150\n35/35 [==============================] - 0s 6ms/step - loss: 0.0193 - accuracy: 0.9942 - val_loss: 0.3135 - val_accuracy: 0.9357\nEpoch 136/150\n35/35 [==============================] - 0s 8ms/step - loss: 0.0153 - accuracy: 0.9942 - val_loss: 0.2672 - val_accuracy: 0.9474\nEpoch 137/150\n35/35 [==============================] - 0s 5ms/step - loss: 0.0199 - accuracy: 0.9913 - val_loss: 0.2703 - val_accuracy: 0.9474\nEpoch 138/150\n35/35 [==============================] - 0s 6ms/step - loss: 0.0200 - accuracy: 0.9942 - val_loss: 0.2511 - val_accuracy: 0.9474\nEpoch 139/150\n35/35 [==============================] - 0s 5ms/step - loss: 0.0216 - accuracy: 0.9913 - val_loss: 0.2479 - val_accuracy: 0.9474\nEpoch 140/150\n35/35 [==============================] - 0s 5ms/step - loss: 0.0174 - accuracy: 0.9971 - val_loss: 0.3560 - val_accuracy: 0.9240\nEpoch 141/150\n35/35 [==============================] - 0s 5ms/step - loss: 0.0228 - accuracy: 0.9913 - val_loss: 0.3384 - val_accuracy: 0.9357\nEpoch 142/150\n35/35 [==============================] - 0s 7ms/step - loss: 0.0225 - accuracy: 0.9884 - val_loss: 0.3364 - val_accuracy: 0.9298\nEpoch 143/150\n35/35 [==============================] - 0s 5ms/step - loss: 0.0183 - accuracy: 0.9884 - val_loss: 0.2754 - val_accuracy: 0.9474\nEpoch 144/150\n35/35 [==============================] - 0s 4ms/step - loss: 0.0212 - accuracy: 0.9913 - val_loss: 0.3263 - val_accuracy: 0.9357\nEpoch 145/150\n35/35 [==============================] - 0s 5ms/step - loss: 0.0215 - accuracy: 0.9913 - val_loss: 0.4137 - val_accuracy: 0.9240\nEpoch 146/150\n35/35 [==============================] - 0s 5ms/step - loss: 0.0192 - accuracy: 0.9913 - val_loss: 0.3321 - val_accuracy: 0.9357\nEpoch 147/150\n35/35 [==============================] - 0s 5ms/step - loss: 0.0155 - accuracy: 0.9942 - val_loss: 0.3829 - val_accuracy: 0.9240\nEpoch 148/150\n35/35 [==============================] - 0s 5ms/step - loss: 0.0158 - accuracy: 0.9913 - val_loss: 0.2302 - val_accuracy: 0.9181\nEpoch 149/150\n35/35 [==============================] - 0s 5ms/step - loss: 0.0219 - accuracy: 0.9942 - val_loss: 0.4196 - val_accuracy: 0.9298\nEpoch 150/150\n35/35 [==============================] - 0s 6ms/step - loss: 0.0158 - accuracy: 0.9971 - val_loss: 0.2555 - val_accuracy: 0.9415\n"
        }
      ]
    },
    {
      "metadata": {
        "ExecuteTime": {
          "end_time": "2022-06-13T07:16:48.857723Z",
          "start_time": "2022-06-13T07:16:47.950150Z"
        },
        "trusted": false
      },
      "id": "aae3d9fe",
      "cell_type": "code",
      "source": "#summarize history for accuracy\nimport matplotlib.pyplot as plt\n%matplotlib inline\nplt.plot(history.history['accuracy'])\nplt.plot(history.history['val_accuracy'])\nplt.title('model accuracy')\nplt.ylabel('accuracy')\nplt.xlabel('epoch')\nplt.legend(['train', 'test'], loc='upper left')\nplt.show()\n# summarize history for loss\nplt.plot(history.history['loss'])\nplt.plot(history.history['val_loss'])\nplt.title('model loss')\nplt.ylabel('loss')\nplt.xlabel('epoch')\nplt.legend(['train', 'test'], loc='upper left')\nplt.show()",
      "execution_count": 16,
      "outputs": [
        {
          "data": {
            "image/png": "[encoded data removed]",
            "text/plain": "<Figure size 432x288 with 1 Axes>"
          },
          "metadata": {
            "needs_background": "light"
          },
          "output_type": "display_data"
        },
        {
          "data": {
            "image/png": "[encoded data removed]",
            "text/plain": "<Figure size 432x288 with 1 Axes>"
          },
          "metadata": {
            "needs_background": "light"
          },
          "output_type": "display_data"
        }
      ]
    },
    {
      "metadata": {
        "ExecuteTime": {
          "end_time": "2022-06-13T07:17:04.631416Z",
          "start_time": "2022-06-13T07:17:04.518755Z"
        },
        "trusted": false
      },
      "id": "0daf2381",
      "cell_type": "code",
      "source": "from sklearn.preprocessing import StandardScaler\nfrom keras.wrappers.scikit_learn import KerasClassifier\nfrom sklearn.model_selection import GridSearchCV, KFold\nfrom tensorflow.keras.optimizers import Adam,SGD, RMSprop",
      "execution_count": 17,
      "outputs": []
    },
    {
      "metadata": {
        "ExecuteTime": {
          "end_time": "2022-06-13T07:17:16.414476Z",
          "start_time": "2022-06-13T07:17:16.401323Z"
        },
        "trusted": false
      },
      "id": "db0e4615",
      "cell_type": "code",
      "source": "a = StandardScaler()\na.fit(x)\nX_standardized = a.transform(x)",
      "execution_count": 18,
      "outputs": []
    },
    {
      "metadata": {
        "ExecuteTime": {
          "end_time": "2022-06-13T07:17:26.092725Z",
          "start_time": "2022-06-13T07:17:25.912206Z"
        },
        "trusted": false
      },
      "id": "0077ec14",
      "cell_type": "code",
      "source": "pd.DataFrame(X_standardized).describe()",
      "execution_count": 19,
      "outputs": [
        {
          "data": {
            "text/html": "<div>\n<style scoped>\n    .dataframe tbody tr th:only-of-type {\n        vertical-align: middle;\n    }\n\n    .dataframe tbody tr th {\n        vertical-align: top;\n    }\n\n    .dataframe thead th {\n        text-align: right;\n    }\n</style>\n<table border=\"1\" class=\"dataframe\">\n  <thead>\n    <tr style=\"text-align: right;\">\n      <th></th>\n      <th>0</th>\n      <th>1</th>\n      <th>2</th>\n      <th>3</th>\n      <th>4</th>\n      <th>5</th>\n      <th>6</th>\n      <th>7</th>\n      <th>8</th>\n      <th>9</th>\n      <th>...</th>\n      <th>20</th>\n      <th>21</th>\n      <th>22</th>\n      <th>23</th>\n      <th>24</th>\n      <th>25</th>\n      <th>26</th>\n      <th>27</th>\n      <th>28</th>\n      <th>29</th>\n    </tr>\n  </thead>\n  <tbody>\n    <tr>\n      <th>count</th>\n      <td>5.170000e+02</td>\n      <td>5.170000e+02</td>\n      <td>5.170000e+02</td>\n      <td>5.170000e+02</td>\n      <td>5.170000e+02</td>\n      <td>5.170000e+02</td>\n      <td>5.170000e+02</td>\n      <td>5.170000e+02</td>\n      <td>5.170000e+02</td>\n      <td>5.170000e+02</td>\n      <td>...</td>\n      <td>5.170000e+02</td>\n      <td>5.170000e+02</td>\n      <td>5.170000e+02</td>\n      <td>5.170000e+02</td>\n      <td>5.170000e+02</td>\n      <td>5.170000e+02</td>\n      <td>5.170000e+02</td>\n      <td>5.170000e+02</td>\n      <td>5.170000e+02</td>\n      <td>5.170000e+02</td>\n    </tr>\n    <tr>\n      <th>mean</th>\n      <td>-4.874674e-17</td>\n      <td>5.110891e-17</td>\n      <td>-9.019220e-17</td>\n      <td>2.594099e-16</td>\n      <td>6.442300e-17</td>\n      <td>-8.718579e-17</td>\n      <td>-7.816657e-17</td>\n      <td>6.485249e-17</td>\n      <td>4.724353e-18</td>\n      <td>-4.790924e-16</td>\n      <td>...</td>\n      <td>7.179943e-16</td>\n      <td>-1.933764e-16</td>\n      <td>-2.260174e-17</td>\n      <td>1.352883e-17</td>\n      <td>1.169277e-16</td>\n      <td>2.265542e-16</td>\n      <td>-2.596515e-16</td>\n      <td>1.443075e-16</td>\n      <td>6.253326e-16</td>\n      <td>4.024290e-16</td>\n    </tr>\n    <tr>\n      <th>std</th>\n      <td>1.000969e+00</td>\n      <td>1.000969e+00</td>\n      <td>1.000969e+00</td>\n      <td>1.000969e+00</td>\n      <td>1.000969e+00</td>\n      <td>1.000969e+00</td>\n      <td>1.000969e+00</td>\n      <td>1.000969e+00</td>\n      <td>1.000969e+00</td>\n      <td>1.000969e+00</td>\n      <td>...</td>\n      <td>1.000969e+00</td>\n      <td>1.000969e+00</td>\n      <td>1.000969e+00</td>\n      <td>1.000969e+00</td>\n      <td>1.000969e+00</td>\n      <td>1.000969e+00</td>\n      <td>1.000969e+00</td>\n      <td>1.000969e+00</td>\n      <td>1.000969e+00</td>\n      <td>1.000969e+00</td>\n    </tr>\n    <tr>\n      <th>min</th>\n      <td>-1.317959e+00</td>\n      <td>-1.423121e+00</td>\n      <td>-2.755520e+00</td>\n      <td>-2.134531e+00</td>\n      <td>-2.119754e+00</td>\n      <td>-2.133725e+00</td>\n      <td>-2.036890e+00</td>\n      <td>-1.713964e+00</td>\n      <td>-2.004018e+00</td>\n      <td>-1.100649e-01</td>\n      <td>...</td>\n      <td>-1.331035e-01</td>\n      <td>-2.006027e-01</td>\n      <td>-6.231770e-02</td>\n      <td>-2.568645e-01</td>\n      <td>-1.843909e-01</td>\n      <td>-3.415123e-01</td>\n      <td>-6.231770e-02</td>\n      <td>-4.402255e-02</td>\n      <td>-1.728597e-01</td>\n      <td>-7.060812e-01</td>\n    </tr>\n    <tr>\n      <th>25%</th>\n      <td>-1.089076e+00</td>\n      <td>-9.031536e-01</td>\n      <td>-5.025653e-01</td>\n      <td>-8.010724e-01</td>\n      <td>-7.605602e-01</td>\n      <td>-6.928003e-01</td>\n      <td>-7.181571e-01</td>\n      <td>-7.060079e-01</td>\n      <td>-7.499909e-01</td>\n      <td>-1.100649e-01</td>\n      <td>...</td>\n      <td>-1.331035e-01</td>\n      <td>-2.006027e-01</td>\n      <td>-6.231770e-02</td>\n      <td>-2.568645e-01</td>\n      <td>-1.843909e-01</td>\n      <td>-3.415123e-01</td>\n      <td>-6.231770e-02</td>\n      <td>-4.402255e-02</td>\n      <td>-1.728597e-01</td>\n      <td>-7.060812e-01</td>\n    </tr>\n    <tr>\n      <th>50%</th>\n      <td>5.533922e-02</td>\n      <td>1.367805e-01</td>\n      <td>1.039993e-01</td>\n      <td>1.234588e-01</td>\n      <td>1.959092e-01</td>\n      <td>-4.438437e-02</td>\n      <td>4.755898e-02</td>\n      <td>-1.390326e-01</td>\n      <td>2.425585e-03</td>\n      <td>-1.100649e-01</td>\n      <td>...</td>\n      <td>-1.331035e-01</td>\n      <td>-2.006027e-01</td>\n      <td>-6.231770e-02</td>\n      <td>-2.568645e-01</td>\n      <td>-1.843909e-01</td>\n      <td>-3.415123e-01</td>\n      <td>-6.231770e-02</td>\n      <td>-4.402255e-02</td>\n      <td>-1.728597e-01</td>\n      <td>-7.060812e-01</td>\n    </tr>\n    <tr>\n      <th>75%</th>\n      <td>1.199754e+00</td>\n      <td>6.567476e-01</td>\n      <td>6.672378e-01</td>\n      <td>8.168572e-01</td>\n      <td>7.999952e-01</td>\n      <td>6.400547e-01</td>\n      <td>7.494654e-01</td>\n      <td>5.539372e-01</td>\n      <td>5.040366e-01</td>\n      <td>-1.100649e-01</td>\n      <td>...</td>\n      <td>-1.331035e-01</td>\n      <td>-2.006027e-01</td>\n      <td>-6.231770e-02</td>\n      <td>-2.568645e-01</td>\n      <td>-1.843909e-01</td>\n      <td>-3.415123e-01</td>\n      <td>-6.231770e-02</td>\n      <td>-4.402255e-02</td>\n      <td>-1.728597e-01</td>\n      <td>1.416268e+00</td>\n    </tr>\n    <tr>\n      <th>max</th>\n      <td>1.199754e+00</td>\n      <td>1.696682e+00</td>\n      <td>1.793715e+00</td>\n      <td>1.670271e+00</td>\n      <td>1.538322e+00</td>\n      <td>2.117002e+00</td>\n      <td>2.025659e+00</td>\n      <td>2.947833e+00</td>\n      <td>3.012092e+00</td>\n      <td>1.354679e+01</td>\n      <td>...</td>\n      <td>7.512952e+00</td>\n      <td>4.984977e+00</td>\n      <td>1.604681e+01</td>\n      <td>3.893103e+00</td>\n      <td>5.423261e+00</td>\n      <td>2.928152e+00</td>\n      <td>1.604681e+01</td>\n      <td>2.271563e+01</td>\n      <td>5.785038e+00</td>\n      <td>1.416268e+00</td>\n    </tr>\n  </tbody>\n</table>\n<p>8 rows × 30 columns</p>\n</div>",
            "text/plain": "                 0             1             2             3             4   \\\ncount  5.170000e+02  5.170000e+02  5.170000e+02  5.170000e+02  5.170000e+02   \nmean  -4.874674e-17  5.110891e-17 -9.019220e-17  2.594099e-16  6.442300e-17   \nstd    1.000969e+00  1.000969e+00  1.000969e+00  1.000969e+00  1.000969e+00   \nmin   -1.317959e+00 -1.423121e+00 -2.755520e+00 -2.134531e+00 -2.119754e+00   \n25%   -1.089076e+00 -9.031536e-01 -5.025653e-01 -8.010724e-01 -7.605602e-01   \n50%    5.533922e-02  1.367805e-01  1.039993e-01  1.234588e-01  1.959092e-01   \n75%    1.199754e+00  6.567476e-01  6.672378e-01  8.168572e-01  7.999952e-01   \nmax    1.199754e+00  1.696682e+00  1.793715e+00  1.670271e+00  1.538322e+00   \n\n                 5             6             7             8             9   \\\ncount  5.170000e+02  5.170000e+02  5.170000e+02  5.170000e+02  5.170000e+02   \nmean  -8.718579e-17 -7.816657e-17  6.485249e-17  4.724353e-18 -4.790924e-16   \nstd    1.000969e+00  1.000969e+00  1.000969e+00  1.000969e+00  1.000969e+00   \nmin   -2.133725e+00 -2.036890e+00 -1.713964e+00 -2.004018e+00 -1.100649e-01   \n25%   -6.928003e-01 -7.181571e-01 -7.060079e-01 -7.499909e-01 -1.100649e-01   \n50%   -4.438437e-02  4.755898e-02 -1.390326e-01  2.425585e-03 -1.100649e-01   \n75%    6.400547e-01  7.494654e-01  5.539372e-01  5.040366e-01 -1.100649e-01   \nmax    2.117002e+00  2.025659e+00  2.947833e+00  3.012092e+00  1.354679e+01   \n\n       ...            20            21            22            23  \\\ncount  ...  5.170000e+02  5.170000e+02  5.170000e+02  5.170000e+02   \nmean   ...  7.179943e-16 -1.933764e-16 -2.260174e-17  1.352883e-17   \nstd    ...  1.000969e+00  1.000969e+00  1.000969e+00  1.000969e+00   \nmin    ... -1.331035e-01 -2.006027e-01 -6.231770e-02 -2.568645e-01   \n25%    ... -1.331035e-01 -2.006027e-01 -6.231770e-02 -2.568645e-01   \n50%    ... -1.331035e-01 -2.006027e-01 -6.231770e-02 -2.568645e-01   \n75%    ... -1.331035e-01 -2.006027e-01 -6.231770e-02 -2.568645e-01   \nmax    ...  7.512952e+00  4.984977e+00  1.604681e+01  3.893103e+00   \n\n                 24            25            26            27            28  \\\ncount  5.170000e+02  5.170000e+02  5.170000e+02  5.170000e+02  5.170000e+02   \nmean   1.169277e-16  2.265542e-16 -2.596515e-16  1.443075e-16  6.253326e-16   \nstd    1.000969e+00  1.000969e+00  1.000969e+00  1.000969e+00  1.000969e+00   \nmin   -1.843909e-01 -3.415123e-01 -6.231770e-02 -4.402255e-02 -1.728597e-01   \n25%   -1.843909e-01 -3.415123e-01 -6.231770e-02 -4.402255e-02 -1.728597e-01   \n50%   -1.843909e-01 -3.415123e-01 -6.231770e-02 -4.402255e-02 -1.728597e-01   \n75%   -1.843909e-01 -3.415123e-01 -6.231770e-02 -4.402255e-02 -1.728597e-01   \nmax    5.423261e+00  2.928152e+00  1.604681e+01  2.271563e+01  5.785038e+00   \n\n                 29  \ncount  5.170000e+02  \nmean   4.024290e-16  \nstd    1.000969e+00  \nmin   -7.060812e-01  \n25%   -7.060812e-01  \n50%   -7.060812e-01  \n75%    1.416268e+00  \nmax    1.416268e+00  \n\n[8 rows x 30 columns]"
          },
          "execution_count": 19,
          "metadata": {},
          "output_type": "execute_result"
        }
      ]
    },
    {
      "metadata": {
        "ExecuteTime": {
          "end_time": "2022-06-13T07:21:31.287849Z",
          "start_time": "2022-06-13T07:17:38.602768Z"
        },
        "trusted": false
      },
      "id": "89bd7efe",
      "cell_type": "code",
      "source": "def create_model():\n  model = Sequential()\n  model.add(Dense(12, input_dim=30, kernel_initializer='uniform', activation='relu'))\n  model.add(Dense(8, kernel_initializer='uniform', activation='relu'))\n  model.add(Dense(1, kernel_initializer='uniform', activation='sigmoid'))\n\n  adam=Adam(lr=0.01)\n  model.compile(loss='binary_crossentropy', optimizer=adam, metrics=['accuracy'])\n  return model\nmodel = KerasClassifier(build_fn = create_model,verbose = 0)\n# Define the grid search parameters\nbatch_size = [10,20,40]\nepochs = [10,50,100]\n# Make a dictionary of the grid search parameters\nparam_grid = dict(batch_size = batch_size,epochs = epochs)\n# Build and fit the GridSearchCV\ngrid = GridSearchCV(estimator = model,param_grid = param_grid,cv = KFold(),verbose = 10)\ngrid_result = grid.fit(X_standardized,y)",
      "execution_count": 20,
      "outputs": [
        {
          "name": "stderr",
          "output_type": "stream",
          "text": "C:\\Users\\Asus\\AppData\\Local\\Temp/ipykernel_16168/1018702111.py:10: DeprecationWarning: KerasClassifier is deprecated, use Sci-Keras (https://github.com/adriangb/scikeras) instead. See https://www.adriangb.com/scikeras/stable/migration.html for help migrating.\n  model = KerasClassifier(build_fn = create_model,verbose = 0)\nC:\\Users\\Asus\\anaconda3\\anaconda\\lib\\site-packages\\keras\\optimizers\\optimizer_v2\\adam.py:110: UserWarning: The `lr` argument is deprecated, use `learning_rate` instead.\n  super(Adam, self).__init__(name, **kwargs)\n"
        },
        {
          "name": "stdout",
          "output_type": "stream",
          "text": "Fitting 5 folds for each of 9 candidates, totalling 45 fits\n[CV 1/5; 1/9] START batch_size=10, epochs=10....................................\n[CV 1/5; 1/9] END .....batch_size=10, epochs=10;, score=1.000 total time=   2.3s\n[CV 2/5; 1/9] START batch_size=10, epochs=10....................................\n"
        },
        {
          "name": "stderr",
          "output_type": "stream",
          "text": "C:\\Users\\Asus\\anaconda3\\anaconda\\lib\\site-packages\\keras\\optimizers\\optimizer_v2\\adam.py:110: UserWarning: The `lr` argument is deprecated, use `learning_rate` instead.\n  super(Adam, self).__init__(name, **kwargs)\n"
        },
        {
          "name": "stdout",
          "output_type": "stream",
          "text": "[CV 2/5; 1/9] END .....batch_size=10, epochs=10;, score=0.971 total time=   2.2s\n[CV 3/5; 1/9] START batch_size=10, epochs=10....................................\n"
        },
        {
          "name": "stderr",
          "output_type": "stream",
          "text": "C:\\Users\\Asus\\anaconda3\\anaconda\\lib\\site-packages\\keras\\optimizers\\optimizer_v2\\adam.py:110: UserWarning: The `lr` argument is deprecated, use `learning_rate` instead.\n  super(Adam, self).__init__(name, **kwargs)\n"
        },
        {
          "name": "stdout",
          "output_type": "stream",
          "text": "[CV 3/5; 1/9] END .....batch_size=10, epochs=10;, score=0.981 total time=   2.6s\n[CV 4/5; 1/9] START batch_size=10, epochs=10....................................\n"
        },
        {
          "name": "stderr",
          "output_type": "stream",
          "text": "C:\\Users\\Asus\\anaconda3\\anaconda\\lib\\site-packages\\keras\\optimizers\\optimizer_v2\\adam.py:110: UserWarning: The `lr` argument is deprecated, use `learning_rate` instead.\n  super(Adam, self).__init__(name, **kwargs)\n"
        },
        {
          "name": "stdout",
          "output_type": "stream",
          "text": "[CV 4/5; 1/9] END .....batch_size=10, epochs=10;, score=0.951 total time=   3.5s\n[CV 5/5; 1/9] START batch_size=10, epochs=10....................................\n"
        },
        {
          "name": "stderr",
          "output_type": "stream",
          "text": "C:\\Users\\Asus\\anaconda3\\anaconda\\lib\\site-packages\\keras\\optimizers\\optimizer_v2\\adam.py:110: UserWarning: The `lr` argument is deprecated, use `learning_rate` instead.\n  super(Adam, self).__init__(name, **kwargs)\n"
        },
        {
          "name": "stdout",
          "output_type": "stream",
          "text": "[CV 5/5; 1/9] END .....batch_size=10, epochs=10;, score=0.913 total time=   3.2s\n[CV 1/5; 2/9] START batch_size=10, epochs=50....................................\n"
        },
        {
          "name": "stderr",
          "output_type": "stream",
          "text": "C:\\Users\\Asus\\anaconda3\\anaconda\\lib\\site-packages\\keras\\optimizers\\optimizer_v2\\adam.py:110: UserWarning: The `lr` argument is deprecated, use `learning_rate` instead.\n  super(Adam, self).__init__(name, **kwargs)\n"
        },
        {
          "name": "stdout",
          "output_type": "stream",
          "text": "[CV 1/5; 2/9] END .....batch_size=10, epochs=50;, score=1.000 total time=   7.1s\n[CV 2/5; 2/9] START batch_size=10, epochs=50....................................\n"
        },
        {
          "name": "stderr",
          "output_type": "stream",
          "text": "C:\\Users\\Asus\\anaconda3\\anaconda\\lib\\site-packages\\keras\\optimizers\\optimizer_v2\\adam.py:110: UserWarning: The `lr` argument is deprecated, use `learning_rate` instead.\n  super(Adam, self).__init__(name, **kwargs)\n"
        },
        {
          "name": "stdout",
          "output_type": "stream",
          "text": "[CV 2/5; 2/9] END .....batch_size=10, epochs=50;, score=0.933 total time=   7.4s\n[CV 3/5; 2/9] START batch_size=10, epochs=50....................................\n"
        },
        {
          "name": "stderr",
          "output_type": "stream",
          "text": "C:\\Users\\Asus\\anaconda3\\anaconda\\lib\\site-packages\\keras\\optimizers\\optimizer_v2\\adam.py:110: UserWarning: The `lr` argument is deprecated, use `learning_rate` instead.\n  super(Adam, self).__init__(name, **kwargs)\n"
        },
        {
          "name": "stdout",
          "output_type": "stream",
          "text": "[CV 3/5; 2/9] END .....batch_size=10, epochs=50;, score=0.961 total time=   7.0s\n[CV 4/5; 2/9] START batch_size=10, epochs=50....................................\n"
        },
        {
          "name": "stderr",
          "output_type": "stream",
          "text": "C:\\Users\\Asus\\anaconda3\\anaconda\\lib\\site-packages\\keras\\optimizers\\optimizer_v2\\adam.py:110: UserWarning: The `lr` argument is deprecated, use `learning_rate` instead.\n  super(Adam, self).__init__(name, **kwargs)\n"
        },
        {
          "name": "stdout",
          "output_type": "stream",
          "text": "[CV 4/5; 2/9] END .....batch_size=10, epochs=50;, score=0.951 total time=   7.1s\n[CV 5/5; 2/9] START batch_size=10, epochs=50....................................\n"
        },
        {
          "name": "stderr",
          "output_type": "stream",
          "text": "C:\\Users\\Asus\\anaconda3\\anaconda\\lib\\site-packages\\keras\\optimizers\\optimizer_v2\\adam.py:110: UserWarning: The `lr` argument is deprecated, use `learning_rate` instead.\n  super(Adam, self).__init__(name, **kwargs)\n"
        },
        {
          "name": "stdout",
          "output_type": "stream",
          "text": "[CV 5/5; 2/9] END .....batch_size=10, epochs=50;, score=0.951 total time=   7.1s\n[CV 1/5; 3/9] START batch_size=10, epochs=100...................................\n"
        },
        {
          "name": "stderr",
          "output_type": "stream",
          "text": "C:\\Users\\Asus\\anaconda3\\anaconda\\lib\\site-packages\\keras\\optimizers\\optimizer_v2\\adam.py:110: UserWarning: The `lr` argument is deprecated, use `learning_rate` instead.\n  super(Adam, self).__init__(name, **kwargs)\n"
        },
        {
          "name": "stdout",
          "output_type": "stream",
          "text": "[CV 1/5; 3/9] END ....batch_size=10, epochs=100;, score=1.000 total time=  13.1s\n[CV 2/5; 3/9] START batch_size=10, epochs=100...................................\n"
        },
        {
          "name": "stderr",
          "output_type": "stream",
          "text": "C:\\Users\\Asus\\anaconda3\\anaconda\\lib\\site-packages\\keras\\optimizers\\optimizer_v2\\adam.py:110: UserWarning: The `lr` argument is deprecated, use `learning_rate` instead.\n  super(Adam, self).__init__(name, **kwargs)\n"
        },
        {
          "name": "stdout",
          "output_type": "stream",
          "text": "[CV 2/5; 3/9] END ....batch_size=10, epochs=100;, score=0.952 total time=  13.2s\n[CV 3/5; 3/9] START batch_size=10, epochs=100...................................\n"
        },
        {
          "name": "stderr",
          "output_type": "stream",
          "text": "C:\\Users\\Asus\\anaconda3\\anaconda\\lib\\site-packages\\keras\\optimizers\\optimizer_v2\\adam.py:110: UserWarning: The `lr` argument is deprecated, use `learning_rate` instead.\n  super(Adam, self).__init__(name, **kwargs)\n"
        },
        {
          "name": "stdout",
          "output_type": "stream",
          "text": "[CV 3/5; 3/9] END ....batch_size=10, epochs=100;, score=0.942 total time=  12.3s\n[CV 4/5; 3/9] START batch_size=10, epochs=100...................................\n"
        },
        {
          "name": "stderr",
          "output_type": "stream",
          "text": "C:\\Users\\Asus\\anaconda3\\anaconda\\lib\\site-packages\\keras\\optimizers\\optimizer_v2\\adam.py:110: UserWarning: The `lr` argument is deprecated, use `learning_rate` instead.\n  super(Adam, self).__init__(name, **kwargs)\n"
        },
        {
          "name": "stdout",
          "output_type": "stream",
          "text": "[CV 4/5; 3/9] END ....batch_size=10, epochs=100;, score=0.913 total time=  13.0s\n[CV 5/5; 3/9] START batch_size=10, epochs=100...................................\n"
        },
        {
          "name": "stderr",
          "output_type": "stream",
          "text": "C:\\Users\\Asus\\anaconda3\\anaconda\\lib\\site-packages\\keras\\optimizers\\optimizer_v2\\adam.py:110: UserWarning: The `lr` argument is deprecated, use `learning_rate` instead.\n  super(Adam, self).__init__(name, **kwargs)\n"
        },
        {
          "name": "stdout",
          "output_type": "stream",
          "text": "[CV 5/5; 3/9] END ....batch_size=10, epochs=100;, score=0.922 total time=  12.9s\n[CV 1/5; 4/9] START batch_size=20, epochs=10....................................\n"
        },
        {
          "name": "stderr",
          "output_type": "stream",
          "text": "C:\\Users\\Asus\\anaconda3\\anaconda\\lib\\site-packages\\keras\\optimizers\\optimizer_v2\\adam.py:110: UserWarning: The `lr` argument is deprecated, use `learning_rate` instead.\n  super(Adam, self).__init__(name, **kwargs)\n"
        },
        {
          "name": "stdout",
          "output_type": "stream",
          "text": "[CV 1/5; 4/9] END .....batch_size=20, epochs=10;, score=1.000 total time=   1.6s\n[CV 2/5; 4/9] START batch_size=20, epochs=10....................................\n"
        },
        {
          "name": "stderr",
          "output_type": "stream",
          "text": "C:\\Users\\Asus\\anaconda3\\anaconda\\lib\\site-packages\\keras\\optimizers\\optimizer_v2\\adam.py:110: UserWarning: The `lr` argument is deprecated, use `learning_rate` instead.\n  super(Adam, self).__init__(name, **kwargs)\n"
        },
        {
          "name": "stdout",
          "output_type": "stream",
          "text": "[CV 2/5; 4/9] END .....batch_size=20, epochs=10;, score=0.981 total time=   1.8s\n[CV 3/5; 4/9] START batch_size=20, epochs=10....................................\n"
        },
        {
          "name": "stderr",
          "output_type": "stream",
          "text": "C:\\Users\\Asus\\anaconda3\\anaconda\\lib\\site-packages\\keras\\optimizers\\optimizer_v2\\adam.py:110: UserWarning: The `lr` argument is deprecated, use `learning_rate` instead.\n  super(Adam, self).__init__(name, **kwargs)\n"
        },
        {
          "name": "stdout",
          "output_type": "stream",
          "text": "[CV 3/5; 4/9] END .....batch_size=20, epochs=10;, score=0.990 total time=   1.7s\n[CV 4/5; 4/9] START batch_size=20, epochs=10....................................\n"
        },
        {
          "name": "stderr",
          "output_type": "stream",
          "text": "C:\\Users\\Asus\\anaconda3\\anaconda\\lib\\site-packages\\keras\\optimizers\\optimizer_v2\\adam.py:110: UserWarning: The `lr` argument is deprecated, use `learning_rate` instead.\n  super(Adam, self).__init__(name, **kwargs)\n"
        },
        {
          "name": "stdout",
          "output_type": "stream",
          "text": "[CV 4/5; 4/9] END .....batch_size=20, epochs=10;, score=0.942 total time=   1.8s\n[CV 5/5; 4/9] START batch_size=20, epochs=10....................................\n"
        },
        {
          "name": "stderr",
          "output_type": "stream",
          "text": "C:\\Users\\Asus\\anaconda3\\anaconda\\lib\\site-packages\\keras\\optimizers\\optimizer_v2\\adam.py:110: UserWarning: The `lr` argument is deprecated, use `learning_rate` instead.\n  super(Adam, self).__init__(name, **kwargs)\n"
        },
        {
          "name": "stdout",
          "output_type": "stream",
          "text": "[CV 5/5; 4/9] END .....batch_size=20, epochs=10;, score=0.942 total time=   2.3s\n[CV 1/5; 5/9] START batch_size=20, epochs=50....................................\n"
        },
        {
          "name": "stderr",
          "output_type": "stream",
          "text": "C:\\Users\\Asus\\anaconda3\\anaconda\\lib\\site-packages\\keras\\optimizers\\optimizer_v2\\adam.py:110: UserWarning: The `lr` argument is deprecated, use `learning_rate` instead.\n  super(Adam, self).__init__(name, **kwargs)\n"
        },
        {
          "name": "stdout",
          "output_type": "stream",
          "text": "[CV 1/5; 5/9] END .....batch_size=20, epochs=50;, score=1.000 total time=   4.4s\n[CV 2/5; 5/9] START batch_size=20, epochs=50....................................\n"
        },
        {
          "name": "stderr",
          "output_type": "stream",
          "text": "C:\\Users\\Asus\\anaconda3\\anaconda\\lib\\site-packages\\keras\\optimizers\\optimizer_v2\\adam.py:110: UserWarning: The `lr` argument is deprecated, use `learning_rate` instead.\n  super(Adam, self).__init__(name, **kwargs)\n"
        },
        {
          "name": "stdout",
          "output_type": "stream",
          "text": "[CV 2/5; 5/9] END .....batch_size=20, epochs=50;, score=0.962 total time=   4.3s\n[CV 3/5; 5/9] START batch_size=20, epochs=50....................................\n"
        },
        {
          "name": "stderr",
          "output_type": "stream",
          "text": "C:\\Users\\Asus\\anaconda3\\anaconda\\lib\\site-packages\\keras\\optimizers\\optimizer_v2\\adam.py:110: UserWarning: The `lr` argument is deprecated, use `learning_rate` instead.\n  super(Adam, self).__init__(name, **kwargs)\n"
        },
        {
          "name": "stdout",
          "output_type": "stream",
          "text": "[CV 3/5; 5/9] END .....batch_size=20, epochs=50;, score=0.981 total time=   4.9s\n[CV 4/5; 5/9] START batch_size=20, epochs=50....................................\n"
        },
        {
          "name": "stderr",
          "output_type": "stream",
          "text": "C:\\Users\\Asus\\anaconda3\\anaconda\\lib\\site-packages\\keras\\optimizers\\optimizer_v2\\adam.py:110: UserWarning: The `lr` argument is deprecated, use `learning_rate` instead.\n  super(Adam, self).__init__(name, **kwargs)\n"
        },
        {
          "name": "stdout",
          "output_type": "stream",
          "text": "[CV 4/5; 5/9] END .....batch_size=20, epochs=50;, score=0.951 total time=   4.0s\n[CV 5/5; 5/9] START batch_size=20, epochs=50....................................\n"
        },
        {
          "name": "stderr",
          "output_type": "stream",
          "text": "C:\\Users\\Asus\\anaconda3\\anaconda\\lib\\site-packages\\keras\\optimizers\\optimizer_v2\\adam.py:110: UserWarning: The `lr` argument is deprecated, use `learning_rate` instead.\n  super(Adam, self).__init__(name, **kwargs)\n"
        },
        {
          "name": "stdout",
          "output_type": "stream",
          "text": "[CV 5/5; 5/9] END .....batch_size=20, epochs=50;, score=0.922 total time=   4.1s\n[CV 1/5; 6/9] START batch_size=20, epochs=100...................................\n"
        },
        {
          "name": "stderr",
          "output_type": "stream",
          "text": "C:\\Users\\Asus\\anaconda3\\anaconda\\lib\\site-packages\\keras\\optimizers\\optimizer_v2\\adam.py:110: UserWarning: The `lr` argument is deprecated, use `learning_rate` instead.\n  super(Adam, self).__init__(name, **kwargs)\n"
        },
        {
          "name": "stdout",
          "output_type": "stream",
          "text": "[CV 1/5; 6/9] END ....batch_size=20, epochs=100;, score=1.000 total time=   7.1s\n[CV 2/5; 6/9] START batch_size=20, epochs=100...................................\n"
        },
        {
          "name": "stderr",
          "output_type": "stream",
          "text": "C:\\Users\\Asus\\anaconda3\\anaconda\\lib\\site-packages\\keras\\optimizers\\optimizer_v2\\adam.py:110: UserWarning: The `lr` argument is deprecated, use `learning_rate` instead.\n  super(Adam, self).__init__(name, **kwargs)\n"
        },
        {
          "name": "stdout",
          "output_type": "stream",
          "text": "[CV 2/5; 6/9] END ....batch_size=20, epochs=100;, score=0.933 total time=   7.6s\n[CV 3/5; 6/9] START batch_size=20, epochs=100...................................\n"
        },
        {
          "name": "stderr",
          "output_type": "stream",
          "text": "C:\\Users\\Asus\\anaconda3\\anaconda\\lib\\site-packages\\keras\\optimizers\\optimizer_v2\\adam.py:110: UserWarning: The `lr` argument is deprecated, use `learning_rate` instead.\n  super(Adam, self).__init__(name, **kwargs)\n"
        },
        {
          "name": "stdout",
          "output_type": "stream",
          "text": "[CV 3/5; 6/9] END ....batch_size=20, epochs=100;, score=0.981 total time=   7.4s\n[CV 4/5; 6/9] START batch_size=20, epochs=100...................................\n"
        },
        {
          "name": "stderr",
          "output_type": "stream",
          "text": "C:\\Users\\Asus\\anaconda3\\anaconda\\lib\\site-packages\\keras\\optimizers\\optimizer_v2\\adam.py:110: UserWarning: The `lr` argument is deprecated, use `learning_rate` instead.\n  super(Adam, self).__init__(name, **kwargs)\n"
        },
        {
          "name": "stdout",
          "output_type": "stream",
          "text": "[CV 4/5; 6/9] END ....batch_size=20, epochs=100;, score=0.961 total time=   6.8s\n[CV 5/5; 6/9] START batch_size=20, epochs=100...................................\n"
        },
        {
          "name": "stderr",
          "output_type": "stream",
          "text": "C:\\Users\\Asus\\anaconda3\\anaconda\\lib\\site-packages\\keras\\optimizers\\optimizer_v2\\adam.py:110: UserWarning: The `lr` argument is deprecated, use `learning_rate` instead.\n  super(Adam, self).__init__(name, **kwargs)\n"
        },
        {
          "name": "stdout",
          "output_type": "stream",
          "text": "[CV 5/5; 6/9] END ....batch_size=20, epochs=100;, score=0.913 total time=   7.2s\n[CV 1/5; 7/9] START batch_size=40, epochs=10....................................\n"
        },
        {
          "name": "stderr",
          "output_type": "stream",
          "text": "C:\\Users\\Asus\\anaconda3\\anaconda\\lib\\site-packages\\keras\\optimizers\\optimizer_v2\\adam.py:110: UserWarning: The `lr` argument is deprecated, use `learning_rate` instead.\n  super(Adam, self).__init__(name, **kwargs)\n"
        },
        {
          "name": "stdout",
          "output_type": "stream",
          "text": "[CV 1/5; 7/9] END .....batch_size=40, epochs=10;, score=1.000 total time=   1.4s\n[CV 2/5; 7/9] START batch_size=40, epochs=10....................................\n"
        },
        {
          "name": "stderr",
          "output_type": "stream",
          "text": "C:\\Users\\Asus\\anaconda3\\anaconda\\lib\\site-packages\\keras\\optimizers\\optimizer_v2\\adam.py:110: UserWarning: The `lr` argument is deprecated, use `learning_rate` instead.\n  super(Adam, self).__init__(name, **kwargs)\n"
        },
        {
          "name": "stdout",
          "output_type": "stream",
          "text": "[CV 2/5; 7/9] END .....batch_size=40, epochs=10;, score=0.942 total time=   1.5s\n[CV 3/5; 7/9] START batch_size=40, epochs=10....................................\n"
        },
        {
          "name": "stderr",
          "output_type": "stream",
          "text": "C:\\Users\\Asus\\anaconda3\\anaconda\\lib\\site-packages\\keras\\optimizers\\optimizer_v2\\adam.py:110: UserWarning: The `lr` argument is deprecated, use `learning_rate` instead.\n  super(Adam, self).__init__(name, **kwargs)\n"
        },
        {
          "name": "stdout",
          "output_type": "stream",
          "text": "[CV 3/5; 7/9] END .....batch_size=40, epochs=10;, score=0.981 total time=   1.4s\n[CV 4/5; 7/9] START batch_size=40, epochs=10....................................\n"
        },
        {
          "name": "stderr",
          "output_type": "stream",
          "text": "C:\\Users\\Asus\\anaconda3\\anaconda\\lib\\site-packages\\keras\\optimizers\\optimizer_v2\\adam.py:110: UserWarning: The `lr` argument is deprecated, use `learning_rate` instead.\n  super(Adam, self).__init__(name, **kwargs)\n"
        },
        {
          "name": "stdout",
          "output_type": "stream",
          "text": "WARNING:tensorflow:5 out of the last 16 calls to <function Model.make_test_function.<locals>.test_function at 0x0000019137442040> triggered tf.function retracing. Tracing is expensive and the excessive number of tracings could be due to (1) creating @tf.function repeatedly in a loop, (2) passing tensors with different shapes, (3) passing Python objects instead of tensors. For (1), please define your @tf.function outside of the loop. For (2), @tf.function has reduce_retracing=True option that can avoid unnecessary retracing. For (3), please refer to https://www.tensorflow.org/guide/function#controlling_retracing and https://www.tensorflow.org/api_docs/python/tf/function for  more details.\n[CV 4/5; 7/9] END .....batch_size=40, epochs=10;, score=0.942 total time=   1.4s\n[CV 5/5; 7/9] START batch_size=40, epochs=10....................................\n"
        },
        {
          "name": "stderr",
          "output_type": "stream",
          "text": "C:\\Users\\Asus\\anaconda3\\anaconda\\lib\\site-packages\\keras\\optimizers\\optimizer_v2\\adam.py:110: UserWarning: The `lr` argument is deprecated, use `learning_rate` instead.\n  super(Adam, self).__init__(name, **kwargs)\n"
        },
        {
          "name": "stdout",
          "output_type": "stream",
          "text": "WARNING:tensorflow:5 out of the last 13 calls to <function Model.make_test_function.<locals>.test_function at 0x000001913869FA60> triggered tf.function retracing. Tracing is expensive and the excessive number of tracings could be due to (1) creating @tf.function repeatedly in a loop, (2) passing tensors with different shapes, (3) passing Python objects instead of tensors. For (1), please define your @tf.function outside of the loop. For (2), @tf.function has reduce_retracing=True option that can avoid unnecessary retracing. For (3), please refer to https://www.tensorflow.org/guide/function#controlling_retracing and https://www.tensorflow.org/api_docs/python/tf/function for  more details.\n[CV 5/5; 7/9] END .....batch_size=40, epochs=10;, score=0.893 total time=   2.0s\n[CV 1/5; 8/9] START batch_size=40, epochs=50....................................\n"
        },
        {
          "name": "stderr",
          "output_type": "stream",
          "text": "C:\\Users\\Asus\\anaconda3\\anaconda\\lib\\site-packages\\keras\\optimizers\\optimizer_v2\\adam.py:110: UserWarning: The `lr` argument is deprecated, use `learning_rate` instead.\n  super(Adam, self).__init__(name, **kwargs)\n"
        },
        {
          "name": "stdout",
          "output_type": "stream",
          "text": "[CV 1/5; 8/9] END .....batch_size=40, epochs=50;, score=1.000 total time=   2.9s\n[CV 2/5; 8/9] START batch_size=40, epochs=50....................................\n"
        },
        {
          "name": "stderr",
          "output_type": "stream",
          "text": "C:\\Users\\Asus\\anaconda3\\anaconda\\lib\\site-packages\\keras\\optimizers\\optimizer_v2\\adam.py:110: UserWarning: The `lr` argument is deprecated, use `learning_rate` instead.\n  super(Adam, self).__init__(name, **kwargs)\n"
        },
        {
          "name": "stdout",
          "output_type": "stream",
          "text": "[CV 2/5; 8/9] END .....batch_size=40, epochs=50;, score=0.981 total time=   2.9s\n[CV 3/5; 8/9] START batch_size=40, epochs=50....................................\n"
        },
        {
          "name": "stderr",
          "output_type": "stream",
          "text": "C:\\Users\\Asus\\anaconda3\\anaconda\\lib\\site-packages\\keras\\optimizers\\optimizer_v2\\adam.py:110: UserWarning: The `lr` argument is deprecated, use `learning_rate` instead.\n  super(Adam, self).__init__(name, **kwargs)\n"
        },
        {
          "name": "stdout",
          "output_type": "stream",
          "text": "[CV 3/5; 8/9] END .....batch_size=40, epochs=50;, score=0.981 total time=   2.8s\n[CV 4/5; 8/9] START batch_size=40, epochs=50....................................\n"
        },
        {
          "name": "stderr",
          "output_type": "stream",
          "text": "C:\\Users\\Asus\\anaconda3\\anaconda\\lib\\site-packages\\keras\\optimizers\\optimizer_v2\\adam.py:110: UserWarning: The `lr` argument is deprecated, use `learning_rate` instead.\n  super(Adam, self).__init__(name, **kwargs)\n"
        },
        {
          "name": "stdout",
          "output_type": "stream",
          "text": "[CV 4/5; 8/9] END .....batch_size=40, epochs=50;, score=0.942 total time=   2.8s\n[CV 5/5; 8/9] START batch_size=40, epochs=50....................................\n"
        },
        {
          "name": "stderr",
          "output_type": "stream",
          "text": "C:\\Users\\Asus\\anaconda3\\anaconda\\lib\\site-packages\\keras\\optimizers\\optimizer_v2\\adam.py:110: UserWarning: The `lr` argument is deprecated, use `learning_rate` instead.\n  super(Adam, self).__init__(name, **kwargs)\n"
        },
        {
          "name": "stdout",
          "output_type": "stream",
          "text": "[CV 5/5; 8/9] END .....batch_size=40, epochs=50;, score=0.932 total time=   2.6s\n[CV 1/5; 9/9] START batch_size=40, epochs=100...................................\n"
        },
        {
          "name": "stderr",
          "output_type": "stream",
          "text": "C:\\Users\\Asus\\anaconda3\\anaconda\\lib\\site-packages\\keras\\optimizers\\optimizer_v2\\adam.py:110: UserWarning: The `lr` argument is deprecated, use `learning_rate` instead.\n  super(Adam, self).__init__(name, **kwargs)\n"
        },
        {
          "name": "stdout",
          "output_type": "stream",
          "text": "[CV 1/5; 9/9] END ....batch_size=40, epochs=100;, score=1.000 total time=   4.6s\n[CV 2/5; 9/9] START batch_size=40, epochs=100...................................\n"
        },
        {
          "name": "stderr",
          "output_type": "stream",
          "text": "C:\\Users\\Asus\\anaconda3\\anaconda\\lib\\site-packages\\keras\\optimizers\\optimizer_v2\\adam.py:110: UserWarning: The `lr` argument is deprecated, use `learning_rate` instead.\n  super(Adam, self).__init__(name, **kwargs)\n"
        },
        {
          "name": "stdout",
          "output_type": "stream",
          "text": "[CV 2/5; 9/9] END ....batch_size=40, epochs=100;, score=0.942 total time=   4.4s\n[CV 3/5; 9/9] START batch_size=40, epochs=100...................................\n"
        },
        {
          "name": "stderr",
          "output_type": "stream",
          "text": "C:\\Users\\Asus\\anaconda3\\anaconda\\lib\\site-packages\\keras\\optimizers\\optimizer_v2\\adam.py:110: UserWarning: The `lr` argument is deprecated, use `learning_rate` instead.\n  super(Adam, self).__init__(name, **kwargs)\n"
        },
        {
          "name": "stdout",
          "output_type": "stream",
          "text": "[CV 3/5; 9/9] END ....batch_size=40, epochs=100;, score=0.981 total time=   4.4s\n[CV 4/5; 9/9] START batch_size=40, epochs=100...................................\n"
        },
        {
          "name": "stderr",
          "output_type": "stream",
          "text": "C:\\Users\\Asus\\anaconda3\\anaconda\\lib\\site-packages\\keras\\optimizers\\optimizer_v2\\adam.py:110: UserWarning: The `lr` argument is deprecated, use `learning_rate` instead.\n  super(Adam, self).__init__(name, **kwargs)\n"
        },
        {
          "name": "stdout",
          "output_type": "stream",
          "text": "[CV 4/5; 9/9] END ....batch_size=40, epochs=100;, score=0.942 total time=   4.4s\n[CV 5/5; 9/9] START batch_size=40, epochs=100...................................\n"
        },
        {
          "name": "stderr",
          "output_type": "stream",
          "text": "C:\\Users\\Asus\\anaconda3\\anaconda\\lib\\site-packages\\keras\\optimizers\\optimizer_v2\\adam.py:110: UserWarning: The `lr` argument is deprecated, use `learning_rate` instead.\n  super(Adam, self).__init__(name, **kwargs)\n"
        },
        {
          "name": "stdout",
          "output_type": "stream",
          "text": "[CV 5/5; 9/9] END ....batch_size=40, epochs=100;, score=0.913 total time=   5.8s\n"
        }
      ]
    },
    {
      "metadata": {
        "ExecuteTime": {
          "end_time": "2022-06-13T07:21:31.344692Z",
          "start_time": "2022-06-13T07:21:31.318728Z"
        },
        "trusted": false
      },
      "id": "946515eb",
      "cell_type": "code",
      "source": "from keras.layers import Dropout\ndef create_model(learning_rate,dropout_rate):\n  model = Sequential()\n  model.add(Dense(8,input_dim = 30,kernel_initializer = 'normal',activation = 'relu'))\n  model.add(Dropout(dropout_rate))\n  model.add(Dense(4,input_dim = 30,kernel_initializer = 'normal',activation = 'relu'))\n  model.add(Dropout(dropout_rate))\n  model.add(Dense(1,activation = 'sigmoid'))\n\n  adam = Adam(lr = learning_rate)\n  model.compile(loss = 'binary_crossentropy',optimizer = adam,metrics = ['accuracy'])\n  return model\n",
      "execution_count": 22,
      "outputs": []
    },
    {
      "metadata": {
        "ExecuteTime": {
          "end_time": "2022-06-13T07:23:07.215717Z",
          "start_time": "2022-06-13T07:21:43.638851Z"
        },
        "trusted": false
      },
      "id": "e3bd0f9f",
      "cell_type": "code",
      "source": "model = KerasClassifier(build_fn = create_model,verbose = 0,batch_size = 40,epochs = 10)\n# Define the grid search parameters\nlearning_rate = [0.001,0.01,0.1]\ndropout_rate = [0.0,0.1,0.2]\n# Make a dictionary of the grid search parameters\nparam_grids = dict(learning_rate = learning_rate,dropout_rate = dropout_rate)\n# Build and fit the GridSearchCV\ngrid = GridSearchCV(estimator = model,param_grid = param_grids,cv = KFold(),verbose = 10)\ngrid_result = grid.fit(X_standardized,y)",
      "execution_count": 23,
      "outputs": [
        {
          "name": "stderr",
          "output_type": "stream",
          "text": "C:\\Users\\Asus\\AppData\\Local\\Temp/ipykernel_16168/2987148320.py:1: DeprecationWarning: KerasClassifier is deprecated, use Sci-Keras (https://github.com/adriangb/scikeras) instead. See https://www.adriangb.com/scikeras/stable/migration.html for help migrating.\n  model = KerasClassifier(build_fn = create_model,verbose = 0,batch_size = 40,epochs = 10)\nC:\\Users\\Asus\\anaconda3\\anaconda\\lib\\site-packages\\keras\\optimizers\\optimizer_v2\\adam.py:110: UserWarning: The `lr` argument is deprecated, use `learning_rate` instead.\n  super(Adam, self).__init__(name, **kwargs)\n"
        },
        {
          "name": "stdout",
          "output_type": "stream",
          "text": "Fitting 5 folds for each of 9 candidates, totalling 45 fits\n[CV 1/5; 1/9] START dropout_rate=0.0, learning_rate=0.001.......................\n[CV 1/5; 1/9] END dropout_rate=0.0, learning_rate=0.001;, score=1.000 total time=   1.4s\n[CV 2/5; 1/9] START dropout_rate=0.0, learning_rate=0.001.......................\n"
        },
        {
          "name": "stderr",
          "output_type": "stream",
          "text": "C:\\Users\\Asus\\anaconda3\\anaconda\\lib\\site-packages\\keras\\optimizers\\optimizer_v2\\adam.py:110: UserWarning: The `lr` argument is deprecated, use `learning_rate` instead.\n  super(Adam, self).__init__(name, **kwargs)\n"
        },
        {
          "name": "stdout",
          "output_type": "stream",
          "text": "[CV 2/5; 1/9] END dropout_rate=0.0, learning_rate=0.001;, score=0.750 total time=   1.7s\n[CV 3/5; 1/9] START dropout_rate=0.0, learning_rate=0.001.......................\n"
        },
        {
          "name": "stderr",
          "output_type": "stream",
          "text": "C:\\Users\\Asus\\anaconda3\\anaconda\\lib\\site-packages\\keras\\optimizers\\optimizer_v2\\adam.py:110: UserWarning: The `lr` argument is deprecated, use `learning_rate` instead.\n  super(Adam, self).__init__(name, **kwargs)\n"
        },
        {
          "name": "stdout",
          "output_type": "stream",
          "text": "[CV 3/5; 1/9] END dropout_rate=0.0, learning_rate=0.001;, score=0.544 total time=   1.6s\n[CV 4/5; 1/9] START dropout_rate=0.0, learning_rate=0.001.......................\n"
        },
        {
          "name": "stderr",
          "output_type": "stream",
          "text": "C:\\Users\\Asus\\anaconda3\\anaconda\\lib\\site-packages\\keras\\optimizers\\optimizer_v2\\adam.py:110: UserWarning: The `lr` argument is deprecated, use `learning_rate` instead.\n  super(Adam, self).__init__(name, **kwargs)\n"
        },
        {
          "name": "stdout",
          "output_type": "stream",
          "text": "[CV 4/5; 1/9] END dropout_rate=0.0, learning_rate=0.001;, score=0.680 total time=   2.6s\n[CV 5/5; 1/9] START dropout_rate=0.0, learning_rate=0.001.......................\n"
        },
        {
          "name": "stderr",
          "output_type": "stream",
          "text": "C:\\Users\\Asus\\anaconda3\\anaconda\\lib\\site-packages\\keras\\optimizers\\optimizer_v2\\adam.py:110: UserWarning: The `lr` argument is deprecated, use `learning_rate` instead.\n  super(Adam, self).__init__(name, **kwargs)\n"
        },
        {
          "name": "stdout",
          "output_type": "stream",
          "text": "[CV 5/5; 1/9] END dropout_rate=0.0, learning_rate=0.001;, score=0.728 total time=   1.6s\n[CV 1/5; 2/9] START dropout_rate=0.0, learning_rate=0.01........................\n"
        },
        {
          "name": "stderr",
          "output_type": "stream",
          "text": "C:\\Users\\Asus\\anaconda3\\anaconda\\lib\\site-packages\\keras\\optimizers\\optimizer_v2\\adam.py:110: UserWarning: The `lr` argument is deprecated, use `learning_rate` instead.\n  super(Adam, self).__init__(name, **kwargs)\n"
        },
        {
          "name": "stdout",
          "output_type": "stream",
          "text": "[CV 1/5; 2/9] END dropout_rate=0.0, learning_rate=0.01;, score=1.000 total time=   1.9s\n[CV 2/5; 2/9] START dropout_rate=0.0, learning_rate=0.01........................\n"
        },
        {
          "name": "stderr",
          "output_type": "stream",
          "text": "C:\\Users\\Asus\\anaconda3\\anaconda\\lib\\site-packages\\keras\\optimizers\\optimizer_v2\\adam.py:110: UserWarning: The `lr` argument is deprecated, use `learning_rate` instead.\n  super(Adam, self).__init__(name, **kwargs)\n"
        },
        {
          "name": "stdout",
          "output_type": "stream",
          "text": "[CV 2/5; 2/9] END dropout_rate=0.0, learning_rate=0.01;, score=0.913 total time=   1.7s\n[CV 3/5; 2/9] START dropout_rate=0.0, learning_rate=0.01........................\n"
        },
        {
          "name": "stderr",
          "output_type": "stream",
          "text": "C:\\Users\\Asus\\anaconda3\\anaconda\\lib\\site-packages\\keras\\optimizers\\optimizer_v2\\adam.py:110: UserWarning: The `lr` argument is deprecated, use `learning_rate` instead.\n  super(Adam, self).__init__(name, **kwargs)\n"
        },
        {
          "name": "stdout",
          "output_type": "stream",
          "text": "[CV 3/5; 2/9] END dropout_rate=0.0, learning_rate=0.01;, score=0.922 total time=   1.7s\n[CV 4/5; 2/9] START dropout_rate=0.0, learning_rate=0.01........................\n"
        },
        {
          "name": "stderr",
          "output_type": "stream",
          "text": "C:\\Users\\Asus\\anaconda3\\anaconda\\lib\\site-packages\\keras\\optimizers\\optimizer_v2\\adam.py:110: UserWarning: The `lr` argument is deprecated, use `learning_rate` instead.\n  super(Adam, self).__init__(name, **kwargs)\n"
        },
        {
          "name": "stdout",
          "output_type": "stream",
          "text": "[CV 4/5; 2/9] END dropout_rate=0.0, learning_rate=0.01;, score=0.942 total time=   1.7s\n[CV 5/5; 2/9] START dropout_rate=0.0, learning_rate=0.01........................\n"
        },
        {
          "name": "stderr",
          "output_type": "stream",
          "text": "C:\\Users\\Asus\\anaconda3\\anaconda\\lib\\site-packages\\keras\\optimizers\\optimizer_v2\\adam.py:110: UserWarning: The `lr` argument is deprecated, use `learning_rate` instead.\n  super(Adam, self).__init__(name, **kwargs)\n"
        },
        {
          "name": "stdout",
          "output_type": "stream",
          "text": "[CV 5/5; 2/9] END dropout_rate=0.0, learning_rate=0.01;, score=0.922 total time=   1.7s\n[CV 1/5; 3/9] START dropout_rate=0.0, learning_rate=0.1.........................\n"
        },
        {
          "name": "stderr",
          "output_type": "stream",
          "text": "C:\\Users\\Asus\\anaconda3\\anaconda\\lib\\site-packages\\keras\\optimizers\\optimizer_v2\\adam.py:110: UserWarning: The `lr` argument is deprecated, use `learning_rate` instead.\n  super(Adam, self).__init__(name, **kwargs)\n"
        },
        {
          "name": "stdout",
          "output_type": "stream",
          "text": "[CV 1/5; 3/9] END dropout_rate=0.0, learning_rate=0.1;, score=1.000 total time=   1.9s\n[CV 2/5; 3/9] START dropout_rate=0.0, learning_rate=0.1.........................\n"
        },
        {
          "name": "stderr",
          "output_type": "stream",
          "text": "C:\\Users\\Asus\\anaconda3\\anaconda\\lib\\site-packages\\keras\\optimizers\\optimizer_v2\\adam.py:110: UserWarning: The `lr` argument is deprecated, use `learning_rate` instead.\n  super(Adam, self).__init__(name, **kwargs)\n"
        },
        {
          "name": "stdout",
          "output_type": "stream",
          "text": "[CV 2/5; 3/9] END dropout_rate=0.0, learning_rate=0.1;, score=0.962 total time=   1.7s\n[CV 3/5; 3/9] START dropout_rate=0.0, learning_rate=0.1.........................\n"
        },
        {
          "name": "stderr",
          "output_type": "stream",
          "text": "C:\\Users\\Asus\\anaconda3\\anaconda\\lib\\site-packages\\keras\\optimizers\\optimizer_v2\\adam.py:110: UserWarning: The `lr` argument is deprecated, use `learning_rate` instead.\n  super(Adam, self).__init__(name, **kwargs)\n"
        },
        {
          "name": "stdout",
          "output_type": "stream",
          "text": "[CV 3/5; 3/9] END dropout_rate=0.0, learning_rate=0.1;, score=0.971 total time=   1.7s\n[CV 4/5; 3/9] START dropout_rate=0.0, learning_rate=0.1.........................\n"
        },
        {
          "name": "stderr",
          "output_type": "stream",
          "text": "C:\\Users\\Asus\\anaconda3\\anaconda\\lib\\site-packages\\keras\\optimizers\\optimizer_v2\\adam.py:110: UserWarning: The `lr` argument is deprecated, use `learning_rate` instead.\n  super(Adam, self).__init__(name, **kwargs)\n"
        },
        {
          "name": "stdout",
          "output_type": "stream",
          "text": "[CV 4/5; 3/9] END dropout_rate=0.0, learning_rate=0.1;, score=0.913 total time=   2.1s\n[CV 5/5; 3/9] START dropout_rate=0.0, learning_rate=0.1.........................\n"
        },
        {
          "name": "stderr",
          "output_type": "stream",
          "text": "C:\\Users\\Asus\\anaconda3\\anaconda\\lib\\site-packages\\keras\\optimizers\\optimizer_v2\\adam.py:110: UserWarning: The `lr` argument is deprecated, use `learning_rate` instead.\n  super(Adam, self).__init__(name, **kwargs)\n"
        },
        {
          "name": "stdout",
          "output_type": "stream",
          "text": "[CV 5/5; 3/9] END dropout_rate=0.0, learning_rate=0.1;, score=0.932 total time=   1.7s\n[CV 1/5; 4/9] START dropout_rate=0.1, learning_rate=0.001.......................\n"
        },
        {
          "name": "stderr",
          "output_type": "stream",
          "text": "C:\\Users\\Asus\\anaconda3\\anaconda\\lib\\site-packages\\keras\\optimizers\\optimizer_v2\\adam.py:110: UserWarning: The `lr` argument is deprecated, use `learning_rate` instead.\n  super(Adam, self).__init__(name, **kwargs)\n"
        },
        {
          "name": "stdout",
          "output_type": "stream",
          "text": "[CV 1/5; 4/9] END dropout_rate=0.1, learning_rate=0.001;, score=1.000 total time=   2.4s\n[CV 2/5; 4/9] START dropout_rate=0.1, learning_rate=0.001.......................\n"
        },
        {
          "name": "stderr",
          "output_type": "stream",
          "text": "C:\\Users\\Asus\\anaconda3\\anaconda\\lib\\site-packages\\keras\\optimizers\\optimizer_v2\\adam.py:110: UserWarning: The `lr` argument is deprecated, use `learning_rate` instead.\n  super(Adam, self).__init__(name, **kwargs)\n"
        },
        {
          "name": "stdout",
          "output_type": "stream",
          "text": "[CV 2/5; 4/9] END dropout_rate=0.1, learning_rate=0.001;, score=0.750 total time=   1.7s\n[CV 3/5; 4/9] START dropout_rate=0.1, learning_rate=0.001.......................\n"
        },
        {
          "name": "stderr",
          "output_type": "stream",
          "text": "C:\\Users\\Asus\\anaconda3\\anaconda\\lib\\site-packages\\keras\\optimizers\\optimizer_v2\\adam.py:110: UserWarning: The `lr` argument is deprecated, use `learning_rate` instead.\n  super(Adam, self).__init__(name, **kwargs)\n"
        },
        {
          "name": "stdout",
          "output_type": "stream",
          "text": "[CV 3/5; 4/9] END dropout_rate=0.1, learning_rate=0.001;, score=0.524 total time=   1.7s\n[CV 4/5; 4/9] START dropout_rate=0.1, learning_rate=0.001.......................\n"
        },
        {
          "name": "stderr",
          "output_type": "stream",
          "text": "C:\\Users\\Asus\\anaconda3\\anaconda\\lib\\site-packages\\keras\\optimizers\\optimizer_v2\\adam.py:110: UserWarning: The `lr` argument is deprecated, use `learning_rate` instead.\n  super(Adam, self).__init__(name, **kwargs)\n"
        },
        {
          "name": "stdout",
          "output_type": "stream",
          "text": "[CV 4/5; 4/9] END dropout_rate=0.1, learning_rate=0.001;, score=0.680 total time=   2.3s\n[CV 5/5; 4/9] START dropout_rate=0.1, learning_rate=0.001.......................\n"
        },
        {
          "name": "stderr",
          "output_type": "stream",
          "text": "C:\\Users\\Asus\\anaconda3\\anaconda\\lib\\site-packages\\keras\\optimizers\\optimizer_v2\\adam.py:110: UserWarning: The `lr` argument is deprecated, use `learning_rate` instead.\n  super(Adam, self).__init__(name, **kwargs)\n"
        },
        {
          "name": "stdout",
          "output_type": "stream",
          "text": "[CV 5/5; 4/9] END dropout_rate=0.1, learning_rate=0.001;, score=0.699 total time=   1.8s\n[CV 1/5; 5/9] START dropout_rate=0.1, learning_rate=0.01........................\n"
        },
        {
          "name": "stderr",
          "output_type": "stream",
          "text": "C:\\Users\\Asus\\anaconda3\\anaconda\\lib\\site-packages\\keras\\optimizers\\optimizer_v2\\adam.py:110: UserWarning: The `lr` argument is deprecated, use `learning_rate` instead.\n  super(Adam, self).__init__(name, **kwargs)\n"
        },
        {
          "name": "stdout",
          "output_type": "stream",
          "text": "[CV 1/5; 5/9] END dropout_rate=0.1, learning_rate=0.01;, score=1.000 total time=   1.6s\n[CV 2/5; 5/9] START dropout_rate=0.1, learning_rate=0.01........................\n"
        },
        {
          "name": "stderr",
          "output_type": "stream",
          "text": "C:\\Users\\Asus\\anaconda3\\anaconda\\lib\\site-packages\\keras\\optimizers\\optimizer_v2\\adam.py:110: UserWarning: The `lr` argument is deprecated, use `learning_rate` instead.\n  super(Adam, self).__init__(name, **kwargs)\n"
        },
        {
          "name": "stdout",
          "output_type": "stream",
          "text": "[CV 2/5; 5/9] END dropout_rate=0.1, learning_rate=0.01;, score=0.981 total time=   1.6s\n[CV 3/5; 5/9] START dropout_rate=0.1, learning_rate=0.01........................\n"
        },
        {
          "name": "stderr",
          "output_type": "stream",
          "text": "C:\\Users\\Asus\\anaconda3\\anaconda\\lib\\site-packages\\keras\\optimizers\\optimizer_v2\\adam.py:110: UserWarning: The `lr` argument is deprecated, use `learning_rate` instead.\n  super(Adam, self).__init__(name, **kwargs)\n"
        },
        {
          "name": "stdout",
          "output_type": "stream",
          "text": "[CV 3/5; 5/9] END dropout_rate=0.1, learning_rate=0.01;, score=0.981 total time=   1.6s\n[CV 4/5; 5/9] START dropout_rate=0.1, learning_rate=0.01........................\n"
        },
        {
          "name": "stderr",
          "output_type": "stream",
          "text": "C:\\Users\\Asus\\anaconda3\\anaconda\\lib\\site-packages\\keras\\optimizers\\optimizer_v2\\adam.py:110: UserWarning: The `lr` argument is deprecated, use `learning_rate` instead.\n  super(Adam, self).__init__(name, **kwargs)\n"
        },
        {
          "name": "stdout",
          "output_type": "stream",
          "text": "[CV 4/5; 5/9] END dropout_rate=0.1, learning_rate=0.01;, score=0.961 total time=   1.6s\n[CV 5/5; 5/9] START dropout_rate=0.1, learning_rate=0.01........................\n"
        },
        {
          "name": "stderr",
          "output_type": "stream",
          "text": "C:\\Users\\Asus\\anaconda3\\anaconda\\lib\\site-packages\\keras\\optimizers\\optimizer_v2\\adam.py:110: UserWarning: The `lr` argument is deprecated, use `learning_rate` instead.\n  super(Adam, self).__init__(name, **kwargs)\n"
        },
        {
          "name": "stdout",
          "output_type": "stream",
          "text": "[CV 5/5; 5/9] END dropout_rate=0.1, learning_rate=0.01;, score=0.883 total time=   1.7s\n[CV 1/5; 6/9] START dropout_rate=0.1, learning_rate=0.1.........................\n"
        },
        {
          "name": "stderr",
          "output_type": "stream",
          "text": "C:\\Users\\Asus\\anaconda3\\anaconda\\lib\\site-packages\\keras\\optimizers\\optimizer_v2\\adam.py:110: UserWarning: The `lr` argument is deprecated, use `learning_rate` instead.\n  super(Adam, self).__init__(name, **kwargs)\n"
        },
        {
          "name": "stdout",
          "output_type": "stream",
          "text": "[CV 1/5; 6/9] END dropout_rate=0.1, learning_rate=0.1;, score=1.000 total time=   1.5s\n[CV 2/5; 6/9] START dropout_rate=0.1, learning_rate=0.1.........................\n"
        },
        {
          "name": "stderr",
          "output_type": "stream",
          "text": "C:\\Users\\Asus\\anaconda3\\anaconda\\lib\\site-packages\\keras\\optimizers\\optimizer_v2\\adam.py:110: UserWarning: The `lr` argument is deprecated, use `learning_rate` instead.\n  super(Adam, self).__init__(name, **kwargs)\n"
        },
        {
          "name": "stdout",
          "output_type": "stream",
          "text": "[CV 2/5; 6/9] END dropout_rate=0.1, learning_rate=0.1;, score=0.962 total time=   1.5s\n[CV 3/5; 6/9] START dropout_rate=0.1, learning_rate=0.1.........................\n"
        },
        {
          "name": "stderr",
          "output_type": "stream",
          "text": "C:\\Users\\Asus\\anaconda3\\anaconda\\lib\\site-packages\\keras\\optimizers\\optimizer_v2\\adam.py:110: UserWarning: The `lr` argument is deprecated, use `learning_rate` instead.\n  super(Adam, self).__init__(name, **kwargs)\n"
        },
        {
          "name": "stdout",
          "output_type": "stream",
          "text": "[CV 3/5; 6/9] END dropout_rate=0.1, learning_rate=0.1;, score=0.981 total time=   1.6s\n[CV 4/5; 6/9] START dropout_rate=0.1, learning_rate=0.1.........................\n"
        },
        {
          "name": "stderr",
          "output_type": "stream",
          "text": "C:\\Users\\Asus\\anaconda3\\anaconda\\lib\\site-packages\\keras\\optimizers\\optimizer_v2\\adam.py:110: UserWarning: The `lr` argument is deprecated, use `learning_rate` instead.\n  super(Adam, self).__init__(name, **kwargs)\n"
        },
        {
          "name": "stdout",
          "output_type": "stream",
          "text": "[CV 4/5; 6/9] END dropout_rate=0.1, learning_rate=0.1;, score=0.942 total time=   1.6s\n[CV 5/5; 6/9] START dropout_rate=0.1, learning_rate=0.1.........................\n"
        },
        {
          "name": "stderr",
          "output_type": "stream",
          "text": "C:\\Users\\Asus\\anaconda3\\anaconda\\lib\\site-packages\\keras\\optimizers\\optimizer_v2\\adam.py:110: UserWarning: The `lr` argument is deprecated, use `learning_rate` instead.\n  super(Adam, self).__init__(name, **kwargs)\n"
        },
        {
          "name": "stdout",
          "output_type": "stream",
          "text": "[CV 5/5; 6/9] END dropout_rate=0.1, learning_rate=0.1;, score=0.961 total time=   1.6s\n[CV 1/5; 7/9] START dropout_rate=0.2, learning_rate=0.001.......................\n"
        },
        {
          "name": "stderr",
          "output_type": "stream",
          "text": "C:\\Users\\Asus\\anaconda3\\anaconda\\lib\\site-packages\\keras\\optimizers\\optimizer_v2\\adam.py:110: UserWarning: The `lr` argument is deprecated, use `learning_rate` instead.\n  super(Adam, self).__init__(name, **kwargs)\n"
        },
        {
          "name": "stdout",
          "output_type": "stream",
          "text": "[CV 1/5; 7/9] END dropout_rate=0.2, learning_rate=0.001;, score=1.000 total time=   1.6s\n[CV 2/5; 7/9] START dropout_rate=0.2, learning_rate=0.001.......................\n"
        },
        {
          "name": "stderr",
          "output_type": "stream",
          "text": "C:\\Users\\Asus\\anaconda3\\anaconda\\lib\\site-packages\\keras\\optimizers\\optimizer_v2\\adam.py:110: UserWarning: The `lr` argument is deprecated, use `learning_rate` instead.\n  super(Adam, self).__init__(name, **kwargs)\n"
        },
        {
          "name": "stdout",
          "output_type": "stream",
          "text": "[CV 2/5; 7/9] END dropout_rate=0.2, learning_rate=0.001;, score=0.750 total time=   1.6s\n[CV 3/5; 7/9] START dropout_rate=0.2, learning_rate=0.001.......................\n"
        },
        {
          "name": "stderr",
          "output_type": "stream",
          "text": "C:\\Users\\Asus\\anaconda3\\anaconda\\lib\\site-packages\\keras\\optimizers\\optimizer_v2\\adam.py:110: UserWarning: The `lr` argument is deprecated, use `learning_rate` instead.\n  super(Adam, self).__init__(name, **kwargs)\n"
        },
        {
          "name": "stdout",
          "output_type": "stream",
          "text": "[CV 3/5; 7/9] END dropout_rate=0.2, learning_rate=0.001;, score=0.524 total time=   2.1s\n[CV 4/5; 7/9] START dropout_rate=0.2, learning_rate=0.001.......................\n"
        },
        {
          "name": "stderr",
          "output_type": "stream",
          "text": "C:\\Users\\Asus\\anaconda3\\anaconda\\lib\\site-packages\\keras\\optimizers\\optimizer_v2\\adam.py:110: UserWarning: The `lr` argument is deprecated, use `learning_rate` instead.\n  super(Adam, self).__init__(name, **kwargs)\n"
        },
        {
          "name": "stdout",
          "output_type": "stream",
          "text": "[CV 4/5; 7/9] END dropout_rate=0.2, learning_rate=0.001;, score=0.680 total time=   1.5s\n[CV 5/5; 7/9] START dropout_rate=0.2, learning_rate=0.001.......................\n"
        },
        {
          "name": "stderr",
          "output_type": "stream",
          "text": "C:\\Users\\Asus\\anaconda3\\anaconda\\lib\\site-packages\\keras\\optimizers\\optimizer_v2\\adam.py:110: UserWarning: The `lr` argument is deprecated, use `learning_rate` instead.\n  super(Adam, self).__init__(name, **kwargs)\n"
        },
        {
          "name": "stdout",
          "output_type": "stream",
          "text": "[CV 5/5; 7/9] END dropout_rate=0.2, learning_rate=0.001;, score=0.689 total time=   1.6s\n[CV 1/5; 8/9] START dropout_rate=0.2, learning_rate=0.01........................\n"
        },
        {
          "name": "stderr",
          "output_type": "stream",
          "text": "C:\\Users\\Asus\\anaconda3\\anaconda\\lib\\site-packages\\keras\\optimizers\\optimizer_v2\\adam.py:110: UserWarning: The `lr` argument is deprecated, use `learning_rate` instead.\n  super(Adam, self).__init__(name, **kwargs)\n"
        },
        {
          "name": "stdout",
          "output_type": "stream",
          "text": "[CV 1/5; 8/9] END dropout_rate=0.2, learning_rate=0.01;, score=1.000 total time=   1.7s\n[CV 2/5; 8/9] START dropout_rate=0.2, learning_rate=0.01........................\n"
        },
        {
          "name": "stderr",
          "output_type": "stream",
          "text": "C:\\Users\\Asus\\anaconda3\\anaconda\\lib\\site-packages\\keras\\optimizers\\optimizer_v2\\adam.py:110: UserWarning: The `lr` argument is deprecated, use `learning_rate` instead.\n  super(Adam, self).__init__(name, **kwargs)\n"
        },
        {
          "name": "stdout",
          "output_type": "stream",
          "text": "[CV 2/5; 8/9] END dropout_rate=0.2, learning_rate=0.01;, score=0.952 total time=   1.7s\n[CV 3/5; 8/9] START dropout_rate=0.2, learning_rate=0.01........................\n"
        },
        {
          "name": "stderr",
          "output_type": "stream",
          "text": "C:\\Users\\Asus\\anaconda3\\anaconda\\lib\\site-packages\\keras\\optimizers\\optimizer_v2\\adam.py:110: UserWarning: The `lr` argument is deprecated, use `learning_rate` instead.\n  super(Adam, self).__init__(name, **kwargs)\n"
        },
        {
          "name": "stdout",
          "output_type": "stream",
          "text": "[CV 3/5; 8/9] END dropout_rate=0.2, learning_rate=0.01;, score=0.971 total time=   1.5s\n[CV 4/5; 8/9] START dropout_rate=0.2, learning_rate=0.01........................\n"
        },
        {
          "name": "stderr",
          "output_type": "stream",
          "text": "C:\\Users\\Asus\\anaconda3\\anaconda\\lib\\site-packages\\keras\\optimizers\\optimizer_v2\\adam.py:110: UserWarning: The `lr` argument is deprecated, use `learning_rate` instead.\n  super(Adam, self).__init__(name, **kwargs)\n"
        },
        {
          "name": "stdout",
          "output_type": "stream",
          "text": "[CV 4/5; 8/9] END dropout_rate=0.2, learning_rate=0.01;, score=0.951 total time=   1.5s\n[CV 5/5; 8/9] START dropout_rate=0.2, learning_rate=0.01........................\n"
        },
        {
          "name": "stderr",
          "output_type": "stream",
          "text": "C:\\Users\\Asus\\anaconda3\\anaconda\\lib\\site-packages\\keras\\optimizers\\optimizer_v2\\adam.py:110: UserWarning: The `lr` argument is deprecated, use `learning_rate` instead.\n  super(Adam, self).__init__(name, **kwargs)\n"
        },
        {
          "name": "stdout",
          "output_type": "stream",
          "text": "[CV 5/5; 8/9] END dropout_rate=0.2, learning_rate=0.01;, score=0.913 total time=   1.5s\n[CV 1/5; 9/9] START dropout_rate=0.2, learning_rate=0.1.........................\n"
        },
        {
          "name": "stderr",
          "output_type": "stream",
          "text": "C:\\Users\\Asus\\anaconda3\\anaconda\\lib\\site-packages\\keras\\optimizers\\optimizer_v2\\adam.py:110: UserWarning: The `lr` argument is deprecated, use `learning_rate` instead.\n  super(Adam, self).__init__(name, **kwargs)\n"
        },
        {
          "name": "stdout",
          "output_type": "stream",
          "text": "[CV 1/5; 9/9] END dropout_rate=0.2, learning_rate=0.1;, score=1.000 total time=   1.7s\n[CV 2/5; 9/9] START dropout_rate=0.2, learning_rate=0.1.........................\n"
        },
        {
          "name": "stderr",
          "output_type": "stream",
          "text": "C:\\Users\\Asus\\anaconda3\\anaconda\\lib\\site-packages\\keras\\optimizers\\optimizer_v2\\adam.py:110: UserWarning: The `lr` argument is deprecated, use `learning_rate` instead.\n  super(Adam, self).__init__(name, **kwargs)\n"
        },
        {
          "name": "stdout",
          "output_type": "stream",
          "text": "[CV 2/5; 9/9] END dropout_rate=0.2, learning_rate=0.1;, score=0.750 total time=   1.6s\n[CV 3/5; 9/9] START dropout_rate=0.2, learning_rate=0.1.........................\n"
        },
        {
          "name": "stderr",
          "output_type": "stream",
          "text": "C:\\Users\\Asus\\anaconda3\\anaconda\\lib\\site-packages\\keras\\optimizers\\optimizer_v2\\adam.py:110: UserWarning: The `lr` argument is deprecated, use `learning_rate` instead.\n  super(Adam, self).__init__(name, **kwargs)\n"
        },
        {
          "name": "stdout",
          "output_type": "stream",
          "text": "[CV 3/5; 9/9] END dropout_rate=0.2, learning_rate=0.1;, score=0.913 total time=   1.7s\n[CV 4/5; 9/9] START dropout_rate=0.2, learning_rate=0.1.........................\n"
        },
        {
          "name": "stderr",
          "output_type": "stream",
          "text": "C:\\Users\\Asus\\anaconda3\\anaconda\\lib\\site-packages\\keras\\optimizers\\optimizer_v2\\adam.py:110: UserWarning: The `lr` argument is deprecated, use `learning_rate` instead.\n  super(Adam, self).__init__(name, **kwargs)\n"
        },
        {
          "name": "stdout",
          "output_type": "stream",
          "text": "[CV 4/5; 9/9] END dropout_rate=0.2, learning_rate=0.1;, score=0.942 total time=   1.8s\n[CV 5/5; 9/9] START dropout_rate=0.2, learning_rate=0.1.........................\n"
        },
        {
          "name": "stderr",
          "output_type": "stream",
          "text": "C:\\Users\\Asus\\anaconda3\\anaconda\\lib\\site-packages\\keras\\optimizers\\optimizer_v2\\adam.py:110: UserWarning: The `lr` argument is deprecated, use `learning_rate` instead.\n  super(Adam, self).__init__(name, **kwargs)\n"
        },
        {
          "name": "stdout",
          "output_type": "stream",
          "text": "[CV 5/5; 9/9] END dropout_rate=0.2, learning_rate=0.1;, score=0.893 total time=   1.8s\n"
        }
      ]
    },
    {
      "metadata": {
        "ExecuteTime": {
          "end_time": "2022-06-13T07:23:07.258070Z",
          "start_time": "2022-06-13T07:23:07.229120Z"
        },
        "trusted": false
      },
      "id": "93861b59",
      "cell_type": "code",
      "source": "def create_model(activation_function,init):\n  model = Sequential()\n  model.add(Dense(8,input_dim = 30,kernel_initializer = init,activation = activation_function))\n  model.add(Dropout(0.1))\n  model.add(Dense(4,input_dim = 30,kernel_initializer = init,activation = activation_function))\n  model.add(Dropout(0.1))\n  model.add(Dense(1,activation = 'sigmoid'))\n\n  adam = Adam(lr = 0.001)\n  model.compile(loss = 'binary_crossentropy',optimizer = adam,metrics = ['accuracy'])\n  return model",
      "execution_count": 24,
      "outputs": []
    },
    {
      "metadata": {
        "ExecuteTime": {
          "end_time": "2022-06-13T07:25:08.203189Z",
          "start_time": "2022-06-13T07:23:07.268223Z"
        },
        "trusted": false
      },
      "id": "5927e4e0",
      "cell_type": "code",
      "source": "model = KerasClassifier(build_fn = create_model,verbose = 0,batch_size = 40,epochs = 10)\n# Define the grid search parameters\nactivation_function = ['softmax','relu','tanh','linear']\ninit = ['uniform','normal','zero']\n# Make a dictionary of the grid search parameters\nparam_grids = dict(activation_function = activation_function,init = init)\n# Build and fit the GridSearchCV\ngrid = GridSearchCV(estimator = model,param_grid = param_grids,cv = KFold(),verbose = 10)\ngrid_result = grid.fit(X_standardized,y)",
      "execution_count": 25,
      "outputs": [
        {
          "name": "stderr",
          "output_type": "stream",
          "text": "C:\\Users\\Asus\\AppData\\Local\\Temp/ipykernel_16168/3120400967.py:1: DeprecationWarning: KerasClassifier is deprecated, use Sci-Keras (https://github.com/adriangb/scikeras) instead. See https://www.adriangb.com/scikeras/stable/migration.html for help migrating.\n  model = KerasClassifier(build_fn = create_model,verbose = 0,batch_size = 40,epochs = 10)\nC:\\Users\\Asus\\anaconda3\\anaconda\\lib\\site-packages\\keras\\optimizers\\optimizer_v2\\adam.py:110: UserWarning: The `lr` argument is deprecated, use `learning_rate` instead.\n  super(Adam, self).__init__(name, **kwargs)\n"
        },
        {
          "name": "stdout",
          "output_type": "stream",
          "text": "Fitting 5 folds for each of 12 candidates, totalling 60 fits\n[CV 1/5; 1/12] START activation_function=softmax, init=uniform..................\n[CV 1/5; 1/12] END activation_function=softmax, init=uniform;, score=1.000 total time=   2.8s\n[CV 2/5; 1/12] START activation_function=softmax, init=uniform..................\n"
        },
        {
          "name": "stderr",
          "output_type": "stream",
          "text": "C:\\Users\\Asus\\anaconda3\\anaconda\\lib\\site-packages\\keras\\optimizers\\optimizer_v2\\adam.py:110: UserWarning: The `lr` argument is deprecated, use `learning_rate` instead.\n  super(Adam, self).__init__(name, **kwargs)\n"
        },
        {
          "name": "stdout",
          "output_type": "stream",
          "text": "[CV 2/5; 1/12] END activation_function=softmax, init=uniform;, score=0.750 total time=   1.7s\n[CV 3/5; 1/12] START activation_function=softmax, init=uniform..................\n"
        },
        {
          "name": "stderr",
          "output_type": "stream",
          "text": "C:\\Users\\Asus\\anaconda3\\anaconda\\lib\\site-packages\\keras\\optimizers\\optimizer_v2\\adam.py:110: UserWarning: The `lr` argument is deprecated, use `learning_rate` instead.\n  super(Adam, self).__init__(name, **kwargs)\n"
        },
        {
          "name": "stdout",
          "output_type": "stream",
          "text": "[CV 3/5; 1/12] END activation_function=softmax, init=uniform;, score=0.524 total time=   2.0s\n[CV 4/5; 1/12] START activation_function=softmax, init=uniform..................\n"
        },
        {
          "name": "stderr",
          "output_type": "stream",
          "text": "C:\\Users\\Asus\\anaconda3\\anaconda\\lib\\site-packages\\keras\\optimizers\\optimizer_v2\\adam.py:110: UserWarning: The `lr` argument is deprecated, use `learning_rate` instead.\n  super(Adam, self).__init__(name, **kwargs)\n"
        },
        {
          "name": "stdout",
          "output_type": "stream",
          "text": "[CV 4/5; 1/12] END activation_function=softmax, init=uniform;, score=0.680 total time=   1.7s\n[CV 5/5; 1/12] START activation_function=softmax, init=uniform..................\n"
        },
        {
          "name": "stderr",
          "output_type": "stream",
          "text": "C:\\Users\\Asus\\anaconda3\\anaconda\\lib\\site-packages\\keras\\optimizers\\optimizer_v2\\adam.py:110: UserWarning: The `lr` argument is deprecated, use `learning_rate` instead.\n  super(Adam, self).__init__(name, **kwargs)\n"
        },
        {
          "name": "stdout",
          "output_type": "stream",
          "text": "[CV 5/5; 1/12] END activation_function=softmax, init=uniform;, score=0.699 total time=   1.9s\n[CV 1/5; 2/12] START activation_function=softmax, init=normal...................\n"
        },
        {
          "name": "stderr",
          "output_type": "stream",
          "text": "C:\\Users\\Asus\\anaconda3\\anaconda\\lib\\site-packages\\keras\\optimizers\\optimizer_v2\\adam.py:110: UserWarning: The `lr` argument is deprecated, use `learning_rate` instead.\n  super(Adam, self).__init__(name, **kwargs)\n"
        },
        {
          "name": "stdout",
          "output_type": "stream",
          "text": "[CV 1/5; 2/12] END activation_function=softmax, init=normal;, score=1.000 total time=   1.7s\n[CV 2/5; 2/12] START activation_function=softmax, init=normal...................\n"
        },
        {
          "name": "stderr",
          "output_type": "stream",
          "text": "C:\\Users\\Asus\\anaconda3\\anaconda\\lib\\site-packages\\keras\\optimizers\\optimizer_v2\\adam.py:110: UserWarning: The `lr` argument is deprecated, use `learning_rate` instead.\n  super(Adam, self).__init__(name, **kwargs)\n"
        },
        {
          "name": "stdout",
          "output_type": "stream",
          "text": "[CV 2/5; 2/12] END activation_function=softmax, init=normal;, score=0.250 total time=   1.7s\n[CV 3/5; 2/12] START activation_function=softmax, init=normal...................\n"
        },
        {
          "name": "stderr",
          "output_type": "stream",
          "text": "C:\\Users\\Asus\\anaconda3\\anaconda\\lib\\site-packages\\keras\\optimizers\\optimizer_v2\\adam.py:110: UserWarning: The `lr` argument is deprecated, use `learning_rate` instead.\n  super(Adam, self).__init__(name, **kwargs)\n"
        },
        {
          "name": "stdout",
          "output_type": "stream",
          "text": "[CV 3/5; 2/12] END activation_function=softmax, init=normal;, score=0.524 total time=   2.0s\n[CV 4/5; 2/12] START activation_function=softmax, init=normal...................\n"
        },
        {
          "name": "stderr",
          "output_type": "stream",
          "text": "C:\\Users\\Asus\\anaconda3\\anaconda\\lib\\site-packages\\keras\\optimizers\\optimizer_v2\\adam.py:110: UserWarning: The `lr` argument is deprecated, use `learning_rate` instead.\n  super(Adam, self).__init__(name, **kwargs)\n"
        },
        {
          "name": "stdout",
          "output_type": "stream",
          "text": "[CV 4/5; 2/12] END activation_function=softmax, init=normal;, score=0.680 total time=   2.4s\n[CV 5/5; 2/12] START activation_function=softmax, init=normal...................\n"
        },
        {
          "name": "stderr",
          "output_type": "stream",
          "text": "C:\\Users\\Asus\\anaconda3\\anaconda\\lib\\site-packages\\keras\\optimizers\\optimizer_v2\\adam.py:110: UserWarning: The `lr` argument is deprecated, use `learning_rate` instead.\n  super(Adam, self).__init__(name, **kwargs)\n"
        },
        {
          "name": "stdout",
          "output_type": "stream",
          "text": "[CV 5/5; 2/12] END activation_function=softmax, init=normal;, score=0.699 total time=   2.1s\n[CV 1/5; 3/12] START activation_function=softmax, init=zero.....................\n"
        },
        {
          "name": "stderr",
          "output_type": "stream",
          "text": "C:\\Users\\Asus\\anaconda3\\anaconda\\lib\\site-packages\\keras\\optimizers\\optimizer_v2\\adam.py:110: UserWarning: The `lr` argument is deprecated, use `learning_rate` instead.\n  super(Adam, self).__init__(name, **kwargs)\n"
        },
        {
          "name": "stdout",
          "output_type": "stream",
          "text": "[CV 1/5; 3/12] END activation_function=softmax, init=zero;, score=1.000 total time=   1.8s\n[CV 2/5; 3/12] START activation_function=softmax, init=zero.....................\n"
        },
        {
          "name": "stderr",
          "output_type": "stream",
          "text": "C:\\Users\\Asus\\anaconda3\\anaconda\\lib\\site-packages\\keras\\optimizers\\optimizer_v2\\adam.py:110: UserWarning: The `lr` argument is deprecated, use `learning_rate` instead.\n  super(Adam, self).__init__(name, **kwargs)\n"
        },
        {
          "name": "stdout",
          "output_type": "stream",
          "text": "[CV 2/5; 3/12] END activation_function=softmax, init=zero;, score=0.750 total time=   1.8s\n[CV 3/5; 3/12] START activation_function=softmax, init=zero.....................\n"
        },
        {
          "name": "stderr",
          "output_type": "stream",
          "text": "C:\\Users\\Asus\\anaconda3\\anaconda\\lib\\site-packages\\keras\\optimizers\\optimizer_v2\\adam.py:110: UserWarning: The `lr` argument is deprecated, use `learning_rate` instead.\n  super(Adam, self).__init__(name, **kwargs)\n"
        },
        {
          "name": "stdout",
          "output_type": "stream",
          "text": "[CV 3/5; 3/12] END activation_function=softmax, init=zero;, score=0.476 total time=   1.7s\n[CV 4/5; 3/12] START activation_function=softmax, init=zero.....................\n"
        },
        {
          "name": "stderr",
          "output_type": "stream",
          "text": "C:\\Users\\Asus\\anaconda3\\anaconda\\lib\\site-packages\\keras\\optimizers\\optimizer_v2\\adam.py:110: UserWarning: The `lr` argument is deprecated, use `learning_rate` instead.\n  super(Adam, self).__init__(name, **kwargs)\n"
        },
        {
          "name": "stdout",
          "output_type": "stream",
          "text": "[CV 4/5; 3/12] END activation_function=softmax, init=zero;, score=0.680 total time=   1.7s\n[CV 5/5; 3/12] START activation_function=softmax, init=zero.....................\n"
        },
        {
          "name": "stderr",
          "output_type": "stream",
          "text": "C:\\Users\\Asus\\anaconda3\\anaconda\\lib\\site-packages\\keras\\optimizers\\optimizer_v2\\adam.py:110: UserWarning: The `lr` argument is deprecated, use `learning_rate` instead.\n  super(Adam, self).__init__(name, **kwargs)\n"
        },
        {
          "name": "stdout",
          "output_type": "stream",
          "text": "[CV 5/5; 3/12] END activation_function=softmax, init=zero;, score=0.699 total time=   2.4s\n[CV 1/5; 4/12] START activation_function=relu, init=uniform.....................\n"
        },
        {
          "name": "stderr",
          "output_type": "stream",
          "text": "C:\\Users\\Asus\\anaconda3\\anaconda\\lib\\site-packages\\keras\\optimizers\\optimizer_v2\\adam.py:110: UserWarning: The `lr` argument is deprecated, use `learning_rate` instead.\n  super(Adam, self).__init__(name, **kwargs)\n"
        },
        {
          "name": "stdout",
          "output_type": "stream",
          "text": "[CV 1/5; 4/12] END activation_function=relu, init=uniform;, score=1.000 total time=   1.7s\n[CV 2/5; 4/12] START activation_function=relu, init=uniform.....................\n"
        },
        {
          "name": "stderr",
          "output_type": "stream",
          "text": "C:\\Users\\Asus\\anaconda3\\anaconda\\lib\\site-packages\\keras\\optimizers\\optimizer_v2\\adam.py:110: UserWarning: The `lr` argument is deprecated, use `learning_rate` instead.\n  super(Adam, self).__init__(name, **kwargs)\n"
        },
        {
          "name": "stdout",
          "output_type": "stream",
          "text": "[CV 2/5; 4/12] END activation_function=relu, init=uniform;, score=0.750 total time=   1.6s\n[CV 3/5; 4/12] START activation_function=relu, init=uniform.....................\n"
        },
        {
          "name": "stderr",
          "output_type": "stream",
          "text": "C:\\Users\\Asus\\anaconda3\\anaconda\\lib\\site-packages\\keras\\optimizers\\optimizer_v2\\adam.py:110: UserWarning: The `lr` argument is deprecated, use `learning_rate` instead.\n  super(Adam, self).__init__(name, **kwargs)\n"
        },
        {
          "name": "stdout",
          "output_type": "stream",
          "text": "[CV 3/5; 4/12] END activation_function=relu, init=uniform;, score=0.524 total time=   1.5s\n[CV 4/5; 4/12] START activation_function=relu, init=uniform.....................\n"
        },
        {
          "name": "stderr",
          "output_type": "stream",
          "text": "C:\\Users\\Asus\\anaconda3\\anaconda\\lib\\site-packages\\keras\\optimizers\\optimizer_v2\\adam.py:110: UserWarning: The `lr` argument is deprecated, use `learning_rate` instead.\n  super(Adam, self).__init__(name, **kwargs)\n"
        },
        {
          "name": "stdout",
          "output_type": "stream",
          "text": "[CV 4/5; 4/12] END activation_function=relu, init=uniform;, score=0.680 total time=   1.6s\n[CV 5/5; 4/12] START activation_function=relu, init=uniform.....................\n"
        },
        {
          "name": "stderr",
          "output_type": "stream",
          "text": "C:\\Users\\Asus\\anaconda3\\anaconda\\lib\\site-packages\\keras\\optimizers\\optimizer_v2\\adam.py:110: UserWarning: The `lr` argument is deprecated, use `learning_rate` instead.\n  super(Adam, self).__init__(name, **kwargs)\n"
        },
        {
          "name": "stdout",
          "output_type": "stream",
          "text": "[CV 5/5; 4/12] END activation_function=relu, init=uniform;, score=0.864 total time=   1.6s\n[CV 1/5; 5/12] START activation_function=relu, init=normal......................\n"
        },
        {
          "name": "stderr",
          "output_type": "stream",
          "text": "C:\\Users\\Asus\\anaconda3\\anaconda\\lib\\site-packages\\keras\\optimizers\\optimizer_v2\\adam.py:110: UserWarning: The `lr` argument is deprecated, use `learning_rate` instead.\n  super(Adam, self).__init__(name, **kwargs)\n"
        },
        {
          "name": "stdout",
          "output_type": "stream",
          "text": "[CV 1/5; 5/12] END activation_function=relu, init=normal;, score=1.000 total time=   2.4s\n[CV 2/5; 5/12] START activation_function=relu, init=normal......................\n"
        },
        {
          "name": "stderr",
          "output_type": "stream",
          "text": "C:\\Users\\Asus\\anaconda3\\anaconda\\lib\\site-packages\\keras\\optimizers\\optimizer_v2\\adam.py:110: UserWarning: The `lr` argument is deprecated, use `learning_rate` instead.\n  super(Adam, self).__init__(name, **kwargs)\n"
        },
        {
          "name": "stdout",
          "output_type": "stream",
          "text": "[CV 2/5; 5/12] END activation_function=relu, init=normal;, score=0.750 total time=   1.8s\n[CV 3/5; 5/12] START activation_function=relu, init=normal......................\n"
        },
        {
          "name": "stderr",
          "output_type": "stream",
          "text": "C:\\Users\\Asus\\anaconda3\\anaconda\\lib\\site-packages\\keras\\optimizers\\optimizer_v2\\adam.py:110: UserWarning: The `lr` argument is deprecated, use `learning_rate` instead.\n  super(Adam, self).__init__(name, **kwargs)\n"
        },
        {
          "name": "stdout",
          "output_type": "stream",
          "text": "[CV 3/5; 5/12] END activation_function=relu, init=normal;, score=0.524 total time=   1.8s\n[CV 4/5; 5/12] START activation_function=relu, init=normal......................\n"
        },
        {
          "name": "stderr",
          "output_type": "stream",
          "text": "C:\\Users\\Asus\\anaconda3\\anaconda\\lib\\site-packages\\keras\\optimizers\\optimizer_v2\\adam.py:110: UserWarning: The `lr` argument is deprecated, use `learning_rate` instead.\n  super(Adam, self).__init__(name, **kwargs)\n"
        },
        {
          "name": "stdout",
          "output_type": "stream",
          "text": "[CV 4/5; 5/12] END activation_function=relu, init=normal;, score=0.680 total time=   1.6s\n[CV 5/5; 5/12] START activation_function=relu, init=normal......................\n"
        },
        {
          "name": "stderr",
          "output_type": "stream",
          "text": "C:\\Users\\Asus\\anaconda3\\anaconda\\lib\\site-packages\\keras\\optimizers\\optimizer_v2\\adam.py:110: UserWarning: The `lr` argument is deprecated, use `learning_rate` instead.\n  super(Adam, self).__init__(name, **kwargs)\n"
        },
        {
          "name": "stdout",
          "output_type": "stream",
          "text": "[CV 5/5; 5/12] END activation_function=relu, init=normal;, score=0.699 total time=   1.7s\n[CV 1/5; 6/12] START activation_function=relu, init=zero........................\n"
        },
        {
          "name": "stderr",
          "output_type": "stream",
          "text": "C:\\Users\\Asus\\anaconda3\\anaconda\\lib\\site-packages\\keras\\optimizers\\optimizer_v2\\adam.py:110: UserWarning: The `lr` argument is deprecated, use `learning_rate` instead.\n  super(Adam, self).__init__(name, **kwargs)\n"
        },
        {
          "name": "stdout",
          "output_type": "stream",
          "text": "[CV 1/5; 6/12] END activation_function=relu, init=zero;, score=1.000 total time=   1.6s\n[CV 2/5; 6/12] START activation_function=relu, init=zero........................\n"
        },
        {
          "name": "stderr",
          "output_type": "stream",
          "text": "C:\\Users\\Asus\\anaconda3\\anaconda\\lib\\site-packages\\keras\\optimizers\\optimizer_v2\\adam.py:110: UserWarning: The `lr` argument is deprecated, use `learning_rate` instead.\n  super(Adam, self).__init__(name, **kwargs)\n"
        },
        {
          "name": "stdout",
          "output_type": "stream",
          "text": "[CV 2/5; 6/12] END activation_function=relu, init=zero;, score=0.750 total time=   1.6s\n[CV 3/5; 6/12] START activation_function=relu, init=zero........................\n"
        },
        {
          "name": "stderr",
          "output_type": "stream",
          "text": "C:\\Users\\Asus\\anaconda3\\anaconda\\lib\\site-packages\\keras\\optimizers\\optimizer_v2\\adam.py:110: UserWarning: The `lr` argument is deprecated, use `learning_rate` instead.\n  super(Adam, self).__init__(name, **kwargs)\n"
        },
        {
          "name": "stdout",
          "output_type": "stream",
          "text": "[CV 3/5; 6/12] END activation_function=relu, init=zero;, score=0.524 total time=   1.9s\n[CV 4/5; 6/12] START activation_function=relu, init=zero........................\n"
        },
        {
          "name": "stderr",
          "output_type": "stream",
          "text": "C:\\Users\\Asus\\anaconda3\\anaconda\\lib\\site-packages\\keras\\optimizers\\optimizer_v2\\adam.py:110: UserWarning: The `lr` argument is deprecated, use `learning_rate` instead.\n  super(Adam, self).__init__(name, **kwargs)\n"
        },
        {
          "name": "stdout",
          "output_type": "stream",
          "text": "[CV 4/5; 6/12] END activation_function=relu, init=zero;, score=0.680 total time=   2.3s\n[CV 5/5; 6/12] START activation_function=relu, init=zero........................\n"
        },
        {
          "name": "stderr",
          "output_type": "stream",
          "text": "C:\\Users\\Asus\\anaconda3\\anaconda\\lib\\site-packages\\keras\\optimizers\\optimizer_v2\\adam.py:110: UserWarning: The `lr` argument is deprecated, use `learning_rate` instead.\n  super(Adam, self).__init__(name, **kwargs)\n"
        },
        {
          "name": "stdout",
          "output_type": "stream",
          "text": "[CV 5/5; 6/12] END activation_function=relu, init=zero;, score=0.699 total time=   2.3s\n[CV 1/5; 7/12] START activation_function=tanh, init=uniform.....................\n"
        },
        {
          "name": "stderr",
          "output_type": "stream",
          "text": "C:\\Users\\Asus\\anaconda3\\anaconda\\lib\\site-packages\\keras\\optimizers\\optimizer_v2\\adam.py:110: UserWarning: The `lr` argument is deprecated, use `learning_rate` instead.\n  super(Adam, self).__init__(name, **kwargs)\n"
        },
        {
          "name": "stdout",
          "output_type": "stream",
          "text": "[CV 1/5; 7/12] END activation_function=tanh, init=uniform;, score=1.000 total time=   1.6s\n[CV 2/5; 7/12] START activation_function=tanh, init=uniform.....................\n"
        },
        {
          "name": "stderr",
          "output_type": "stream",
          "text": "C:\\Users\\Asus\\anaconda3\\anaconda\\lib\\site-packages\\keras\\optimizers\\optimizer_v2\\adam.py:110: UserWarning: The `lr` argument is deprecated, use `learning_rate` instead.\n  super(Adam, self).__init__(name, **kwargs)\n"
        },
        {
          "name": "stdout",
          "output_type": "stream",
          "text": "[CV 2/5; 7/12] END activation_function=tanh, init=uniform;, score=0.798 total time=   1.7s\n[CV 3/5; 7/12] START activation_function=tanh, init=uniform.....................\n"
        },
        {
          "name": "stderr",
          "output_type": "stream",
          "text": "C:\\Users\\Asus\\anaconda3\\anaconda\\lib\\site-packages\\keras\\optimizers\\optimizer_v2\\adam.py:110: UserWarning: The `lr` argument is deprecated, use `learning_rate` instead.\n  super(Adam, self).__init__(name, **kwargs)\n"
        },
        {
          "name": "stdout",
          "output_type": "stream",
          "text": "[CV 3/5; 7/12] END activation_function=tanh, init=uniform;, score=0.757 total time=   1.7s\n[CV 4/5; 7/12] START activation_function=tanh, init=uniform.....................\n"
        },
        {
          "name": "stderr",
          "output_type": "stream",
          "text": "C:\\Users\\Asus\\anaconda3\\anaconda\\lib\\site-packages\\keras\\optimizers\\optimizer_v2\\adam.py:110: UserWarning: The `lr` argument is deprecated, use `learning_rate` instead.\n  super(Adam, self).__init__(name, **kwargs)\n"
        },
        {
          "name": "stdout",
          "output_type": "stream",
          "text": "[CV 4/5; 7/12] END activation_function=tanh, init=uniform;, score=0.845 total time=   1.5s\n[CV 5/5; 7/12] START activation_function=tanh, init=uniform.....................\n"
        },
        {
          "name": "stderr",
          "output_type": "stream",
          "text": "C:\\Users\\Asus\\anaconda3\\anaconda\\lib\\site-packages\\keras\\optimizers\\optimizer_v2\\adam.py:110: UserWarning: The `lr` argument is deprecated, use `learning_rate` instead.\n  super(Adam, self).__init__(name, **kwargs)\n"
        },
        {
          "name": "stdout",
          "output_type": "stream",
          "text": "[CV 5/5; 7/12] END activation_function=tanh, init=uniform;, score=0.796 total time=   1.7s\n[CV 1/5; 8/12] START activation_function=tanh, init=normal......................\n"
        },
        {
          "name": "stderr",
          "output_type": "stream",
          "text": "C:\\Users\\Asus\\anaconda3\\anaconda\\lib\\site-packages\\keras\\optimizers\\optimizer_v2\\adam.py:110: UserWarning: The `lr` argument is deprecated, use `learning_rate` instead.\n  super(Adam, self).__init__(name, **kwargs)\n"
        },
        {
          "name": "stdout",
          "output_type": "stream",
          "text": "[CV 1/5; 8/12] END activation_function=tanh, init=normal;, score=1.000 total time=   2.0s\n[CV 2/5; 8/12] START activation_function=tanh, init=normal......................\n"
        },
        {
          "name": "stderr",
          "output_type": "stream",
          "text": "C:\\Users\\Asus\\anaconda3\\anaconda\\lib\\site-packages\\keras\\optimizers\\optimizer_v2\\adam.py:110: UserWarning: The `lr` argument is deprecated, use `learning_rate` instead.\n  super(Adam, self).__init__(name, **kwargs)\n"
        },
        {
          "name": "stdout",
          "output_type": "stream",
          "text": "[CV 2/5; 8/12] END activation_function=tanh, init=normal;, score=0.779 total time=   2.1s\n[CV 3/5; 8/12] START activation_function=tanh, init=normal......................\n"
        },
        {
          "name": "stderr",
          "output_type": "stream",
          "text": "C:\\Users\\Asus\\anaconda3\\anaconda\\lib\\site-packages\\keras\\optimizers\\optimizer_v2\\adam.py:110: UserWarning: The `lr` argument is deprecated, use `learning_rate` instead.\n  super(Adam, self).__init__(name, **kwargs)\n"
        },
        {
          "name": "stdout",
          "output_type": "stream",
          "text": "[CV 3/5; 8/12] END activation_function=tanh, init=normal;, score=0.718 total time=   2.1s\n[CV 4/5; 8/12] START activation_function=tanh, init=normal......................\n"
        },
        {
          "name": "stderr",
          "output_type": "stream",
          "text": "C:\\Users\\Asus\\anaconda3\\anaconda\\lib\\site-packages\\keras\\optimizers\\optimizer_v2\\adam.py:110: UserWarning: The `lr` argument is deprecated, use `learning_rate` instead.\n  super(Adam, self).__init__(name, **kwargs)\n"
        },
        {
          "name": "stdout",
          "output_type": "stream",
          "text": "[CV 4/5; 8/12] END activation_function=tanh, init=normal;, score=0.816 total time=   1.7s\n[CV 5/5; 8/12] START activation_function=tanh, init=normal......................\n"
        },
        {
          "name": "stderr",
          "output_type": "stream",
          "text": "C:\\Users\\Asus\\anaconda3\\anaconda\\lib\\site-packages\\keras\\optimizers\\optimizer_v2\\adam.py:110: UserWarning: The `lr` argument is deprecated, use `learning_rate` instead.\n  super(Adam, self).__init__(name, **kwargs)\n"
        },
        {
          "name": "stdout",
          "output_type": "stream",
          "text": "[CV 5/5; 8/12] END activation_function=tanh, init=normal;, score=0.845 total time=   2.6s\n[CV 1/5; 9/12] START activation_function=tanh, init=zero........................\n"
        },
        {
          "name": "stderr",
          "output_type": "stream",
          "text": "C:\\Users\\Asus\\anaconda3\\anaconda\\lib\\site-packages\\keras\\optimizers\\optimizer_v2\\adam.py:110: UserWarning: The `lr` argument is deprecated, use `learning_rate` instead.\n  super(Adam, self).__init__(name, **kwargs)\n"
        },
        {
          "name": "stdout",
          "output_type": "stream",
          "text": "[CV 1/5; 9/12] END activation_function=tanh, init=zero;, score=1.000 total time=   2.3s\n[CV 2/5; 9/12] START activation_function=tanh, init=zero........................\n"
        },
        {
          "name": "stderr",
          "output_type": "stream",
          "text": "C:\\Users\\Asus\\anaconda3\\anaconda\\lib\\site-packages\\keras\\optimizers\\optimizer_v2\\adam.py:110: UserWarning: The `lr` argument is deprecated, use `learning_rate` instead.\n  super(Adam, self).__init__(name, **kwargs)\n"
        },
        {
          "name": "stdout",
          "output_type": "stream",
          "text": "[CV 2/5; 9/12] END activation_function=tanh, init=zero;, score=0.750 total time=   2.8s\n[CV 3/5; 9/12] START activation_function=tanh, init=zero........................\n"
        },
        {
          "name": "stderr",
          "output_type": "stream",
          "text": "C:\\Users\\Asus\\anaconda3\\anaconda\\lib\\site-packages\\keras\\optimizers\\optimizer_v2\\adam.py:110: UserWarning: The `lr` argument is deprecated, use `learning_rate` instead.\n  super(Adam, self).__init__(name, **kwargs)\n"
        },
        {
          "name": "stdout",
          "output_type": "stream",
          "text": "[CV 3/5; 9/12] END activation_function=tanh, init=zero;, score=0.524 total time=   2.5s\n[CV 4/5; 9/12] START activation_function=tanh, init=zero........................\n"
        },
        {
          "name": "stderr",
          "output_type": "stream",
          "text": "C:\\Users\\Asus\\anaconda3\\anaconda\\lib\\site-packages\\keras\\optimizers\\optimizer_v2\\adam.py:110: UserWarning: The `lr` argument is deprecated, use `learning_rate` instead.\n  super(Adam, self).__init__(name, **kwargs)\n"
        },
        {
          "name": "stdout",
          "output_type": "stream",
          "text": "[CV 4/5; 9/12] END activation_function=tanh, init=zero;, score=0.680 total time=   1.8s\n[CV 5/5; 9/12] START activation_function=tanh, init=zero........................\n"
        },
        {
          "name": "stderr",
          "output_type": "stream",
          "text": "C:\\Users\\Asus\\anaconda3\\anaconda\\lib\\site-packages\\keras\\optimizers\\optimizer_v2\\adam.py:110: UserWarning: The `lr` argument is deprecated, use `learning_rate` instead.\n  super(Adam, self).__init__(name, **kwargs)\n"
        },
        {
          "name": "stdout",
          "output_type": "stream",
          "text": "[CV 5/5; 9/12] END activation_function=tanh, init=zero;, score=0.699 total time=   1.5s\n[CV 1/5; 10/12] START activation_function=linear, init=uniform..................\n"
        },
        {
          "name": "stderr",
          "output_type": "stream",
          "text": "C:\\Users\\Asus\\anaconda3\\anaconda\\lib\\site-packages\\keras\\optimizers\\optimizer_v2\\adam.py:110: UserWarning: The `lr` argument is deprecated, use `learning_rate` instead.\n  super(Adam, self).__init__(name, **kwargs)\n"
        },
        {
          "name": "stdout",
          "output_type": "stream",
          "text": "[CV 1/5; 10/12] END activation_function=linear, init=uniform;, score=0.971 total time=   1.5s\n[CV 2/5; 10/12] START activation_function=linear, init=uniform..................\n"
        },
        {
          "name": "stderr",
          "output_type": "stream",
          "text": "C:\\Users\\Asus\\anaconda3\\anaconda\\lib\\site-packages\\keras\\optimizers\\optimizer_v2\\adam.py:110: UserWarning: The `lr` argument is deprecated, use `learning_rate` instead.\n  super(Adam, self).__init__(name, **kwargs)\n"
        },
        {
          "name": "stdout",
          "output_type": "stream",
          "text": "[CV 2/5; 10/12] END activation_function=linear, init=uniform;, score=0.808 total time=   1.5s\n[CV 3/5; 10/12] START activation_function=linear, init=uniform..................\n"
        },
        {
          "name": "stderr",
          "output_type": "stream",
          "text": "C:\\Users\\Asus\\anaconda3\\anaconda\\lib\\site-packages\\keras\\optimizers\\optimizer_v2\\adam.py:110: UserWarning: The `lr` argument is deprecated, use `learning_rate` instead.\n  super(Adam, self).__init__(name, **kwargs)\n"
        },
        {
          "name": "stdout",
          "output_type": "stream",
          "text": "[CV 3/5; 10/12] END activation_function=linear, init=uniform;, score=0.728 total time=   1.6s\n[CV 4/5; 10/12] START activation_function=linear, init=uniform..................\n"
        },
        {
          "name": "stderr",
          "output_type": "stream",
          "text": "C:\\Users\\Asus\\anaconda3\\anaconda\\lib\\site-packages\\keras\\optimizers\\optimizer_v2\\adam.py:110: UserWarning: The `lr` argument is deprecated, use `learning_rate` instead.\n  super(Adam, self).__init__(name, **kwargs)\n"
        },
        {
          "name": "stdout",
          "output_type": "stream",
          "text": "[CV 4/5; 10/12] END activation_function=linear, init=uniform;, score=0.835 total time=   1.6s\n[CV 5/5; 10/12] START activation_function=linear, init=uniform..................\n"
        },
        {
          "name": "stderr",
          "output_type": "stream",
          "text": "C:\\Users\\Asus\\anaconda3\\anaconda\\lib\\site-packages\\keras\\optimizers\\optimizer_v2\\adam.py:110: UserWarning: The `lr` argument is deprecated, use `learning_rate` instead.\n  super(Adam, self).__init__(name, **kwargs)\n"
        },
        {
          "name": "stdout",
          "output_type": "stream",
          "text": "[CV 5/5; 10/12] END activation_function=linear, init=uniform;, score=0.845 total time=   1.5s\n[CV 1/5; 11/12] START activation_function=linear, init=normal...................\n"
        },
        {
          "name": "stderr",
          "output_type": "stream",
          "text": "C:\\Users\\Asus\\anaconda3\\anaconda\\lib\\site-packages\\keras\\optimizers\\optimizer_v2\\adam.py:110: UserWarning: The `lr` argument is deprecated, use `learning_rate` instead.\n  super(Adam, self).__init__(name, **kwargs)\n"
        },
        {
          "name": "stdout",
          "output_type": "stream",
          "text": "[CV 1/5; 11/12] END activation_function=linear, init=normal;, score=1.000 total time=   1.5s\n[CV 2/5; 11/12] START activation_function=linear, init=normal...................\n"
        },
        {
          "name": "stderr",
          "output_type": "stream",
          "text": "C:\\Users\\Asus\\anaconda3\\anaconda\\lib\\site-packages\\keras\\optimizers\\optimizer_v2\\adam.py:110: UserWarning: The `lr` argument is deprecated, use `learning_rate` instead.\n  super(Adam, self).__init__(name, **kwargs)\n"
        },
        {
          "name": "stdout",
          "output_type": "stream",
          "text": "[CV 2/5; 11/12] END activation_function=linear, init=normal;, score=0.808 total time=   1.8s\n[CV 3/5; 11/12] START activation_function=linear, init=normal...................\n"
        },
        {
          "name": "stderr",
          "output_type": "stream",
          "text": "C:\\Users\\Asus\\anaconda3\\anaconda\\lib\\site-packages\\keras\\optimizers\\optimizer_v2\\adam.py:110: UserWarning: The `lr` argument is deprecated, use `learning_rate` instead.\n  super(Adam, self).__init__(name, **kwargs)\n"
        },
        {
          "name": "stdout",
          "output_type": "stream",
          "text": "[CV 3/5; 11/12] END activation_function=linear, init=normal;, score=0.728 total time=   1.9s\n[CV 4/5; 11/12] START activation_function=linear, init=normal...................\n"
        },
        {
          "name": "stderr",
          "output_type": "stream",
          "text": "C:\\Users\\Asus\\anaconda3\\anaconda\\lib\\site-packages\\keras\\optimizers\\optimizer_v2\\adam.py:110: UserWarning: The `lr` argument is deprecated, use `learning_rate` instead.\n  super(Adam, self).__init__(name, **kwargs)\n"
        },
        {
          "name": "stdout",
          "output_type": "stream",
          "text": "[CV 4/5; 11/12] END activation_function=linear, init=normal;, score=0.845 total time=   1.7s\n[CV 5/5; 11/12] START activation_function=linear, init=normal...................\n"
        },
        {
          "name": "stderr",
          "output_type": "stream",
          "text": "C:\\Users\\Asus\\anaconda3\\anaconda\\lib\\site-packages\\keras\\optimizers\\optimizer_v2\\adam.py:110: UserWarning: The `lr` argument is deprecated, use `learning_rate` instead.\n  super(Adam, self).__init__(name, **kwargs)\n"
        },
        {
          "name": "stdout",
          "output_type": "stream",
          "text": "[CV 5/5; 11/12] END activation_function=linear, init=normal;, score=0.845 total time=   1.9s\n[CV 1/5; 12/12] START activation_function=linear, init=zero.....................\n"
        },
        {
          "name": "stderr",
          "output_type": "stream",
          "text": "C:\\Users\\Asus\\anaconda3\\anaconda\\lib\\site-packages\\keras\\optimizers\\optimizer_v2\\adam.py:110: UserWarning: The `lr` argument is deprecated, use `learning_rate` instead.\n  super(Adam, self).__init__(name, **kwargs)\n"
        },
        {
          "name": "stdout",
          "output_type": "stream",
          "text": "[CV 1/5; 12/12] END activation_function=linear, init=zero;, score=1.000 total time=   2.1s\n[CV 2/5; 12/12] START activation_function=linear, init=zero.....................\n"
        },
        {
          "name": "stderr",
          "output_type": "stream",
          "text": "C:\\Users\\Asus\\anaconda3\\anaconda\\lib\\site-packages\\keras\\optimizers\\optimizer_v2\\adam.py:110: UserWarning: The `lr` argument is deprecated, use `learning_rate` instead.\n  super(Adam, self).__init__(name, **kwargs)\n"
        },
        {
          "name": "stdout",
          "output_type": "stream",
          "text": "[CV 2/5; 12/12] END activation_function=linear, init=zero;, score=0.750 total time=   2.2s\n[CV 3/5; 12/12] START activation_function=linear, init=zero.....................\n"
        },
        {
          "name": "stderr",
          "output_type": "stream",
          "text": "C:\\Users\\Asus\\anaconda3\\anaconda\\lib\\site-packages\\keras\\optimizers\\optimizer_v2\\adam.py:110: UserWarning: The `lr` argument is deprecated, use `learning_rate` instead.\n  super(Adam, self).__init__(name, **kwargs)\n"
        },
        {
          "name": "stdout",
          "output_type": "stream",
          "text": "[CV 3/5; 12/12] END activation_function=linear, init=zero;, score=0.524 total time=   1.9s\n[CV 4/5; 12/12] START activation_function=linear, init=zero.....................\n"
        },
        {
          "name": "stderr",
          "output_type": "stream",
          "text": "C:\\Users\\Asus\\anaconda3\\anaconda\\lib\\site-packages\\keras\\optimizers\\optimizer_v2\\adam.py:110: UserWarning: The `lr` argument is deprecated, use `learning_rate` instead.\n  super(Adam, self).__init__(name, **kwargs)\n"
        },
        {
          "name": "stdout",
          "output_type": "stream",
          "text": "[CV 4/5; 12/12] END activation_function=linear, init=zero;, score=0.680 total time=   1.6s\n[CV 5/5; 12/12] START activation_function=linear, init=zero.....................\n"
        },
        {
          "name": "stderr",
          "output_type": "stream",
          "text": "C:\\Users\\Asus\\anaconda3\\anaconda\\lib\\site-packages\\keras\\optimizers\\optimizer_v2\\adam.py:110: UserWarning: The `lr` argument is deprecated, use `learning_rate` instead.\n  super(Adam, self).__init__(name, **kwargs)\n"
        },
        {
          "name": "stdout",
          "output_type": "stream",
          "text": "[CV 5/5; 12/12] END activation_function=linear, init=zero;, score=0.699 total time=   2.4s\n"
        }
      ]
    },
    {
      "metadata": {
        "ExecuteTime": {
          "end_time": "2022-06-13T07:25:08.261746Z",
          "start_time": "2022-06-13T07:25:08.215997Z"
        },
        "trusted": false
      },
      "id": "4575584d",
      "cell_type": "code",
      "source": "print('Best : {}, using {}'.format(grid_result.best_score_,grid_result.best_params_))\nmeans = grid_result.cv_results_['mean_test_score']\nstds = grid_result.cv_results_['std_test_score']\nparams = grid_result.cv_results_['params']\nfor mean, stdev, param in zip(means, stds, params):\n  print('{},{} with: {}'.format(mean, stdev, param))",
      "execution_count": 26,
      "outputs": [
        {
          "name": "stdout",
          "output_type": "stream",
          "text": "Best : 0.845033609867096, using {'activation_function': 'linear', 'init': 'normal'}\n0.7305825233459473,0.15435061319000673 with: {'activation_function': 'softmax', 'init': 'uniform'}\n0.6305825233459472,0.24482772813004766 with: {'activation_function': 'softmax', 'init': 'normal'}\n0.7208737850189209,0.16794994181639633 with: {'activation_function': 'softmax', 'init': 'zero'}\n0.7635922312736512,0.16155351939420937 with: {'activation_function': 'relu', 'init': 'uniform'}\n0.7305825233459473,0.15435061319000673 with: {'activation_function': 'relu', 'init': 'normal'}\n0.7305825233459473,0.15435061319000673 with: {'activation_function': 'relu', 'init': 'zero'}\n0.839227044582367,0.0850227928870106 with: {'activation_function': 'tanh', 'init': 'uniform'}\n0.8314973950386048,0.09420599944428691 with: {'activation_function': 'tanh', 'init': 'normal'}\n0.7305825233459473,0.15435061319000673 with: {'activation_function': 'tanh', 'init': 'zero'}\n0.8373226284980774,0.07844197772802802 with: {'activation_function': 'linear', 'init': 'uniform'}\n0.845033609867096,0.08839657341096986 with: {'activation_function': 'linear', 'init': 'normal'}\n0.7305825233459473,0.15435061319000673 with: {'activation_function': 'linear', 'init': 'zero'}\n"
        }
      ]
    },
    {
      "metadata": {
        "ExecuteTime": {
          "end_time": "2022-06-13T07:25:08.303139Z",
          "start_time": "2022-06-13T07:25:08.272726Z"
        },
        "trusted": false
      },
      "id": "d5085edd",
      "cell_type": "code",
      "source": "def create_model(neuron1,neuron2):\n    model = Sequential()\n    model.add(Dense(neuron1,input_dim = 8,kernel_initializer = 'uniform',activation = 'tanh'))\n    model.add(Dropout(0.1))\n    model.add(Dense(neuron2,input_dim = neuron1,kernel_initializer = 'uniform',activation = 'tanh'))\n    model.add(Dropout(0.1))\n    model.add(Dense(1,activation = 'sigmoid'))\n    \n    adam = Adam(lr = 0.001)\n    model.compile(loss = 'binary_crossentropy',optimizer = adam,metrics = ['accuracy'])\n    return model",
      "execution_count": 27,
      "outputs": []
    },
    {
      "metadata": {
        "ExecuteTime": {
          "end_time": "2022-06-13T07:25:21.072409Z",
          "start_time": "2022-06-13T07:25:08.307195Z"
        },
        "trusted": false
      },
      "id": "42c565e4",
      "cell_type": "code",
      "source": "model = KerasClassifier(build_fn = create_model,verbose = 0,batch_size = 40,epochs = 10)\n\nneuron1 = [4,8,16]\nneuron2 = [2,4,8]\n\nparam_grids = dict(neuron1 = neuron1,neuron2 = neuron2)\n\n# Build and fit the GridSearchCV\ngrid = GridSearchCV(estimator = model,param_grid = param_grids,cv = KFold(),verbose = 10)\ngrid_result = grid.fit(X_standardized,y)",
      "execution_count": 28,
      "outputs": [
        {
          "name": "stdout",
          "output_type": "stream",
          "text": "Fitting 5 folds for each of 9 candidates, totalling 45 fits\n[CV 1/5; 1/9] START neuron1=4, neuron2=2........................................\n"
        },
        {
          "name": "stderr",
          "output_type": "stream",
          "text": "C:\\Users\\Asus\\AppData\\Local\\Temp/ipykernel_16168/326346131.py:1: DeprecationWarning: KerasClassifier is deprecated, use Sci-Keras (https://github.com/adriangb/scikeras) instead. See https://www.adriangb.com/scikeras/stable/migration.html for help migrating.\n  model = KerasClassifier(build_fn = create_model,verbose = 0,batch_size = 40,epochs = 10)\nC:\\Users\\Asus\\anaconda3\\anaconda\\lib\\site-packages\\keras\\optimizers\\optimizer_v2\\adam.py:110: UserWarning: The `lr` argument is deprecated, use `learning_rate` instead.\n  super(Adam, self).__init__(name, **kwargs)\nC:\\Users\\Asus\\anaconda3\\anaconda\\lib\\site-packages\\sklearn\\model_selection\\_validation.py:615: FitFailedWarning: Estimator fit failed. The score on this train-test partition for these parameters will be set to nan. Details: \nTraceback (most recent call last):\n  File \"C:\\Users\\Asus\\anaconda3\\anaconda\\lib\\site-packages\\sklearn\\model_selection\\_validation.py\", line 598, in _fit_and_score\n    estimator.fit(X_train, y_train, **fit_params)\n  File \"C:\\Users\\Asus\\anaconda3\\anaconda\\lib\\site-packages\\keras\\wrappers\\scikit_learn.py\", line 236, in fit\n    return super(KerasClassifier, self).fit(x, y, **kwargs)\n  File \"C:\\Users\\Asus\\anaconda3\\anaconda\\lib\\site-packages\\keras\\wrappers\\scikit_learn.py\", line 164, in fit\n    history = self.model.fit(x, y, **fit_args)\n  File \"C:\\Users\\Asus\\anaconda3\\anaconda\\lib\\site-packages\\keras\\utils\\traceback_utils.py\", line 67, in error_handler\n    raise e.with_traceback(filtered_tb) from None\n  File \"C:\\Users\\Asus\\AppData\\Local\\Temp\\__autograph_generated_fileetbnm25r.py\", line 15, in tf__train_function\n    retval_ = ag__.converted_call(ag__.ld(step_function), (ag__.ld(self), ag__.ld(iterator)), None, fscope)\nValueError: in user code:\n\n    File \"C:\\Users\\Asus\\anaconda3\\anaconda\\lib\\site-packages\\keras\\engine\\training.py\", line 1051, in train_function  *\n        return step_function(self, iterator)\n    File \"C:\\Users\\Asus\\anaconda3\\anaconda\\lib\\site-packages\\keras\\engine\\training.py\", line 1040, in step_function  **\n        outputs = model.distribute_strategy.run(run_step, args=(data,))\n    File \"C:\\Users\\Asus\\anaconda3\\anaconda\\lib\\site-packages\\keras\\engine\\training.py\", line 1030, in run_step  **\n        outputs = model.train_step(data)\n    File \"C:\\Users\\Asus\\anaconda3\\anaconda\\lib\\site-packages\\keras\\engine\\training.py\", line 889, in train_step\n        y_pred = self(x, training=True)\n    File \"C:\\Users\\Asus\\anaconda3\\anaconda\\lib\\site-packages\\keras\\utils\\traceback_utils.py\", line 67, in error_handler\n        raise e.with_traceback(filtered_tb) from None\n    File \"C:\\Users\\Asus\\anaconda3\\anaconda\\lib\\site-packages\\keras\\engine\\input_spec.py\", line 264, in assert_input_compatibility\n        raise ValueError(f'Input {input_index} of layer \"{layer_name}\" is '\n\n    ValueError: Input 0 of layer \"sequential_154\" is incompatible with the layer: expected shape=(None, 8), found shape=(None, 30)\n\n\n  warnings.warn(\"Estimator fit failed. The score on this train-test\"\n"
        },
        {
          "name": "stdout",
          "output_type": "stream",
          "text": "[CV 1/5; 1/9] END ...........neuron1=4, neuron2=2;, score=nan total time=   0.1s\n[CV 2/5; 1/9] START neuron1=4, neuron2=2........................................\n"
        },
        {
          "name": "stderr",
          "output_type": "stream",
          "text": "C:\\Users\\Asus\\anaconda3\\anaconda\\lib\\site-packages\\keras\\optimizers\\optimizer_v2\\adam.py:110: UserWarning: The `lr` argument is deprecated, use `learning_rate` instead.\n  super(Adam, self).__init__(name, **kwargs)\nC:\\Users\\Asus\\anaconda3\\anaconda\\lib\\site-packages\\sklearn\\model_selection\\_validation.py:615: FitFailedWarning: Estimator fit failed. The score on this train-test partition for these parameters will be set to nan. Details: \nTraceback (most recent call last):\n  File \"C:\\Users\\Asus\\anaconda3\\anaconda\\lib\\site-packages\\sklearn\\model_selection\\_validation.py\", line 598, in _fit_and_score\n    estimator.fit(X_train, y_train, **fit_params)\n  File \"C:\\Users\\Asus\\anaconda3\\anaconda\\lib\\site-packages\\keras\\wrappers\\scikit_learn.py\", line 236, in fit\n    return super(KerasClassifier, self).fit(x, y, **kwargs)\n  File \"C:\\Users\\Asus\\anaconda3\\anaconda\\lib\\site-packages\\keras\\wrappers\\scikit_learn.py\", line 164, in fit\n    history = self.model.fit(x, y, **fit_args)\n  File \"C:\\Users\\Asus\\anaconda3\\anaconda\\lib\\site-packages\\keras\\utils\\traceback_utils.py\", line 67, in error_handler\n    raise e.with_traceback(filtered_tb) from None\n  File \"C:\\Users\\Asus\\AppData\\Local\\Temp\\__autograph_generated_fileetbnm25r.py\", line 15, in tf__train_function\n    retval_ = ag__.converted_call(ag__.ld(step_function), (ag__.ld(self), ag__.ld(iterator)), None, fscope)\nValueError: in user code:\n\n    File \"C:\\Users\\Asus\\anaconda3\\anaconda\\lib\\site-packages\\keras\\engine\\training.py\", line 1051, in train_function  *\n        return step_function(self, iterator)\n    File \"C:\\Users\\Asus\\anaconda3\\anaconda\\lib\\site-packages\\keras\\engine\\training.py\", line 1040, in step_function  **\n        outputs = model.distribute_strategy.run(run_step, args=(data,))\n    File \"C:\\Users\\Asus\\anaconda3\\anaconda\\lib\\site-packages\\keras\\engine\\training.py\", line 1030, in run_step  **\n        outputs = model.train_step(data)\n    File \"C:\\Users\\Asus\\anaconda3\\anaconda\\lib\\site-packages\\keras\\engine\\training.py\", line 889, in train_step\n        y_pred = self(x, training=True)\n    File \"C:\\Users\\Asus\\anaconda3\\anaconda\\lib\\site-packages\\keras\\utils\\traceback_utils.py\", line 67, in error_handler\n        raise e.with_traceback(filtered_tb) from None\n    File \"C:\\Users\\Asus\\anaconda3\\anaconda\\lib\\site-packages\\keras\\engine\\input_spec.py\", line 264, in assert_input_compatibility\n        raise ValueError(f'Input {input_index} of layer \"{layer_name}\" is '\n\n    ValueError: Input 0 of layer \"sequential_155\" is incompatible with the layer: expected shape=(None, 8), found shape=(None, 30)\n\n\n  warnings.warn(\"Estimator fit failed. The score on this train-test\"\nC:\\Users\\Asus\\anaconda3\\anaconda\\lib\\site-packages\\keras\\optimizers\\optimizer_v2\\adam.py:110: UserWarning: The `lr` argument is deprecated, use `learning_rate` instead.\n  super(Adam, self).__init__(name, **kwargs)\n"
        },
        {
          "name": "stdout",
          "output_type": "stream",
          "text": "[CV 2/5; 1/9] END ...........neuron1=4, neuron2=2;, score=nan total time=   0.1s\n[CV 3/5; 1/9] START neuron1=4, neuron2=2........................................\n[CV 3/5; 1/9] END ...........neuron1=4, neuron2=2;, score=nan total time=   0.1s\n[CV 4/5; 1/9] START neuron1=4, neuron2=2........................................\n"
        },
        {
          "name": "stderr",
          "output_type": "stream",
          "text": "C:\\Users\\Asus\\anaconda3\\anaconda\\lib\\site-packages\\sklearn\\model_selection\\_validation.py:615: FitFailedWarning: Estimator fit failed. The score on this train-test partition for these parameters will be set to nan. Details: \nTraceback (most recent call last):\n  File \"C:\\Users\\Asus\\anaconda3\\anaconda\\lib\\site-packages\\sklearn\\model_selection\\_validation.py\", line 598, in _fit_and_score\n    estimator.fit(X_train, y_train, **fit_params)\n  File \"C:\\Users\\Asus\\anaconda3\\anaconda\\lib\\site-packages\\keras\\wrappers\\scikit_learn.py\", line 236, in fit\n    return super(KerasClassifier, self).fit(x, y, **kwargs)\n  File \"C:\\Users\\Asus\\anaconda3\\anaconda\\lib\\site-packages\\keras\\wrappers\\scikit_learn.py\", line 164, in fit\n    history = self.model.fit(x, y, **fit_args)\n  File \"C:\\Users\\Asus\\anaconda3\\anaconda\\lib\\site-packages\\keras\\utils\\traceback_utils.py\", line 67, in error_handler\n    raise e.with_traceback(filtered_tb) from None\n  File \"C:\\Users\\Asus\\AppData\\Local\\Temp\\__autograph_generated_fileetbnm25r.py\", line 15, in tf__train_function\n    retval_ = ag__.converted_call(ag__.ld(step_function), (ag__.ld(self), ag__.ld(iterator)), None, fscope)\nValueError: in user code:\n\n    File \"C:\\Users\\Asus\\anaconda3\\anaconda\\lib\\site-packages\\keras\\engine\\training.py\", line 1051, in train_function  *\n        return step_function(self, iterator)\n    File \"C:\\Users\\Asus\\anaconda3\\anaconda\\lib\\site-packages\\keras\\engine\\training.py\", line 1040, in step_function  **\n        outputs = model.distribute_strategy.run(run_step, args=(data,))\n    File \"C:\\Users\\Asus\\anaconda3\\anaconda\\lib\\site-packages\\keras\\engine\\training.py\", line 1030, in run_step  **\n        outputs = model.train_step(data)\n    File \"C:\\Users\\Asus\\anaconda3\\anaconda\\lib\\site-packages\\keras\\engine\\training.py\", line 889, in train_step\n        y_pred = self(x, training=True)\n    File \"C:\\Users\\Asus\\anaconda3\\anaconda\\lib\\site-packages\\keras\\utils\\traceback_utils.py\", line 67, in error_handler\n        raise e.with_traceback(filtered_tb) from None\n    File \"C:\\Users\\Asus\\anaconda3\\anaconda\\lib\\site-packages\\keras\\engine\\input_spec.py\", line 264, in assert_input_compatibility\n        raise ValueError(f'Input {input_index} of layer \"{layer_name}\" is '\n\n    ValueError: Input 0 of layer \"sequential_156\" is incompatible with the layer: expected shape=(None, 8), found shape=(None, 30)\n\n\n  warnings.warn(\"Estimator fit failed. The score on this train-test\"\nC:\\Users\\Asus\\anaconda3\\anaconda\\lib\\site-packages\\keras\\optimizers\\optimizer_v2\\adam.py:110: UserWarning: The `lr` argument is deprecated, use `learning_rate` instead.\n  super(Adam, self).__init__(name, **kwargs)\nC:\\Users\\Asus\\anaconda3\\anaconda\\lib\\site-packages\\sklearn\\model_selection\\_validation.py:615: FitFailedWarning: Estimator fit failed. The score on this train-test partition for these parameters will be set to nan. Details: \nTraceback (most recent call last):\n  File \"C:\\Users\\Asus\\anaconda3\\anaconda\\lib\\site-packages\\sklearn\\model_selection\\_validation.py\", line 598, in _fit_and_score\n    estimator.fit(X_train, y_train, **fit_params)\n  File \"C:\\Users\\Asus\\anaconda3\\anaconda\\lib\\site-packages\\keras\\wrappers\\scikit_learn.py\", line 236, in fit\n    return super(KerasClassifier, self).fit(x, y, **kwargs)\n  File \"C:\\Users\\Asus\\anaconda3\\anaconda\\lib\\site-packages\\keras\\wrappers\\scikit_learn.py\", line 164, in fit\n    history = self.model.fit(x, y, **fit_args)\n  File \"C:\\Users\\Asus\\anaconda3\\anaconda\\lib\\site-packages\\keras\\utils\\traceback_utils.py\", line 67, in error_handler\n    raise e.with_traceback(filtered_tb) from None\n  File \"C:\\Users\\Asus\\AppData\\Local\\Temp\\__autograph_generated_fileetbnm25r.py\", line 15, in tf__train_function\n    retval_ = ag__.converted_call(ag__.ld(step_function), (ag__.ld(self), ag__.ld(iterator)), None, fscope)\nValueError: in user code:\n\n    File \"C:\\Users\\Asus\\anaconda3\\anaconda\\lib\\site-packages\\keras\\engine\\training.py\", line 1051, in train_function  *\n        return step_function(self, iterator)\n    File \"C:\\Users\\Asus\\anaconda3\\anaconda\\lib\\site-packages\\keras\\engine\\training.py\", line 1040, in step_function  **\n        outputs = model.distribute_strategy.run(run_step, args=(data,))\n    File \"C:\\Users\\Asus\\anaconda3\\anaconda\\lib\\site-packages\\keras\\engine\\training.py\", line 1030, in run_step  **\n        outputs = model.train_step(data)\n    File \"C:\\Users\\Asus\\anaconda3\\anaconda\\lib\\site-packages\\keras\\engine\\training.py\", line 889, in train_step\n        y_pred = self(x, training=True)\n    File \"C:\\Users\\Asus\\anaconda3\\anaconda\\lib\\site-packages\\keras\\utils\\traceback_utils.py\", line 67, in error_handler\n        raise e.with_traceback(filtered_tb) from None\n    File \"C:\\Users\\Asus\\anaconda3\\anaconda\\lib\\site-packages\\keras\\engine\\input_spec.py\", line 264, in assert_input_compatibility\n        raise ValueError(f'Input {input_index} of layer \"{layer_name}\" is '\n\n    ValueError: Input 0 of layer \"sequential_157\" is incompatible with the layer: expected shape=(None, 8), found shape=(None, 30)\n\n\n  warnings.warn(\"Estimator fit failed. The score on this train-test\"\n"
        },
        {
          "name": "stdout",
          "output_type": "stream",
          "text": "[CV 4/5; 1/9] END ...........neuron1=4, neuron2=2;, score=nan total time=   0.1s\n[CV 5/5; 1/9] START neuron1=4, neuron2=2........................................\n[CV 5/5; 1/9] END ...........neuron1=4, neuron2=2;, score=nan total time=   0.1s\n[CV 1/5; 2/9] START neuron1=4, neuron2=4........................................\n"
        },
        {
          "name": "stderr",
          "output_type": "stream",
          "text": "C:\\Users\\Asus\\anaconda3\\anaconda\\lib\\site-packages\\keras\\optimizers\\optimizer_v2\\adam.py:110: UserWarning: The `lr` argument is deprecated, use `learning_rate` instead.\n  super(Adam, self).__init__(name, **kwargs)\nC:\\Users\\Asus\\anaconda3\\anaconda\\lib\\site-packages\\sklearn\\model_selection\\_validation.py:615: FitFailedWarning: Estimator fit failed. The score on this train-test partition for these parameters will be set to nan. Details: \nTraceback (most recent call last):\n  File \"C:\\Users\\Asus\\anaconda3\\anaconda\\lib\\site-packages\\sklearn\\model_selection\\_validation.py\", line 598, in _fit_and_score\n    estimator.fit(X_train, y_train, **fit_params)\n  File \"C:\\Users\\Asus\\anaconda3\\anaconda\\lib\\site-packages\\keras\\wrappers\\scikit_learn.py\", line 236, in fit\n    return super(KerasClassifier, self).fit(x, y, **kwargs)\n  File \"C:\\Users\\Asus\\anaconda3\\anaconda\\lib\\site-packages\\keras\\wrappers\\scikit_learn.py\", line 164, in fit\n    history = self.model.fit(x, y, **fit_args)\n  File \"C:\\Users\\Asus\\anaconda3\\anaconda\\lib\\site-packages\\keras\\utils\\traceback_utils.py\", line 67, in error_handler\n    raise e.with_traceback(filtered_tb) from None\n  File \"C:\\Users\\Asus\\AppData\\Local\\Temp\\__autograph_generated_fileetbnm25r.py\", line 15, in tf__train_function\n    retval_ = ag__.converted_call(ag__.ld(step_function), (ag__.ld(self), ag__.ld(iterator)), None, fscope)\nValueError: in user code:\n\n    File \"C:\\Users\\Asus\\anaconda3\\anaconda\\lib\\site-packages\\keras\\engine\\training.py\", line 1051, in train_function  *\n        return step_function(self, iterator)\n    File \"C:\\Users\\Asus\\anaconda3\\anaconda\\lib\\site-packages\\keras\\engine\\training.py\", line 1040, in step_function  **\n        outputs = model.distribute_strategy.run(run_step, args=(data,))\n    File \"C:\\Users\\Asus\\anaconda3\\anaconda\\lib\\site-packages\\keras\\engine\\training.py\", line 1030, in run_step  **\n        outputs = model.train_step(data)\n    File \"C:\\Users\\Asus\\anaconda3\\anaconda\\lib\\site-packages\\keras\\engine\\training.py\", line 889, in train_step\n        y_pred = self(x, training=True)\n    File \"C:\\Users\\Asus\\anaconda3\\anaconda\\lib\\site-packages\\keras\\utils\\traceback_utils.py\", line 67, in error_handler\n        raise e.with_traceback(filtered_tb) from None\n    File \"C:\\Users\\Asus\\anaconda3\\anaconda\\lib\\site-packages\\keras\\engine\\input_spec.py\", line 264, in assert_input_compatibility\n        raise ValueError(f'Input {input_index} of layer \"{layer_name}\" is '\n\n    ValueError: Input 0 of layer \"sequential_158\" is incompatible with the layer: expected shape=(None, 8), found shape=(None, 30)\n\n\n  warnings.warn(\"Estimator fit failed. The score on this train-test\"\nC:\\Users\\Asus\\anaconda3\\anaconda\\lib\\site-packages\\keras\\optimizers\\optimizer_v2\\adam.py:110: UserWarning: The `lr` argument is deprecated, use `learning_rate` instead.\n  super(Adam, self).__init__(name, **kwargs)\nC:\\Users\\Asus\\anaconda3\\anaconda\\lib\\site-packages\\sklearn\\model_selection\\_validation.py:615: FitFailedWarning: Estimator fit failed. The score on this train-test partition for these parameters will be set to nan. Details: \nTraceback (most recent call last):\n  File \"C:\\Users\\Asus\\anaconda3\\anaconda\\lib\\site-packages\\sklearn\\model_selection\\_validation.py\", line 598, in _fit_and_score\n    estimator.fit(X_train, y_train, **fit_params)\n  File \"C:\\Users\\Asus\\anaconda3\\anaconda\\lib\\site-packages\\keras\\wrappers\\scikit_learn.py\", line 236, in fit\n    return super(KerasClassifier, self).fit(x, y, **kwargs)\n  File \"C:\\Users\\Asus\\anaconda3\\anaconda\\lib\\site-packages\\keras\\wrappers\\scikit_learn.py\", line 164, in fit\n    history = self.model.fit(x, y, **fit_args)\n  File \"C:\\Users\\Asus\\anaconda3\\anaconda\\lib\\site-packages\\keras\\utils\\traceback_utils.py\", line 67, in error_handler\n    raise e.with_traceback(filtered_tb) from None\n  File \"C:\\Users\\Asus\\AppData\\Local\\Temp\\__autograph_generated_fileetbnm25r.py\", line 15, in tf__train_function\n    retval_ = ag__.converted_call(ag__.ld(step_function), (ag__.ld(self), ag__.ld(iterator)), None, fscope)\nValueError: in user code:\n\n    File \"C:\\Users\\Asus\\anaconda3\\anaconda\\lib\\site-packages\\keras\\engine\\training.py\", line 1051, in train_function  *\n        return step_function(self, iterator)\n    File \"C:\\Users\\Asus\\anaconda3\\anaconda\\lib\\site-packages\\keras\\engine\\training.py\", line 1040, in step_function  **\n        outputs = model.distribute_strategy.run(run_step, args=(data,))\n    File \"C:\\Users\\Asus\\anaconda3\\anaconda\\lib\\site-packages\\keras\\engine\\training.py\", line 1030, in run_step  **\n        outputs = model.train_step(data)\n    File \"C:\\Users\\Asus\\anaconda3\\anaconda\\lib\\site-packages\\keras\\engine\\training.py\", line 889, in train_step\n        y_pred = self(x, training=True)\n    File \"C:\\Users\\Asus\\anaconda3\\anaconda\\lib\\site-packages\\keras\\utils\\traceback_utils.py\", line 67, in error_handler\n        raise e.with_traceback(filtered_tb) from None\n    File \"C:\\Users\\Asus\\anaconda3\\anaconda\\lib\\site-packages\\keras\\engine\\input_spec.py\", line 264, in assert_input_compatibility\n        raise ValueError(f'Input {input_index} of layer \"{layer_name}\" is '\n\n    ValueError: Input 0 of layer \"sequential_159\" is incompatible with the layer: expected shape=(None, 8), found shape=(None, 30)\n\n\n  warnings.warn(\"Estimator fit failed. The score on this train-test\"\nC:\\Users\\Asus\\anaconda3\\anaconda\\lib\\site-packages\\keras\\optimizers\\optimizer_v2\\adam.py:110: UserWarning: The `lr` argument is deprecated, use `learning_rate` instead.\n  super(Adam, self).__init__(name, **kwargs)\n"
        },
        {
          "name": "stdout",
          "output_type": "stream",
          "text": "[CV 1/5; 2/9] END ...........neuron1=4, neuron2=4;, score=nan total time=   0.1s\n[CV 2/5; 2/9] START neuron1=4, neuron2=4........................................\n[CV 2/5; 2/9] END ...........neuron1=4, neuron2=4;, score=nan total time=   0.1s\n[CV 3/5; 2/9] START neuron1=4, neuron2=4........................................\n"
        },
        {
          "name": "stderr",
          "output_type": "stream",
          "text": "C:\\Users\\Asus\\anaconda3\\anaconda\\lib\\site-packages\\sklearn\\model_selection\\_validation.py:615: FitFailedWarning: Estimator fit failed. The score on this train-test partition for these parameters will be set to nan. Details: \nTraceback (most recent call last):\n  File \"C:\\Users\\Asus\\anaconda3\\anaconda\\lib\\site-packages\\sklearn\\model_selection\\_validation.py\", line 598, in _fit_and_score\n    estimator.fit(X_train, y_train, **fit_params)\n  File \"C:\\Users\\Asus\\anaconda3\\anaconda\\lib\\site-packages\\keras\\wrappers\\scikit_learn.py\", line 236, in fit\n    return super(KerasClassifier, self).fit(x, y, **kwargs)\n  File \"C:\\Users\\Asus\\anaconda3\\anaconda\\lib\\site-packages\\keras\\wrappers\\scikit_learn.py\", line 164, in fit\n    history = self.model.fit(x, y, **fit_args)\n  File \"C:\\Users\\Asus\\anaconda3\\anaconda\\lib\\site-packages\\keras\\utils\\traceback_utils.py\", line 67, in error_handler\n    raise e.with_traceback(filtered_tb) from None\n  File \"C:\\Users\\Asus\\AppData\\Local\\Temp\\__autograph_generated_fileetbnm25r.py\", line 15, in tf__train_function\n    retval_ = ag__.converted_call(ag__.ld(step_function), (ag__.ld(self), ag__.ld(iterator)), None, fscope)\nValueError: in user code:\n\n    File \"C:\\Users\\Asus\\anaconda3\\anaconda\\lib\\site-packages\\keras\\engine\\training.py\", line 1051, in train_function  *\n        return step_function(self, iterator)\n    File \"C:\\Users\\Asus\\anaconda3\\anaconda\\lib\\site-packages\\keras\\engine\\training.py\", line 1040, in step_function  **\n        outputs = model.distribute_strategy.run(run_step, args=(data,))\n    File \"C:\\Users\\Asus\\anaconda3\\anaconda\\lib\\site-packages\\keras\\engine\\training.py\", line 1030, in run_step  **\n        outputs = model.train_step(data)\n    File \"C:\\Users\\Asus\\anaconda3\\anaconda\\lib\\site-packages\\keras\\engine\\training.py\", line 889, in train_step\n        y_pred = self(x, training=True)\n    File \"C:\\Users\\Asus\\anaconda3\\anaconda\\lib\\site-packages\\keras\\utils\\traceback_utils.py\", line 67, in error_handler\n        raise e.with_traceback(filtered_tb) from None\n    File \"C:\\Users\\Asus\\anaconda3\\anaconda\\lib\\site-packages\\keras\\engine\\input_spec.py\", line 264, in assert_input_compatibility\n        raise ValueError(f'Input {input_index} of layer \"{layer_name}\" is '\n\n    ValueError: Input 0 of layer \"sequential_160\" is incompatible with the layer: expected shape=(None, 8), found shape=(None, 30)\n\n\n  warnings.warn(\"Estimator fit failed. The score on this train-test\"\nC:\\Users\\Asus\\anaconda3\\anaconda\\lib\\site-packages\\keras\\optimizers\\optimizer_v2\\adam.py:110: UserWarning: The `lr` argument is deprecated, use `learning_rate` instead.\n  super(Adam, self).__init__(name, **kwargs)\nC:\\Users\\Asus\\anaconda3\\anaconda\\lib\\site-packages\\sklearn\\model_selection\\_validation.py:615: FitFailedWarning: Estimator fit failed. The score on this train-test partition for these parameters will be set to nan. Details: \nTraceback (most recent call last):\n  File \"C:\\Users\\Asus\\anaconda3\\anaconda\\lib\\site-packages\\sklearn\\model_selection\\_validation.py\", line 598, in _fit_and_score\n    estimator.fit(X_train, y_train, **fit_params)\n  File \"C:\\Users\\Asus\\anaconda3\\anaconda\\lib\\site-packages\\keras\\wrappers\\scikit_learn.py\", line 236, in fit\n    return super(KerasClassifier, self).fit(x, y, **kwargs)\n  File \"C:\\Users\\Asus\\anaconda3\\anaconda\\lib\\site-packages\\keras\\wrappers\\scikit_learn.py\", line 164, in fit\n    history = self.model.fit(x, y, **fit_args)\n  File \"C:\\Users\\Asus\\anaconda3\\anaconda\\lib\\site-packages\\keras\\utils\\traceback_utils.py\", line 67, in error_handler\n    raise e.with_traceback(filtered_tb) from None\n  File \"C:\\Users\\Asus\\AppData\\Local\\Temp\\__autograph_generated_fileetbnm25r.py\", line 15, in tf__train_function\n    retval_ = ag__.converted_call(ag__.ld(step_function), (ag__.ld(self), ag__.ld(iterator)), None, fscope)\nValueError: in user code:\n\n    File \"C:\\Users\\Asus\\anaconda3\\anaconda\\lib\\site-packages\\keras\\engine\\training.py\", line 1051, in train_function  *\n        return step_function(self, iterator)\n    File \"C:\\Users\\Asus\\anaconda3\\anaconda\\lib\\site-packages\\keras\\engine\\training.py\", line 1040, in step_function  **\n        outputs = model.distribute_strategy.run(run_step, args=(data,))\n    File \"C:\\Users\\Asus\\anaconda3\\anaconda\\lib\\site-packages\\keras\\engine\\training.py\", line 1030, in run_step  **\n        outputs = model.train_step(data)\n    File \"C:\\Users\\Asus\\anaconda3\\anaconda\\lib\\site-packages\\keras\\engine\\training.py\", line 889, in train_step\n        y_pred = self(x, training=True)\n    File \"C:\\Users\\Asus\\anaconda3\\anaconda\\lib\\site-packages\\keras\\utils\\traceback_utils.py\", line 67, in error_handler\n        raise e.with_traceback(filtered_tb) from None\n    File \"C:\\Users\\Asus\\anaconda3\\anaconda\\lib\\site-packages\\keras\\engine\\input_spec.py\", line 264, in assert_input_compatibility\n        raise ValueError(f'Input {input_index} of layer \"{layer_name}\" is '\n\n    ValueError: Input 0 of layer \"sequential_161\" is incompatible with the layer: expected shape=(None, 8), found shape=(None, 30)\n\n\n  warnings.warn(\"Estimator fit failed. The score on this train-test\"\n"
        },
        {
          "name": "stdout",
          "output_type": "stream",
          "text": "[CV 3/5; 2/9] END ...........neuron1=4, neuron2=4;, score=nan total time=   0.1s\n[CV 4/5; 2/9] START neuron1=4, neuron2=4........................................\n[CV 4/5; 2/9] END ...........neuron1=4, neuron2=4;, score=nan total time=   0.1s\n[CV 5/5; 2/9] START neuron1=4, neuron2=4........................................\n"
        },
        {
          "name": "stderr",
          "output_type": "stream",
          "text": "C:\\Users\\Asus\\anaconda3\\anaconda\\lib\\site-packages\\keras\\optimizers\\optimizer_v2\\adam.py:110: UserWarning: The `lr` argument is deprecated, use `learning_rate` instead.\n  super(Adam, self).__init__(name, **kwargs)\nC:\\Users\\Asus\\anaconda3\\anaconda\\lib\\site-packages\\sklearn\\model_selection\\_validation.py:615: FitFailedWarning: Estimator fit failed. The score on this train-test partition for these parameters will be set to nan. Details: \nTraceback (most recent call last):\n  File \"C:\\Users\\Asus\\anaconda3\\anaconda\\lib\\site-packages\\sklearn\\model_selection\\_validation.py\", line 598, in _fit_and_score\n    estimator.fit(X_train, y_train, **fit_params)\n  File \"C:\\Users\\Asus\\anaconda3\\anaconda\\lib\\site-packages\\keras\\wrappers\\scikit_learn.py\", line 236, in fit\n    return super(KerasClassifier, self).fit(x, y, **kwargs)\n  File \"C:\\Users\\Asus\\anaconda3\\anaconda\\lib\\site-packages\\keras\\wrappers\\scikit_learn.py\", line 164, in fit\n    history = self.model.fit(x, y, **fit_args)\n  File \"C:\\Users\\Asus\\anaconda3\\anaconda\\lib\\site-packages\\keras\\utils\\traceback_utils.py\", line 67, in error_handler\n    raise e.with_traceback(filtered_tb) from None\n  File \"C:\\Users\\Asus\\AppData\\Local\\Temp\\__autograph_generated_fileetbnm25r.py\", line 15, in tf__train_function\n    retval_ = ag__.converted_call(ag__.ld(step_function), (ag__.ld(self), ag__.ld(iterator)), None, fscope)\nValueError: in user code:\n\n    File \"C:\\Users\\Asus\\anaconda3\\anaconda\\lib\\site-packages\\keras\\engine\\training.py\", line 1051, in train_function  *\n        return step_function(self, iterator)\n    File \"C:\\Users\\Asus\\anaconda3\\anaconda\\lib\\site-packages\\keras\\engine\\training.py\", line 1040, in step_function  **\n        outputs = model.distribute_strategy.run(run_step, args=(data,))\n    File \"C:\\Users\\Asus\\anaconda3\\anaconda\\lib\\site-packages\\keras\\engine\\training.py\", line 1030, in run_step  **\n        outputs = model.train_step(data)\n    File \"C:\\Users\\Asus\\anaconda3\\anaconda\\lib\\site-packages\\keras\\engine\\training.py\", line 889, in train_step\n        y_pred = self(x, training=True)\n    File \"C:\\Users\\Asus\\anaconda3\\anaconda\\lib\\site-packages\\keras\\utils\\traceback_utils.py\", line 67, in error_handler\n        raise e.with_traceback(filtered_tb) from None\n    File \"C:\\Users\\Asus\\anaconda3\\anaconda\\lib\\site-packages\\keras\\engine\\input_spec.py\", line 264, in assert_input_compatibility\n        raise ValueError(f'Input {input_index} of layer \"{layer_name}\" is '\n\n    ValueError: Input 0 of layer \"sequential_162\" is incompatible with the layer: expected shape=(None, 8), found shape=(None, 30)\n\n\n  warnings.warn(\"Estimator fit failed. The score on this train-test\"\nC:\\Users\\Asus\\anaconda3\\anaconda\\lib\\site-packages\\keras\\optimizers\\optimizer_v2\\adam.py:110: UserWarning: The `lr` argument is deprecated, use `learning_rate` instead.\n  super(Adam, self).__init__(name, **kwargs)\nC:\\Users\\Asus\\anaconda3\\anaconda\\lib\\site-packages\\sklearn\\model_selection\\_validation.py:615: FitFailedWarning: Estimator fit failed. The score on this train-test partition for these parameters will be set to nan. Details: \nTraceback (most recent call last):\n  File \"C:\\Users\\Asus\\anaconda3\\anaconda\\lib\\site-packages\\sklearn\\model_selection\\_validation.py\", line 598, in _fit_and_score\n    estimator.fit(X_train, y_train, **fit_params)\n  File \"C:\\Users\\Asus\\anaconda3\\anaconda\\lib\\site-packages\\keras\\wrappers\\scikit_learn.py\", line 236, in fit\n    return super(KerasClassifier, self).fit(x, y, **kwargs)\n  File \"C:\\Users\\Asus\\anaconda3\\anaconda\\lib\\site-packages\\keras\\wrappers\\scikit_learn.py\", line 164, in fit\n    history = self.model.fit(x, y, **fit_args)\n  File \"C:\\Users\\Asus\\anaconda3\\anaconda\\lib\\site-packages\\keras\\utils\\traceback_utils.py\", line 67, in error_handler\n    raise e.with_traceback(filtered_tb) from None\n  File \"C:\\Users\\Asus\\AppData\\Local\\Temp\\__autograph_generated_fileetbnm25r.py\", line 15, in tf__train_function\n    retval_ = ag__.converted_call(ag__.ld(step_function), (ag__.ld(self), ag__.ld(iterator)), None, fscope)\nValueError: in user code:\n\n    File \"C:\\Users\\Asus\\anaconda3\\anaconda\\lib\\site-packages\\keras\\engine\\training.py\", line 1051, in train_function  *\n        return step_function(self, iterator)\n    File \"C:\\Users\\Asus\\anaconda3\\anaconda\\lib\\site-packages\\keras\\engine\\training.py\", line 1040, in step_function  **\n        outputs = model.distribute_strategy.run(run_step, args=(data,))\n    File \"C:\\Users\\Asus\\anaconda3\\anaconda\\lib\\site-packages\\keras\\engine\\training.py\", line 1030, in run_step  **\n        outputs = model.train_step(data)\n    File \"C:\\Users\\Asus\\anaconda3\\anaconda\\lib\\site-packages\\keras\\engine\\training.py\", line 889, in train_step\n        y_pred = self(x, training=True)\n    File \"C:\\Users\\Asus\\anaconda3\\anaconda\\lib\\site-packages\\keras\\utils\\traceback_utils.py\", line 67, in error_handler\n        raise e.with_traceback(filtered_tb) from None\n    File \"C:\\Users\\Asus\\anaconda3\\anaconda\\lib\\site-packages\\keras\\engine\\input_spec.py\", line 264, in assert_input_compatibility\n        raise ValueError(f'Input {input_index} of layer \"{layer_name}\" is '\n\n    ValueError: Input 0 of layer \"sequential_163\" is incompatible with the layer: expected shape=(None, 8), found shape=(None, 30)\n\n\n  warnings.warn(\"Estimator fit failed. The score on this train-test\"\nC:\\Users\\Asus\\anaconda3\\anaconda\\lib\\site-packages\\keras\\optimizers\\optimizer_v2\\adam.py:110: UserWarning: The `lr` argument is deprecated, use `learning_rate` instead.\n  super(Adam, self).__init__(name, **kwargs)\nC:\\Users\\Asus\\anaconda3\\anaconda\\lib\\site-packages\\sklearn\\model_selection\\_validation.py:615: FitFailedWarning: Estimator fit failed. The score on this train-test partition for these parameters will be set to nan. Details: \nTraceback (most recent call last):\n  File \"C:\\Users\\Asus\\anaconda3\\anaconda\\lib\\site-packages\\sklearn\\model_selection\\_validation.py\", line 598, in _fit_and_score\n    estimator.fit(X_train, y_train, **fit_params)\n  File \"C:\\Users\\Asus\\anaconda3\\anaconda\\lib\\site-packages\\keras\\wrappers\\scikit_learn.py\", line 236, in fit\n    return super(KerasClassifier, self).fit(x, y, **kwargs)\n  File \"C:\\Users\\Asus\\anaconda3\\anaconda\\lib\\site-packages\\keras\\wrappers\\scikit_learn.py\", line 164, in fit\n    history = self.model.fit(x, y, **fit_args)\n  File \"C:\\Users\\Asus\\anaconda3\\anaconda\\lib\\site-packages\\keras\\utils\\traceback_utils.py\", line 67, in error_handler\n    raise e.with_traceback(filtered_tb) from None\n  File \"C:\\Users\\Asus\\AppData\\Local\\Temp\\__autograph_generated_fileetbnm25r.py\", line 15, in tf__train_function\n    retval_ = ag__.converted_call(ag__.ld(step_function), (ag__.ld(self), ag__.ld(iterator)), None, fscope)\nValueError: in user code:\n\n    File \"C:\\Users\\Asus\\anaconda3\\anaconda\\lib\\site-packages\\keras\\engine\\training.py\", line 1051, in train_function  *\n        return step_function(self, iterator)\n    File \"C:\\Users\\Asus\\anaconda3\\anaconda\\lib\\site-packages\\keras\\engine\\training.py\", line 1040, in step_function  **\n        outputs = model.distribute_strategy.run(run_step, args=(data,))\n    File \"C:\\Users\\Asus\\anaconda3\\anaconda\\lib\\site-packages\\keras\\engine\\training.py\", line 1030, in run_step  **\n        outputs = model.train_step(data)\n    File \"C:\\Users\\Asus\\anaconda3\\anaconda\\lib\\site-packages\\keras\\engine\\training.py\", line 889, in train_step\n        y_pred = self(x, training=True)\n    File \"C:\\Users\\Asus\\anaconda3\\anaconda\\lib\\site-packages\\keras\\utils\\traceback_utils.py\", line 67, in error_handler\n        raise e.with_traceback(filtered_tb) from None\n    File \"C:\\Users\\Asus\\anaconda3\\anaconda\\lib\\site-packages\\keras\\engine\\input_spec.py\", line 264, in assert_input_compatibility\n        raise ValueError(f'Input {input_index} of layer \"{layer_name}\" is '\n\n    ValueError: Input 0 of layer \"sequential_164\" is incompatible with the layer: expected shape=(None, 8), found shape=(None, 30)\n\n\n  warnings.warn(\"Estimator fit failed. The score on this train-test\"\n"
        },
        {
          "name": "stdout",
          "output_type": "stream",
          "text": "[CV 5/5; 2/9] END ...........neuron1=4, neuron2=4;, score=nan total time=   0.1s\n[CV 1/5; 3/9] START neuron1=4, neuron2=8........................................\n[CV 1/5; 3/9] END ...........neuron1=4, neuron2=8;, score=nan total time=   0.1s\n[CV 2/5; 3/9] START neuron1=4, neuron2=8........................................\n"
        },
        {
          "name": "stderr",
          "output_type": "stream",
          "text": "C:\\Users\\Asus\\anaconda3\\anaconda\\lib\\site-packages\\keras\\optimizers\\optimizer_v2\\adam.py:110: UserWarning: The `lr` argument is deprecated, use `learning_rate` instead.\n  super(Adam, self).__init__(name, **kwargs)\nC:\\Users\\Asus\\anaconda3\\anaconda\\lib\\site-packages\\sklearn\\model_selection\\_validation.py:615: FitFailedWarning: Estimator fit failed. The score on this train-test partition for these parameters will be set to nan. Details: \nTraceback (most recent call last):\n  File \"C:\\Users\\Asus\\anaconda3\\anaconda\\lib\\site-packages\\sklearn\\model_selection\\_validation.py\", line 598, in _fit_and_score\n    estimator.fit(X_train, y_train, **fit_params)\n  File \"C:\\Users\\Asus\\anaconda3\\anaconda\\lib\\site-packages\\keras\\wrappers\\scikit_learn.py\", line 236, in fit\n    return super(KerasClassifier, self).fit(x, y, **kwargs)\n  File \"C:\\Users\\Asus\\anaconda3\\anaconda\\lib\\site-packages\\keras\\wrappers\\scikit_learn.py\", line 164, in fit\n    history = self.model.fit(x, y, **fit_args)\n  File \"C:\\Users\\Asus\\anaconda3\\anaconda\\lib\\site-packages\\keras\\utils\\traceback_utils.py\", line 67, in error_handler\n    raise e.with_traceback(filtered_tb) from None\n  File \"C:\\Users\\Asus\\AppData\\Local\\Temp\\__autograph_generated_fileetbnm25r.py\", line 15, in tf__train_function\n    retval_ = ag__.converted_call(ag__.ld(step_function), (ag__.ld(self), ag__.ld(iterator)), None, fscope)\nValueError: in user code:\n\n    File \"C:\\Users\\Asus\\anaconda3\\anaconda\\lib\\site-packages\\keras\\engine\\training.py\", line 1051, in train_function  *\n        return step_function(self, iterator)\n    File \"C:\\Users\\Asus\\anaconda3\\anaconda\\lib\\site-packages\\keras\\engine\\training.py\", line 1040, in step_function  **\n        outputs = model.distribute_strategy.run(run_step, args=(data,))\n    File \"C:\\Users\\Asus\\anaconda3\\anaconda\\lib\\site-packages\\keras\\engine\\training.py\", line 1030, in run_step  **\n        outputs = model.train_step(data)\n    File \"C:\\Users\\Asus\\anaconda3\\anaconda\\lib\\site-packages\\keras\\engine\\training.py\", line 889, in train_step\n        y_pred = self(x, training=True)\n    File \"C:\\Users\\Asus\\anaconda3\\anaconda\\lib\\site-packages\\keras\\utils\\traceback_utils.py\", line 67, in error_handler\n        raise e.with_traceback(filtered_tb) from None\n    File \"C:\\Users\\Asus\\anaconda3\\anaconda\\lib\\site-packages\\keras\\engine\\input_spec.py\", line 264, in assert_input_compatibility\n        raise ValueError(f'Input {input_index} of layer \"{layer_name}\" is '\n\n    ValueError: Input 0 of layer \"sequential_165\" is incompatible with the layer: expected shape=(None, 8), found shape=(None, 30)\n\n\n  warnings.warn(\"Estimator fit failed. The score on this train-test\"\n"
        },
        {
          "name": "stdout",
          "output_type": "stream",
          "text": "[CV 2/5; 3/9] END ...........neuron1=4, neuron2=8;, score=nan total time=   0.1s\n[CV 3/5; 3/9] START neuron1=4, neuron2=8........................................\n"
        },
        {
          "name": "stderr",
          "output_type": "stream",
          "text": "C:\\Users\\Asus\\anaconda3\\anaconda\\lib\\site-packages\\keras\\optimizers\\optimizer_v2\\adam.py:110: UserWarning: The `lr` argument is deprecated, use `learning_rate` instead.\n  super(Adam, self).__init__(name, **kwargs)\nC:\\Users\\Asus\\anaconda3\\anaconda\\lib\\site-packages\\sklearn\\model_selection\\_validation.py:615: FitFailedWarning: Estimator fit failed. The score on this train-test partition for these parameters will be set to nan. Details: \nTraceback (most recent call last):\n  File \"C:\\Users\\Asus\\anaconda3\\anaconda\\lib\\site-packages\\sklearn\\model_selection\\_validation.py\", line 598, in _fit_and_score\n    estimator.fit(X_train, y_train, **fit_params)\n  File \"C:\\Users\\Asus\\anaconda3\\anaconda\\lib\\site-packages\\keras\\wrappers\\scikit_learn.py\", line 236, in fit\n    return super(KerasClassifier, self).fit(x, y, **kwargs)\n  File \"C:\\Users\\Asus\\anaconda3\\anaconda\\lib\\site-packages\\keras\\wrappers\\scikit_learn.py\", line 164, in fit\n    history = self.model.fit(x, y, **fit_args)\n  File \"C:\\Users\\Asus\\anaconda3\\anaconda\\lib\\site-packages\\keras\\utils\\traceback_utils.py\", line 67, in error_handler\n    raise e.with_traceback(filtered_tb) from None\n  File \"C:\\Users\\Asus\\AppData\\Local\\Temp\\__autograph_generated_fileetbnm25r.py\", line 15, in tf__train_function\n    retval_ = ag__.converted_call(ag__.ld(step_function), (ag__.ld(self), ag__.ld(iterator)), None, fscope)\nValueError: in user code:\n\n    File \"C:\\Users\\Asus\\anaconda3\\anaconda\\lib\\site-packages\\keras\\engine\\training.py\", line 1051, in train_function  *\n        return step_function(self, iterator)\n    File \"C:\\Users\\Asus\\anaconda3\\anaconda\\lib\\site-packages\\keras\\engine\\training.py\", line 1040, in step_function  **\n        outputs = model.distribute_strategy.run(run_step, args=(data,))\n    File \"C:\\Users\\Asus\\anaconda3\\anaconda\\lib\\site-packages\\keras\\engine\\training.py\", line 1030, in run_step  **\n        outputs = model.train_step(data)\n    File \"C:\\Users\\Asus\\anaconda3\\anaconda\\lib\\site-packages\\keras\\engine\\training.py\", line 889, in train_step\n        y_pred = self(x, training=True)\n    File \"C:\\Users\\Asus\\anaconda3\\anaconda\\lib\\site-packages\\keras\\utils\\traceback_utils.py\", line 67, in error_handler\n        raise e.with_traceback(filtered_tb) from None\n    File \"C:\\Users\\Asus\\anaconda3\\anaconda\\lib\\site-packages\\keras\\engine\\input_spec.py\", line 264, in assert_input_compatibility\n        raise ValueError(f'Input {input_index} of layer \"{layer_name}\" is '\n\n    ValueError: Input 0 of layer \"sequential_166\" is incompatible with the layer: expected shape=(None, 8), found shape=(None, 30)\n\n\n  warnings.warn(\"Estimator fit failed. The score on this train-test\"\nC:\\Users\\Asus\\anaconda3\\anaconda\\lib\\site-packages\\keras\\optimizers\\optimizer_v2\\adam.py:110: UserWarning: The `lr` argument is deprecated, use `learning_rate` instead.\n  super(Adam, self).__init__(name, **kwargs)\n"
        },
        {
          "name": "stdout",
          "output_type": "stream",
          "text": "[CV 3/5; 3/9] END ...........neuron1=4, neuron2=8;, score=nan total time=   0.1s\n[CV 4/5; 3/9] START neuron1=4, neuron2=8........................................\n"
        },
        {
          "name": "stderr",
          "output_type": "stream",
          "text": "C:\\Users\\Asus\\anaconda3\\anaconda\\lib\\site-packages\\sklearn\\model_selection\\_validation.py:615: FitFailedWarning: Estimator fit failed. The score on this train-test partition for these parameters will be set to nan. Details: \nTraceback (most recent call last):\n  File \"C:\\Users\\Asus\\anaconda3\\anaconda\\lib\\site-packages\\sklearn\\model_selection\\_validation.py\", line 598, in _fit_and_score\n    estimator.fit(X_train, y_train, **fit_params)\n  File \"C:\\Users\\Asus\\anaconda3\\anaconda\\lib\\site-packages\\keras\\wrappers\\scikit_learn.py\", line 236, in fit\n    return super(KerasClassifier, self).fit(x, y, **kwargs)\n  File \"C:\\Users\\Asus\\anaconda3\\anaconda\\lib\\site-packages\\keras\\wrappers\\scikit_learn.py\", line 164, in fit\n    history = self.model.fit(x, y, **fit_args)\n  File \"C:\\Users\\Asus\\anaconda3\\anaconda\\lib\\site-packages\\keras\\utils\\traceback_utils.py\", line 67, in error_handler\n    raise e.with_traceback(filtered_tb) from None\n  File \"C:\\Users\\Asus\\AppData\\Local\\Temp\\__autograph_generated_fileetbnm25r.py\", line 15, in tf__train_function\n    retval_ = ag__.converted_call(ag__.ld(step_function), (ag__.ld(self), ag__.ld(iterator)), None, fscope)\nValueError: in user code:\n\n    File \"C:\\Users\\Asus\\anaconda3\\anaconda\\lib\\site-packages\\keras\\engine\\training.py\", line 1051, in train_function  *\n        return step_function(self, iterator)\n    File \"C:\\Users\\Asus\\anaconda3\\anaconda\\lib\\site-packages\\keras\\engine\\training.py\", line 1040, in step_function  **\n        outputs = model.distribute_strategy.run(run_step, args=(data,))\n    File \"C:\\Users\\Asus\\anaconda3\\anaconda\\lib\\site-packages\\keras\\engine\\training.py\", line 1030, in run_step  **\n        outputs = model.train_step(data)\n    File \"C:\\Users\\Asus\\anaconda3\\anaconda\\lib\\site-packages\\keras\\engine\\training.py\", line 889, in train_step\n        y_pred = self(x, training=True)\n    File \"C:\\Users\\Asus\\anaconda3\\anaconda\\lib\\site-packages\\keras\\utils\\traceback_utils.py\", line 67, in error_handler\n        raise e.with_traceback(filtered_tb) from None\n    File \"C:\\Users\\Asus\\anaconda3\\anaconda\\lib\\site-packages\\keras\\engine\\input_spec.py\", line 264, in assert_input_compatibility\n        raise ValueError(f'Input {input_index} of layer \"{layer_name}\" is '\n\n    ValueError: Input 0 of layer \"sequential_167\" is incompatible with the layer: expected shape=(None, 8), found shape=(None, 30)\n\n\n  warnings.warn(\"Estimator fit failed. The score on this train-test\"\nC:\\Users\\Asus\\anaconda3\\anaconda\\lib\\site-packages\\keras\\optimizers\\optimizer_v2\\adam.py:110: UserWarning: The `lr` argument is deprecated, use `learning_rate` instead.\n  super(Adam, self).__init__(name, **kwargs)\n"
        },
        {
          "name": "stdout",
          "output_type": "stream",
          "text": "[CV 4/5; 3/9] END ...........neuron1=4, neuron2=8;, score=nan total time=   0.1s\n[CV 5/5; 3/9] START neuron1=4, neuron2=8........................................\n"
        },
        {
          "name": "stderr",
          "output_type": "stream",
          "text": "C:\\Users\\Asus\\anaconda3\\anaconda\\lib\\site-packages\\sklearn\\model_selection\\_validation.py:615: FitFailedWarning: Estimator fit failed. The score on this train-test partition for these parameters will be set to nan. Details: \nTraceback (most recent call last):\n  File \"C:\\Users\\Asus\\anaconda3\\anaconda\\lib\\site-packages\\sklearn\\model_selection\\_validation.py\", line 598, in _fit_and_score\n    estimator.fit(X_train, y_train, **fit_params)\n  File \"C:\\Users\\Asus\\anaconda3\\anaconda\\lib\\site-packages\\keras\\wrappers\\scikit_learn.py\", line 236, in fit\n    return super(KerasClassifier, self).fit(x, y, **kwargs)\n  File \"C:\\Users\\Asus\\anaconda3\\anaconda\\lib\\site-packages\\keras\\wrappers\\scikit_learn.py\", line 164, in fit\n    history = self.model.fit(x, y, **fit_args)\n  File \"C:\\Users\\Asus\\anaconda3\\anaconda\\lib\\site-packages\\keras\\utils\\traceback_utils.py\", line 67, in error_handler\n    raise e.with_traceback(filtered_tb) from None\n  File \"C:\\Users\\Asus\\AppData\\Local\\Temp\\__autograph_generated_fileetbnm25r.py\", line 15, in tf__train_function\n    retval_ = ag__.converted_call(ag__.ld(step_function), (ag__.ld(self), ag__.ld(iterator)), None, fscope)\nValueError: in user code:\n\n    File \"C:\\Users\\Asus\\anaconda3\\anaconda\\lib\\site-packages\\keras\\engine\\training.py\", line 1051, in train_function  *\n        return step_function(self, iterator)\n    File \"C:\\Users\\Asus\\anaconda3\\anaconda\\lib\\site-packages\\keras\\engine\\training.py\", line 1040, in step_function  **\n        outputs = model.distribute_strategy.run(run_step, args=(data,))\n    File \"C:\\Users\\Asus\\anaconda3\\anaconda\\lib\\site-packages\\keras\\engine\\training.py\", line 1030, in run_step  **\n        outputs = model.train_step(data)\n    File \"C:\\Users\\Asus\\anaconda3\\anaconda\\lib\\site-packages\\keras\\engine\\training.py\", line 889, in train_step\n        y_pred = self(x, training=True)\n    File \"C:\\Users\\Asus\\anaconda3\\anaconda\\lib\\site-packages\\keras\\utils\\traceback_utils.py\", line 67, in error_handler\n        raise e.with_traceback(filtered_tb) from None\n    File \"C:\\Users\\Asus\\anaconda3\\anaconda\\lib\\site-packages\\keras\\engine\\input_spec.py\", line 264, in assert_input_compatibility\n        raise ValueError(f'Input {input_index} of layer \"{layer_name}\" is '\n\n    ValueError: Input 0 of layer \"sequential_168\" is incompatible with the layer: expected shape=(None, 8), found shape=(None, 30)\n\n\n  warnings.warn(\"Estimator fit failed. The score on this train-test\"\nC:\\Users\\Asus\\anaconda3\\anaconda\\lib\\site-packages\\keras\\optimizers\\optimizer_v2\\adam.py:110: UserWarning: The `lr` argument is deprecated, use `learning_rate` instead.\n  super(Adam, self).__init__(name, **kwargs)\nC:\\Users\\Asus\\anaconda3\\anaconda\\lib\\site-packages\\sklearn\\model_selection\\_validation.py:615: FitFailedWarning: Estimator fit failed. The score on this train-test partition for these parameters will be set to nan. Details: \nTraceback (most recent call last):\n  File \"C:\\Users\\Asus\\anaconda3\\anaconda\\lib\\site-packages\\sklearn\\model_selection\\_validation.py\", line 598, in _fit_and_score\n    estimator.fit(X_train, y_train, **fit_params)\n  File \"C:\\Users\\Asus\\anaconda3\\anaconda\\lib\\site-packages\\keras\\wrappers\\scikit_learn.py\", line 236, in fit\n    return super(KerasClassifier, self).fit(x, y, **kwargs)\n  File \"C:\\Users\\Asus\\anaconda3\\anaconda\\lib\\site-packages\\keras\\wrappers\\scikit_learn.py\", line 164, in fit\n    history = self.model.fit(x, y, **fit_args)\n  File \"C:\\Users\\Asus\\anaconda3\\anaconda\\lib\\site-packages\\keras\\utils\\traceback_utils.py\", line 67, in error_handler\n    raise e.with_traceback(filtered_tb) from None\n  File \"C:\\Users\\Asus\\AppData\\Local\\Temp\\__autograph_generated_fileetbnm25r.py\", line 15, in tf__train_function\n    retval_ = ag__.converted_call(ag__.ld(step_function), (ag__.ld(self), ag__.ld(iterator)), None, fscope)\nValueError: in user code:\n\n    File \"C:\\Users\\Asus\\anaconda3\\anaconda\\lib\\site-packages\\keras\\engine\\training.py\", line 1051, in train_function  *\n        return step_function(self, iterator)\n    File \"C:\\Users\\Asus\\anaconda3\\anaconda\\lib\\site-packages\\keras\\engine\\training.py\", line 1040, in step_function  **\n        outputs = model.distribute_strategy.run(run_step, args=(data,))\n    File \"C:\\Users\\Asus\\anaconda3\\anaconda\\lib\\site-packages\\keras\\engine\\training.py\", line 1030, in run_step  **\n        outputs = model.train_step(data)\n    File \"C:\\Users\\Asus\\anaconda3\\anaconda\\lib\\site-packages\\keras\\engine\\training.py\", line 889, in train_step\n        y_pred = self(x, training=True)\n    File \"C:\\Users\\Asus\\anaconda3\\anaconda\\lib\\site-packages\\keras\\utils\\traceback_utils.py\", line 67, in error_handler\n        raise e.with_traceback(filtered_tb) from None\n    File \"C:\\Users\\Asus\\anaconda3\\anaconda\\lib\\site-packages\\keras\\engine\\input_spec.py\", line 264, in assert_input_compatibility\n        raise ValueError(f'Input {input_index} of layer \"{layer_name}\" is '\n\n    ValueError: Input 0 of layer \"sequential_169\" is incompatible with the layer: expected shape=(None, 8), found shape=(None, 30)\n\n\n  warnings.warn(\"Estimator fit failed. The score on this train-test\"\n"
        },
        {
          "name": "stdout",
          "output_type": "stream",
          "text": "[CV 5/5; 3/9] END ...........neuron1=4, neuron2=8;, score=nan total time=   0.1s\n[CV 1/5; 4/9] START neuron1=8, neuron2=2........................................\n[CV 1/5; 4/9] END ...........neuron1=8, neuron2=2;, score=nan total time=   0.1s\n[CV 2/5; 4/9] START neuron1=8, neuron2=2........................................\n"
        },
        {
          "name": "stderr",
          "output_type": "stream",
          "text": "C:\\Users\\Asus\\anaconda3\\anaconda\\lib\\site-packages\\keras\\optimizers\\optimizer_v2\\adam.py:110: UserWarning: The `lr` argument is deprecated, use `learning_rate` instead.\n  super(Adam, self).__init__(name, **kwargs)\nC:\\Users\\Asus\\anaconda3\\anaconda\\lib\\site-packages\\sklearn\\model_selection\\_validation.py:615: FitFailedWarning: Estimator fit failed. The score on this train-test partition for these parameters will be set to nan. Details: \nTraceback (most recent call last):\n  File \"C:\\Users\\Asus\\anaconda3\\anaconda\\lib\\site-packages\\sklearn\\model_selection\\_validation.py\", line 598, in _fit_and_score\n    estimator.fit(X_train, y_train, **fit_params)\n  File \"C:\\Users\\Asus\\anaconda3\\anaconda\\lib\\site-packages\\keras\\wrappers\\scikit_learn.py\", line 236, in fit\n    return super(KerasClassifier, self).fit(x, y, **kwargs)\n  File \"C:\\Users\\Asus\\anaconda3\\anaconda\\lib\\site-packages\\keras\\wrappers\\scikit_learn.py\", line 164, in fit\n    history = self.model.fit(x, y, **fit_args)\n  File \"C:\\Users\\Asus\\anaconda3\\anaconda\\lib\\site-packages\\keras\\utils\\traceback_utils.py\", line 67, in error_handler\n    raise e.with_traceback(filtered_tb) from None\n  File \"C:\\Users\\Asus\\AppData\\Local\\Temp\\__autograph_generated_fileetbnm25r.py\", line 15, in tf__train_function\n    retval_ = ag__.converted_call(ag__.ld(step_function), (ag__.ld(self), ag__.ld(iterator)), None, fscope)\nValueError: in user code:\n\n    File \"C:\\Users\\Asus\\anaconda3\\anaconda\\lib\\site-packages\\keras\\engine\\training.py\", line 1051, in train_function  *\n        return step_function(self, iterator)\n    File \"C:\\Users\\Asus\\anaconda3\\anaconda\\lib\\site-packages\\keras\\engine\\training.py\", line 1040, in step_function  **\n        outputs = model.distribute_strategy.run(run_step, args=(data,))\n    File \"C:\\Users\\Asus\\anaconda3\\anaconda\\lib\\site-packages\\keras\\engine\\training.py\", line 1030, in run_step  **\n        outputs = model.train_step(data)\n    File \"C:\\Users\\Asus\\anaconda3\\anaconda\\lib\\site-packages\\keras\\engine\\training.py\", line 889, in train_step\n        y_pred = self(x, training=True)\n    File \"C:\\Users\\Asus\\anaconda3\\anaconda\\lib\\site-packages\\keras\\utils\\traceback_utils.py\", line 67, in error_handler\n        raise e.with_traceback(filtered_tb) from None\n    File \"C:\\Users\\Asus\\anaconda3\\anaconda\\lib\\site-packages\\keras\\engine\\input_spec.py\", line 264, in assert_input_compatibility\n        raise ValueError(f'Input {input_index} of layer \"{layer_name}\" is '\n\n    ValueError: Input 0 of layer \"sequential_170\" is incompatible with the layer: expected shape=(None, 8), found shape=(None, 30)\n\n\n  warnings.warn(\"Estimator fit failed. The score on this train-test\"\nC:\\Users\\Asus\\anaconda3\\anaconda\\lib\\site-packages\\keras\\optimizers\\optimizer_v2\\adam.py:110: UserWarning: The `lr` argument is deprecated, use `learning_rate` instead.\n  super(Adam, self).__init__(name, **kwargs)\n"
        },
        {
          "name": "stdout",
          "output_type": "stream",
          "text": "[CV 2/5; 4/9] END ...........neuron1=8, neuron2=2;, score=nan total time=   0.1s\n[CV 3/5; 4/9] START neuron1=8, neuron2=2........................................\n[CV 3/5; 4/9] END ...........neuron1=8, neuron2=2;, score=nan total time=   0.1s\n[CV 4/5; 4/9] START neuron1=8, neuron2=2........................................\n"
        },
        {
          "name": "stderr",
          "output_type": "stream",
          "text": "C:\\Users\\Asus\\anaconda3\\anaconda\\lib\\site-packages\\sklearn\\model_selection\\_validation.py:615: FitFailedWarning: Estimator fit failed. The score on this train-test partition for these parameters will be set to nan. Details: \nTraceback (most recent call last):\n  File \"C:\\Users\\Asus\\anaconda3\\anaconda\\lib\\site-packages\\sklearn\\model_selection\\_validation.py\", line 598, in _fit_and_score\n    estimator.fit(X_train, y_train, **fit_params)\n  File \"C:\\Users\\Asus\\anaconda3\\anaconda\\lib\\site-packages\\keras\\wrappers\\scikit_learn.py\", line 236, in fit\n    return super(KerasClassifier, self).fit(x, y, **kwargs)\n  File \"C:\\Users\\Asus\\anaconda3\\anaconda\\lib\\site-packages\\keras\\wrappers\\scikit_learn.py\", line 164, in fit\n    history = self.model.fit(x, y, **fit_args)\n  File \"C:\\Users\\Asus\\anaconda3\\anaconda\\lib\\site-packages\\keras\\utils\\traceback_utils.py\", line 67, in error_handler\n    raise e.with_traceback(filtered_tb) from None\n  File \"C:\\Users\\Asus\\AppData\\Local\\Temp\\__autograph_generated_fileetbnm25r.py\", line 15, in tf__train_function\n    retval_ = ag__.converted_call(ag__.ld(step_function), (ag__.ld(self), ag__.ld(iterator)), None, fscope)\nValueError: in user code:\n\n    File \"C:\\Users\\Asus\\anaconda3\\anaconda\\lib\\site-packages\\keras\\engine\\training.py\", line 1051, in train_function  *\n        return step_function(self, iterator)\n    File \"C:\\Users\\Asus\\anaconda3\\anaconda\\lib\\site-packages\\keras\\engine\\training.py\", line 1040, in step_function  **\n        outputs = model.distribute_strategy.run(run_step, args=(data,))\n    File \"C:\\Users\\Asus\\anaconda3\\anaconda\\lib\\site-packages\\keras\\engine\\training.py\", line 1030, in run_step  **\n        outputs = model.train_step(data)\n    File \"C:\\Users\\Asus\\anaconda3\\anaconda\\lib\\site-packages\\keras\\engine\\training.py\", line 889, in train_step\n        y_pred = self(x, training=True)\n    File \"C:\\Users\\Asus\\anaconda3\\anaconda\\lib\\site-packages\\keras\\utils\\traceback_utils.py\", line 67, in error_handler\n        raise e.with_traceback(filtered_tb) from None\n    File \"C:\\Users\\Asus\\anaconda3\\anaconda\\lib\\site-packages\\keras\\engine\\input_spec.py\", line 264, in assert_input_compatibility\n        raise ValueError(f'Input {input_index} of layer \"{layer_name}\" is '\n\n    ValueError: Input 0 of layer \"sequential_171\" is incompatible with the layer: expected shape=(None, 8), found shape=(None, 30)\n\n\n  warnings.warn(\"Estimator fit failed. The score on this train-test\"\nC:\\Users\\Asus\\anaconda3\\anaconda\\lib\\site-packages\\keras\\optimizers\\optimizer_v2\\adam.py:110: UserWarning: The `lr` argument is deprecated, use `learning_rate` instead.\n  super(Adam, self).__init__(name, **kwargs)\nC:\\Users\\Asus\\anaconda3\\anaconda\\lib\\site-packages\\sklearn\\model_selection\\_validation.py:615: FitFailedWarning: Estimator fit failed. The score on this train-test partition for these parameters will be set to nan. Details: \nTraceback (most recent call last):\n  File \"C:\\Users\\Asus\\anaconda3\\anaconda\\lib\\site-packages\\sklearn\\model_selection\\_validation.py\", line 598, in _fit_and_score\n    estimator.fit(X_train, y_train, **fit_params)\n  File \"C:\\Users\\Asus\\anaconda3\\anaconda\\lib\\site-packages\\keras\\wrappers\\scikit_learn.py\", line 236, in fit\n    return super(KerasClassifier, self).fit(x, y, **kwargs)\n  File \"C:\\Users\\Asus\\anaconda3\\anaconda\\lib\\site-packages\\keras\\wrappers\\scikit_learn.py\", line 164, in fit\n    history = self.model.fit(x, y, **fit_args)\n  File \"C:\\Users\\Asus\\anaconda3\\anaconda\\lib\\site-packages\\keras\\utils\\traceback_utils.py\", line 67, in error_handler\n    raise e.with_traceback(filtered_tb) from None\n  File \"C:\\Users\\Asus\\AppData\\Local\\Temp\\__autograph_generated_fileetbnm25r.py\", line 15, in tf__train_function\n    retval_ = ag__.converted_call(ag__.ld(step_function), (ag__.ld(self), ag__.ld(iterator)), None, fscope)\nValueError: in user code:\n\n    File \"C:\\Users\\Asus\\anaconda3\\anaconda\\lib\\site-packages\\keras\\engine\\training.py\", line 1051, in train_function  *\n        return step_function(self, iterator)\n    File \"C:\\Users\\Asus\\anaconda3\\anaconda\\lib\\site-packages\\keras\\engine\\training.py\", line 1040, in step_function  **\n        outputs = model.distribute_strategy.run(run_step, args=(data,))\n    File \"C:\\Users\\Asus\\anaconda3\\anaconda\\lib\\site-packages\\keras\\engine\\training.py\", line 1030, in run_step  **\n        outputs = model.train_step(data)\n    File \"C:\\Users\\Asus\\anaconda3\\anaconda\\lib\\site-packages\\keras\\engine\\training.py\", line 889, in train_step\n        y_pred = self(x, training=True)\n    File \"C:\\Users\\Asus\\anaconda3\\anaconda\\lib\\site-packages\\keras\\utils\\traceback_utils.py\", line 67, in error_handler\n        raise e.with_traceback(filtered_tb) from None\n    File \"C:\\Users\\Asus\\anaconda3\\anaconda\\lib\\site-packages\\keras\\engine\\input_spec.py\", line 264, in assert_input_compatibility\n        raise ValueError(f'Input {input_index} of layer \"{layer_name}\" is '\n\n    ValueError: Input 0 of layer \"sequential_172\" is incompatible with the layer: expected shape=(None, 8), found shape=(None, 30)\n\n\n  warnings.warn(\"Estimator fit failed. The score on this train-test\"\n"
        },
        {
          "name": "stdout",
          "output_type": "stream",
          "text": "[CV 4/5; 4/9] END ...........neuron1=8, neuron2=2;, score=nan total time=   0.1s\n[CV 5/5; 4/9] START neuron1=8, neuron2=2........................................\n"
        },
        {
          "name": "stderr",
          "output_type": "stream",
          "text": "C:\\Users\\Asus\\anaconda3\\anaconda\\lib\\site-packages\\keras\\optimizers\\optimizer_v2\\adam.py:110: UserWarning: The `lr` argument is deprecated, use `learning_rate` instead.\n  super(Adam, self).__init__(name, **kwargs)\nC:\\Users\\Asus\\anaconda3\\anaconda\\lib\\site-packages\\sklearn\\model_selection\\_validation.py:615: FitFailedWarning: Estimator fit failed. The score on this train-test partition for these parameters will be set to nan. Details: \nTraceback (most recent call last):\n  File \"C:\\Users\\Asus\\anaconda3\\anaconda\\lib\\site-packages\\sklearn\\model_selection\\_validation.py\", line 598, in _fit_and_score\n    estimator.fit(X_train, y_train, **fit_params)\n  File \"C:\\Users\\Asus\\anaconda3\\anaconda\\lib\\site-packages\\keras\\wrappers\\scikit_learn.py\", line 236, in fit\n    return super(KerasClassifier, self).fit(x, y, **kwargs)\n  File \"C:\\Users\\Asus\\anaconda3\\anaconda\\lib\\site-packages\\keras\\wrappers\\scikit_learn.py\", line 164, in fit\n    history = self.model.fit(x, y, **fit_args)\n  File \"C:\\Users\\Asus\\anaconda3\\anaconda\\lib\\site-packages\\keras\\utils\\traceback_utils.py\", line 67, in error_handler\n    raise e.with_traceback(filtered_tb) from None\n  File \"C:\\Users\\Asus\\AppData\\Local\\Temp\\__autograph_generated_fileetbnm25r.py\", line 15, in tf__train_function\n    retval_ = ag__.converted_call(ag__.ld(step_function), (ag__.ld(self), ag__.ld(iterator)), None, fscope)\nValueError: in user code:\n\n    File \"C:\\Users\\Asus\\anaconda3\\anaconda\\lib\\site-packages\\keras\\engine\\training.py\", line 1051, in train_function  *\n        return step_function(self, iterator)\n    File \"C:\\Users\\Asus\\anaconda3\\anaconda\\lib\\site-packages\\keras\\engine\\training.py\", line 1040, in step_function  **\n        outputs = model.distribute_strategy.run(run_step, args=(data,))\n    File \"C:\\Users\\Asus\\anaconda3\\anaconda\\lib\\site-packages\\keras\\engine\\training.py\", line 1030, in run_step  **\n        outputs = model.train_step(data)\n    File \"C:\\Users\\Asus\\anaconda3\\anaconda\\lib\\site-packages\\keras\\engine\\training.py\", line 889, in train_step\n        y_pred = self(x, training=True)\n    File \"C:\\Users\\Asus\\anaconda3\\anaconda\\lib\\site-packages\\keras\\utils\\traceback_utils.py\", line 67, in error_handler\n        raise e.with_traceback(filtered_tb) from None\n    File \"C:\\Users\\Asus\\anaconda3\\anaconda\\lib\\site-packages\\keras\\engine\\input_spec.py\", line 264, in assert_input_compatibility\n        raise ValueError(f'Input {input_index} of layer \"{layer_name}\" is '\n\n    ValueError: Input 0 of layer \"sequential_173\" is incompatible with the layer: expected shape=(None, 8), found shape=(None, 30)\n\n\n  warnings.warn(\"Estimator fit failed. The score on this train-test\"\n"
        },
        {
          "name": "stdout",
          "output_type": "stream",
          "text": "[CV 5/5; 4/9] END ...........neuron1=8, neuron2=2;, score=nan total time=   0.1s\n[CV 1/5; 5/9] START neuron1=8, neuron2=4........................................\n[CV 1/5; 5/9] END ...........neuron1=8, neuron2=4;, score=nan total time=   0.1s\n[CV 2/5; 5/9] START neuron1=8, neuron2=4........................................\n"
        },
        {
          "name": "stderr",
          "output_type": "stream",
          "text": "C:\\Users\\Asus\\anaconda3\\anaconda\\lib\\site-packages\\keras\\optimizers\\optimizer_v2\\adam.py:110: UserWarning: The `lr` argument is deprecated, use `learning_rate` instead.\n  super(Adam, self).__init__(name, **kwargs)\nC:\\Users\\Asus\\anaconda3\\anaconda\\lib\\site-packages\\sklearn\\model_selection\\_validation.py:615: FitFailedWarning: Estimator fit failed. The score on this train-test partition for these parameters will be set to nan. Details: \nTraceback (most recent call last):\n  File \"C:\\Users\\Asus\\anaconda3\\anaconda\\lib\\site-packages\\sklearn\\model_selection\\_validation.py\", line 598, in _fit_and_score\n    estimator.fit(X_train, y_train, **fit_params)\n  File \"C:\\Users\\Asus\\anaconda3\\anaconda\\lib\\site-packages\\keras\\wrappers\\scikit_learn.py\", line 236, in fit\n    return super(KerasClassifier, self).fit(x, y, **kwargs)\n  File \"C:\\Users\\Asus\\anaconda3\\anaconda\\lib\\site-packages\\keras\\wrappers\\scikit_learn.py\", line 164, in fit\n    history = self.model.fit(x, y, **fit_args)\n  File \"C:\\Users\\Asus\\anaconda3\\anaconda\\lib\\site-packages\\keras\\utils\\traceback_utils.py\", line 67, in error_handler\n    raise e.with_traceback(filtered_tb) from None\n  File \"C:\\Users\\Asus\\AppData\\Local\\Temp\\__autograph_generated_fileetbnm25r.py\", line 15, in tf__train_function\n    retval_ = ag__.converted_call(ag__.ld(step_function), (ag__.ld(self), ag__.ld(iterator)), None, fscope)\nValueError: in user code:\n\n    File \"C:\\Users\\Asus\\anaconda3\\anaconda\\lib\\site-packages\\keras\\engine\\training.py\", line 1051, in train_function  *\n        return step_function(self, iterator)\n    File \"C:\\Users\\Asus\\anaconda3\\anaconda\\lib\\site-packages\\keras\\engine\\training.py\", line 1040, in step_function  **\n        outputs = model.distribute_strategy.run(run_step, args=(data,))\n    File \"C:\\Users\\Asus\\anaconda3\\anaconda\\lib\\site-packages\\keras\\engine\\training.py\", line 1030, in run_step  **\n        outputs = model.train_step(data)\n    File \"C:\\Users\\Asus\\anaconda3\\anaconda\\lib\\site-packages\\keras\\engine\\training.py\", line 889, in train_step\n        y_pred = self(x, training=True)\n    File \"C:\\Users\\Asus\\anaconda3\\anaconda\\lib\\site-packages\\keras\\utils\\traceback_utils.py\", line 67, in error_handler\n        raise e.with_traceback(filtered_tb) from None\n    File \"C:\\Users\\Asus\\anaconda3\\anaconda\\lib\\site-packages\\keras\\engine\\input_spec.py\", line 264, in assert_input_compatibility\n        raise ValueError(f'Input {input_index} of layer \"{layer_name}\" is '\n\n    ValueError: Input 0 of layer \"sequential_174\" is incompatible with the layer: expected shape=(None, 8), found shape=(None, 30)\n\n\n  warnings.warn(\"Estimator fit failed. The score on this train-test\"\nC:\\Users\\Asus\\anaconda3\\anaconda\\lib\\site-packages\\keras\\optimizers\\optimizer_v2\\adam.py:110: UserWarning: The `lr` argument is deprecated, use `learning_rate` instead.\n  super(Adam, self).__init__(name, **kwargs)\nC:\\Users\\Asus\\anaconda3\\anaconda\\lib\\site-packages\\sklearn\\model_selection\\_validation.py:615: FitFailedWarning: Estimator fit failed. The score on this train-test partition for these parameters will be set to nan. Details: \nTraceback (most recent call last):\n  File \"C:\\Users\\Asus\\anaconda3\\anaconda\\lib\\site-packages\\sklearn\\model_selection\\_validation.py\", line 598, in _fit_and_score\n    estimator.fit(X_train, y_train, **fit_params)\n  File \"C:\\Users\\Asus\\anaconda3\\anaconda\\lib\\site-packages\\keras\\wrappers\\scikit_learn.py\", line 236, in fit\n    return super(KerasClassifier, self).fit(x, y, **kwargs)\n  File \"C:\\Users\\Asus\\anaconda3\\anaconda\\lib\\site-packages\\keras\\wrappers\\scikit_learn.py\", line 164, in fit\n    history = self.model.fit(x, y, **fit_args)\n  File \"C:\\Users\\Asus\\anaconda3\\anaconda\\lib\\site-packages\\keras\\utils\\traceback_utils.py\", line 67, in error_handler\n    raise e.with_traceback(filtered_tb) from None\n  File \"C:\\Users\\Asus\\AppData\\Local\\Temp\\__autograph_generated_fileetbnm25r.py\", line 15, in tf__train_function\n    retval_ = ag__.converted_call(ag__.ld(step_function), (ag__.ld(self), ag__.ld(iterator)), None, fscope)\nValueError: in user code:\n\n    File \"C:\\Users\\Asus\\anaconda3\\anaconda\\lib\\site-packages\\keras\\engine\\training.py\", line 1051, in train_function  *\n        return step_function(self, iterator)\n    File \"C:\\Users\\Asus\\anaconda3\\anaconda\\lib\\site-packages\\keras\\engine\\training.py\", line 1040, in step_function  **\n        outputs = model.distribute_strategy.run(run_step, args=(data,))\n    File \"C:\\Users\\Asus\\anaconda3\\anaconda\\lib\\site-packages\\keras\\engine\\training.py\", line 1030, in run_step  **\n        outputs = model.train_step(data)\n    File \"C:\\Users\\Asus\\anaconda3\\anaconda\\lib\\site-packages\\keras\\engine\\training.py\", line 889, in train_step\n        y_pred = self(x, training=True)\n    File \"C:\\Users\\Asus\\anaconda3\\anaconda\\lib\\site-packages\\keras\\utils\\traceback_utils.py\", line 67, in error_handler\n        raise e.with_traceback(filtered_tb) from None\n    File \"C:\\Users\\Asus\\anaconda3\\anaconda\\lib\\site-packages\\keras\\engine\\input_spec.py\", line 264, in assert_input_compatibility\n        raise ValueError(f'Input {input_index} of layer \"{layer_name}\" is '\n\n    ValueError: Input 0 of layer \"sequential_175\" is incompatible with the layer: expected shape=(None, 8), found shape=(None, 30)\n\n\n  warnings.warn(\"Estimator fit failed. The score on this train-test\"\nC:\\Users\\Asus\\anaconda3\\anaconda\\lib\\site-packages\\keras\\optimizers\\optimizer_v2\\adam.py:110: UserWarning: The `lr` argument is deprecated, use `learning_rate` instead.\n  super(Adam, self).__init__(name, **kwargs)\nC:\\Users\\Asus\\anaconda3\\anaconda\\lib\\site-packages\\sklearn\\model_selection\\_validation.py:615: FitFailedWarning: Estimator fit failed. The score on this train-test partition for these parameters will be set to nan. Details: \nTraceback (most recent call last):\n  File \"C:\\Users\\Asus\\anaconda3\\anaconda\\lib\\site-packages\\sklearn\\model_selection\\_validation.py\", line 598, in _fit_and_score\n    estimator.fit(X_train, y_train, **fit_params)\n  File \"C:\\Users\\Asus\\anaconda3\\anaconda\\lib\\site-packages\\keras\\wrappers\\scikit_learn.py\", line 236, in fit\n    return super(KerasClassifier, self).fit(x, y, **kwargs)\n  File \"C:\\Users\\Asus\\anaconda3\\anaconda\\lib\\site-packages\\keras\\wrappers\\scikit_learn.py\", line 164, in fit\n    history = self.model.fit(x, y, **fit_args)\n  File \"C:\\Users\\Asus\\anaconda3\\anaconda\\lib\\site-packages\\keras\\utils\\traceback_utils.py\", line 67, in error_handler\n    raise e.with_traceback(filtered_tb) from None\n  File \"C:\\Users\\Asus\\AppData\\Local\\Temp\\__autograph_generated_fileetbnm25r.py\", line 15, in tf__train_function\n    retval_ = ag__.converted_call(ag__.ld(step_function), (ag__.ld(self), ag__.ld(iterator)), None, fscope)\nValueError: in user code:\n\n    File \"C:\\Users\\Asus\\anaconda3\\anaconda\\lib\\site-packages\\keras\\engine\\training.py\", line 1051, in train_function  *\n        return step_function(self, iterator)\n    File \"C:\\Users\\Asus\\anaconda3\\anaconda\\lib\\site-packages\\keras\\engine\\training.py\", line 1040, in step_function  **\n        outputs = model.distribute_strategy.run(run_step, args=(data,))\n    File \"C:\\Users\\Asus\\anaconda3\\anaconda\\lib\\site-packages\\keras\\engine\\training.py\", line 1030, in run_step  **\n        outputs = model.train_step(data)\n    File \"C:\\Users\\Asus\\anaconda3\\anaconda\\lib\\site-packages\\keras\\engine\\training.py\", line 889, in train_step\n        y_pred = self(x, training=True)\n    File \"C:\\Users\\Asus\\anaconda3\\anaconda\\lib\\site-packages\\keras\\utils\\traceback_utils.py\", line 67, in error_handler\n        raise e.with_traceback(filtered_tb) from None\n    File \"C:\\Users\\Asus\\anaconda3\\anaconda\\lib\\site-packages\\keras\\engine\\input_spec.py\", line 264, in assert_input_compatibility\n        raise ValueError(f'Input {input_index} of layer \"{layer_name}\" is '\n\n    ValueError: Input 0 of layer \"sequential_176\" is incompatible with the layer: expected shape=(None, 8), found shape=(None, 30)\n\n\n  warnings.warn(\"Estimator fit failed. The score on this train-test\"\n"
        },
        {
          "name": "stdout",
          "output_type": "stream",
          "text": "[CV 2/5; 5/9] END ...........neuron1=8, neuron2=4;, score=nan total time=   0.1s\n[CV 3/5; 5/9] START neuron1=8, neuron2=4........................................\n[CV 3/5; 5/9] END ...........neuron1=8, neuron2=4;, score=nan total time=   0.1s\n[CV 4/5; 5/9] START neuron1=8, neuron2=4........................................\n"
        },
        {
          "name": "stderr",
          "output_type": "stream",
          "text": "C:\\Users\\Asus\\anaconda3\\anaconda\\lib\\site-packages\\keras\\optimizers\\optimizer_v2\\adam.py:110: UserWarning: The `lr` argument is deprecated, use `learning_rate` instead.\n  super(Adam, self).__init__(name, **kwargs)\nC:\\Users\\Asus\\anaconda3\\anaconda\\lib\\site-packages\\sklearn\\model_selection\\_validation.py:615: FitFailedWarning: Estimator fit failed. The score on this train-test partition for these parameters will be set to nan. Details: \nTraceback (most recent call last):\n  File \"C:\\Users\\Asus\\anaconda3\\anaconda\\lib\\site-packages\\sklearn\\model_selection\\_validation.py\", line 598, in _fit_and_score\n    estimator.fit(X_train, y_train, **fit_params)\n  File \"C:\\Users\\Asus\\anaconda3\\anaconda\\lib\\site-packages\\keras\\wrappers\\scikit_learn.py\", line 236, in fit\n    return super(KerasClassifier, self).fit(x, y, **kwargs)\n  File \"C:\\Users\\Asus\\anaconda3\\anaconda\\lib\\site-packages\\keras\\wrappers\\scikit_learn.py\", line 164, in fit\n    history = self.model.fit(x, y, **fit_args)\n  File \"C:\\Users\\Asus\\anaconda3\\anaconda\\lib\\site-packages\\keras\\utils\\traceback_utils.py\", line 67, in error_handler\n    raise e.with_traceback(filtered_tb) from None\n  File \"C:\\Users\\Asus\\AppData\\Local\\Temp\\__autograph_generated_fileetbnm25r.py\", line 15, in tf__train_function\n    retval_ = ag__.converted_call(ag__.ld(step_function), (ag__.ld(self), ag__.ld(iterator)), None, fscope)\nValueError: in user code:\n\n    File \"C:\\Users\\Asus\\anaconda3\\anaconda\\lib\\site-packages\\keras\\engine\\training.py\", line 1051, in train_function  *\n        return step_function(self, iterator)\n    File \"C:\\Users\\Asus\\anaconda3\\anaconda\\lib\\site-packages\\keras\\engine\\training.py\", line 1040, in step_function  **\n        outputs = model.distribute_strategy.run(run_step, args=(data,))\n    File \"C:\\Users\\Asus\\anaconda3\\anaconda\\lib\\site-packages\\keras\\engine\\training.py\", line 1030, in run_step  **\n        outputs = model.train_step(data)\n    File \"C:\\Users\\Asus\\anaconda3\\anaconda\\lib\\site-packages\\keras\\engine\\training.py\", line 889, in train_step\n        y_pred = self(x, training=True)\n    File \"C:\\Users\\Asus\\anaconda3\\anaconda\\lib\\site-packages\\keras\\utils\\traceback_utils.py\", line 67, in error_handler\n        raise e.with_traceback(filtered_tb) from None\n    File \"C:\\Users\\Asus\\anaconda3\\anaconda\\lib\\site-packages\\keras\\engine\\input_spec.py\", line 264, in assert_input_compatibility\n        raise ValueError(f'Input {input_index} of layer \"{layer_name}\" is '\n\n    ValueError: Input 0 of layer \"sequential_177\" is incompatible with the layer: expected shape=(None, 8), found shape=(None, 30)\n\n\n  warnings.warn(\"Estimator fit failed. The score on this train-test\"\nC:\\Users\\Asus\\anaconda3\\anaconda\\lib\\site-packages\\keras\\optimizers\\optimizer_v2\\adam.py:110: UserWarning: The `lr` argument is deprecated, use `learning_rate` instead.\n  super(Adam, self).__init__(name, **kwargs)\n"
        },
        {
          "name": "stdout",
          "output_type": "stream",
          "text": "[CV 4/5; 5/9] END ...........neuron1=8, neuron2=4;, score=nan total time=   0.1s\n[CV 5/5; 5/9] START neuron1=8, neuron2=4........................................\n[CV 5/5; 5/9] END ...........neuron1=8, neuron2=4;, score=nan total time=   0.1s\n[CV 1/5; 6/9] START neuron1=8, neuron2=8........................................\n"
        },
        {
          "name": "stderr",
          "output_type": "stream",
          "text": "C:\\Users\\Asus\\anaconda3\\anaconda\\lib\\site-packages\\sklearn\\model_selection\\_validation.py:615: FitFailedWarning: Estimator fit failed. The score on this train-test partition for these parameters will be set to nan. Details: \nTraceback (most recent call last):\n  File \"C:\\Users\\Asus\\anaconda3\\anaconda\\lib\\site-packages\\sklearn\\model_selection\\_validation.py\", line 598, in _fit_and_score\n    estimator.fit(X_train, y_train, **fit_params)\n  File \"C:\\Users\\Asus\\anaconda3\\anaconda\\lib\\site-packages\\keras\\wrappers\\scikit_learn.py\", line 236, in fit\n    return super(KerasClassifier, self).fit(x, y, **kwargs)\n  File \"C:\\Users\\Asus\\anaconda3\\anaconda\\lib\\site-packages\\keras\\wrappers\\scikit_learn.py\", line 164, in fit\n    history = self.model.fit(x, y, **fit_args)\n  File \"C:\\Users\\Asus\\anaconda3\\anaconda\\lib\\site-packages\\keras\\utils\\traceback_utils.py\", line 67, in error_handler\n    raise e.with_traceback(filtered_tb) from None\n  File \"C:\\Users\\Asus\\AppData\\Local\\Temp\\__autograph_generated_fileetbnm25r.py\", line 15, in tf__train_function\n    retval_ = ag__.converted_call(ag__.ld(step_function), (ag__.ld(self), ag__.ld(iterator)), None, fscope)\nValueError: in user code:\n\n    File \"C:\\Users\\Asus\\anaconda3\\anaconda\\lib\\site-packages\\keras\\engine\\training.py\", line 1051, in train_function  *\n        return step_function(self, iterator)\n    File \"C:\\Users\\Asus\\anaconda3\\anaconda\\lib\\site-packages\\keras\\engine\\training.py\", line 1040, in step_function  **\n        outputs = model.distribute_strategy.run(run_step, args=(data,))\n    File \"C:\\Users\\Asus\\anaconda3\\anaconda\\lib\\site-packages\\keras\\engine\\training.py\", line 1030, in run_step  **\n        outputs = model.train_step(data)\n    File \"C:\\Users\\Asus\\anaconda3\\anaconda\\lib\\site-packages\\keras\\engine\\training.py\", line 889, in train_step\n        y_pred = self(x, training=True)\n    File \"C:\\Users\\Asus\\anaconda3\\anaconda\\lib\\site-packages\\keras\\utils\\traceback_utils.py\", line 67, in error_handler\n        raise e.with_traceback(filtered_tb) from None\n    File \"C:\\Users\\Asus\\anaconda3\\anaconda\\lib\\site-packages\\keras\\engine\\input_spec.py\", line 264, in assert_input_compatibility\n        raise ValueError(f'Input {input_index} of layer \"{layer_name}\" is '\n\n    ValueError: Input 0 of layer \"sequential_178\" is incompatible with the layer: expected shape=(None, 8), found shape=(None, 30)\n\n\n  warnings.warn(\"Estimator fit failed. The score on this train-test\"\nC:\\Users\\Asus\\anaconda3\\anaconda\\lib\\site-packages\\keras\\optimizers\\optimizer_v2\\adam.py:110: UserWarning: The `lr` argument is deprecated, use `learning_rate` instead.\n  super(Adam, self).__init__(name, **kwargs)\nC:\\Users\\Asus\\anaconda3\\anaconda\\lib\\site-packages\\sklearn\\model_selection\\_validation.py:615: FitFailedWarning: Estimator fit failed. The score on this train-test partition for these parameters will be set to nan. Details: \nTraceback (most recent call last):\n  File \"C:\\Users\\Asus\\anaconda3\\anaconda\\lib\\site-packages\\sklearn\\model_selection\\_validation.py\", line 598, in _fit_and_score\n    estimator.fit(X_train, y_train, **fit_params)\n  File \"C:\\Users\\Asus\\anaconda3\\anaconda\\lib\\site-packages\\keras\\wrappers\\scikit_learn.py\", line 236, in fit\n    return super(KerasClassifier, self).fit(x, y, **kwargs)\n  File \"C:\\Users\\Asus\\anaconda3\\anaconda\\lib\\site-packages\\keras\\wrappers\\scikit_learn.py\", line 164, in fit\n    history = self.model.fit(x, y, **fit_args)\n  File \"C:\\Users\\Asus\\anaconda3\\anaconda\\lib\\site-packages\\keras\\utils\\traceback_utils.py\", line 67, in error_handler\n    raise e.with_traceback(filtered_tb) from None\n  File \"C:\\Users\\Asus\\AppData\\Local\\Temp\\__autograph_generated_fileetbnm25r.py\", line 15, in tf__train_function\n    retval_ = ag__.converted_call(ag__.ld(step_function), (ag__.ld(self), ag__.ld(iterator)), None, fscope)\nValueError: in user code:\n\n    File \"C:\\Users\\Asus\\anaconda3\\anaconda\\lib\\site-packages\\keras\\engine\\training.py\", line 1051, in train_function  *\n        return step_function(self, iterator)\n    File \"C:\\Users\\Asus\\anaconda3\\anaconda\\lib\\site-packages\\keras\\engine\\training.py\", line 1040, in step_function  **\n        outputs = model.distribute_strategy.run(run_step, args=(data,))\n    File \"C:\\Users\\Asus\\anaconda3\\anaconda\\lib\\site-packages\\keras\\engine\\training.py\", line 1030, in run_step  **\n        outputs = model.train_step(data)\n    File \"C:\\Users\\Asus\\anaconda3\\anaconda\\lib\\site-packages\\keras\\engine\\training.py\", line 889, in train_step\n        y_pred = self(x, training=True)\n    File \"C:\\Users\\Asus\\anaconda3\\anaconda\\lib\\site-packages\\keras\\utils\\traceback_utils.py\", line 67, in error_handler\n        raise e.with_traceback(filtered_tb) from None\n    File \"C:\\Users\\Asus\\anaconda3\\anaconda\\lib\\site-packages\\keras\\engine\\input_spec.py\", line 264, in assert_input_compatibility\n        raise ValueError(f'Input {input_index} of layer \"{layer_name}\" is '\n\n    ValueError: Input 0 of layer \"sequential_179\" is incompatible with the layer: expected shape=(None, 8), found shape=(None, 30)\n\n\n  warnings.warn(\"Estimator fit failed. The score on this train-test\"\n"
        },
        {
          "name": "stdout",
          "output_type": "stream",
          "text": "[CV 1/5; 6/9] END ...........neuron1=8, neuron2=8;, score=nan total time=   0.1s\n[CV 2/5; 6/9] START neuron1=8, neuron2=8........................................\n[CV 2/5; 6/9] END ...........neuron1=8, neuron2=8;, score=nan total time=   0.1s\n[CV 3/5; 6/9] START neuron1=8, neuron2=8........................................\n"
        },
        {
          "name": "stderr",
          "output_type": "stream",
          "text": "C:\\Users\\Asus\\anaconda3\\anaconda\\lib\\site-packages\\keras\\optimizers\\optimizer_v2\\adam.py:110: UserWarning: The `lr` argument is deprecated, use `learning_rate` instead.\n  super(Adam, self).__init__(name, **kwargs)\nC:\\Users\\Asus\\anaconda3\\anaconda\\lib\\site-packages\\sklearn\\model_selection\\_validation.py:615: FitFailedWarning: Estimator fit failed. The score on this train-test partition for these parameters will be set to nan. Details: \nTraceback (most recent call last):\n  File \"C:\\Users\\Asus\\anaconda3\\anaconda\\lib\\site-packages\\sklearn\\model_selection\\_validation.py\", line 598, in _fit_and_score\n    estimator.fit(X_train, y_train, **fit_params)\n  File \"C:\\Users\\Asus\\anaconda3\\anaconda\\lib\\site-packages\\keras\\wrappers\\scikit_learn.py\", line 236, in fit\n    return super(KerasClassifier, self).fit(x, y, **kwargs)\n  File \"C:\\Users\\Asus\\anaconda3\\anaconda\\lib\\site-packages\\keras\\wrappers\\scikit_learn.py\", line 164, in fit\n    history = self.model.fit(x, y, **fit_args)\n  File \"C:\\Users\\Asus\\anaconda3\\anaconda\\lib\\site-packages\\keras\\utils\\traceback_utils.py\", line 67, in error_handler\n    raise e.with_traceback(filtered_tb) from None\n  File \"C:\\Users\\Asus\\AppData\\Local\\Temp\\__autograph_generated_fileetbnm25r.py\", line 15, in tf__train_function\n    retval_ = ag__.converted_call(ag__.ld(step_function), (ag__.ld(self), ag__.ld(iterator)), None, fscope)\nValueError: in user code:\n\n    File \"C:\\Users\\Asus\\anaconda3\\anaconda\\lib\\site-packages\\keras\\engine\\training.py\", line 1051, in train_function  *\n        return step_function(self, iterator)\n    File \"C:\\Users\\Asus\\anaconda3\\anaconda\\lib\\site-packages\\keras\\engine\\training.py\", line 1040, in step_function  **\n        outputs = model.distribute_strategy.run(run_step, args=(data,))\n    File \"C:\\Users\\Asus\\anaconda3\\anaconda\\lib\\site-packages\\keras\\engine\\training.py\", line 1030, in run_step  **\n        outputs = model.train_step(data)\n    File \"C:\\Users\\Asus\\anaconda3\\anaconda\\lib\\site-packages\\keras\\engine\\training.py\", line 889, in train_step\n        y_pred = self(x, training=True)\n    File \"C:\\Users\\Asus\\anaconda3\\anaconda\\lib\\site-packages\\keras\\utils\\traceback_utils.py\", line 67, in error_handler\n        raise e.with_traceback(filtered_tb) from None\n    File \"C:\\Users\\Asus\\anaconda3\\anaconda\\lib\\site-packages\\keras\\engine\\input_spec.py\", line 264, in assert_input_compatibility\n        raise ValueError(f'Input {input_index} of layer \"{layer_name}\" is '\n\n    ValueError: Input 0 of layer \"sequential_180\" is incompatible with the layer: expected shape=(None, 8), found shape=(None, 30)\n\n\n  warnings.warn(\"Estimator fit failed. The score on this train-test\"\nC:\\Users\\Asus\\anaconda3\\anaconda\\lib\\site-packages\\keras\\optimizers\\optimizer_v2\\adam.py:110: UserWarning: The `lr` argument is deprecated, use `learning_rate` instead.\n  super(Adam, self).__init__(name, **kwargs)\nC:\\Users\\Asus\\anaconda3\\anaconda\\lib\\site-packages\\sklearn\\model_selection\\_validation.py:615: FitFailedWarning: Estimator fit failed. The score on this train-test partition for these parameters will be set to nan. Details: \nTraceback (most recent call last):\n  File \"C:\\Users\\Asus\\anaconda3\\anaconda\\lib\\site-packages\\sklearn\\model_selection\\_validation.py\", line 598, in _fit_and_score\n    estimator.fit(X_train, y_train, **fit_params)\n  File \"C:\\Users\\Asus\\anaconda3\\anaconda\\lib\\site-packages\\keras\\wrappers\\scikit_learn.py\", line 236, in fit\n    return super(KerasClassifier, self).fit(x, y, **kwargs)\n  File \"C:\\Users\\Asus\\anaconda3\\anaconda\\lib\\site-packages\\keras\\wrappers\\scikit_learn.py\", line 164, in fit\n    history = self.model.fit(x, y, **fit_args)\n  File \"C:\\Users\\Asus\\anaconda3\\anaconda\\lib\\site-packages\\keras\\utils\\traceback_utils.py\", line 67, in error_handler\n    raise e.with_traceback(filtered_tb) from None\n  File \"C:\\Users\\Asus\\AppData\\Local\\Temp\\__autograph_generated_fileetbnm25r.py\", line 15, in tf__train_function\n    retval_ = ag__.converted_call(ag__.ld(step_function), (ag__.ld(self), ag__.ld(iterator)), None, fscope)\nValueError: in user code:\n\n    File \"C:\\Users\\Asus\\anaconda3\\anaconda\\lib\\site-packages\\keras\\engine\\training.py\", line 1051, in train_function  *\n        return step_function(self, iterator)\n    File \"C:\\Users\\Asus\\anaconda3\\anaconda\\lib\\site-packages\\keras\\engine\\training.py\", line 1040, in step_function  **\n        outputs = model.distribute_strategy.run(run_step, args=(data,))\n    File \"C:\\Users\\Asus\\anaconda3\\anaconda\\lib\\site-packages\\keras\\engine\\training.py\", line 1030, in run_step  **\n        outputs = model.train_step(data)\n    File \"C:\\Users\\Asus\\anaconda3\\anaconda\\lib\\site-packages\\keras\\engine\\training.py\", line 889, in train_step\n        y_pred = self(x, training=True)\n    File \"C:\\Users\\Asus\\anaconda3\\anaconda\\lib\\site-packages\\keras\\utils\\traceback_utils.py\", line 67, in error_handler\n        raise e.with_traceback(filtered_tb) from None\n    File \"C:\\Users\\Asus\\anaconda3\\anaconda\\lib\\site-packages\\keras\\engine\\input_spec.py\", line 264, in assert_input_compatibility\n        raise ValueError(f'Input {input_index} of layer \"{layer_name}\" is '\n\n    ValueError: Input 0 of layer \"sequential_181\" is incompatible with the layer: expected shape=(None, 8), found shape=(None, 30)\n\n\n  warnings.warn(\"Estimator fit failed. The score on this train-test\"\nC:\\Users\\Asus\\anaconda3\\anaconda\\lib\\site-packages\\keras\\optimizers\\optimizer_v2\\adam.py:110: UserWarning: The `lr` argument is deprecated, use `learning_rate` instead.\n  super(Adam, self).__init__(name, **kwargs)\n"
        },
        {
          "name": "stdout",
          "output_type": "stream",
          "text": "[CV 3/5; 6/9] END ...........neuron1=8, neuron2=8;, score=nan total time=   0.1s\n[CV 4/5; 6/9] START neuron1=8, neuron2=8........................................\n"
        },
        {
          "name": "stderr",
          "output_type": "stream",
          "text": "C:\\Users\\Asus\\anaconda3\\anaconda\\lib\\site-packages\\sklearn\\model_selection\\_validation.py:615: FitFailedWarning: Estimator fit failed. The score on this train-test partition for these parameters will be set to nan. Details: \nTraceback (most recent call last):\n  File \"C:\\Users\\Asus\\anaconda3\\anaconda\\lib\\site-packages\\sklearn\\model_selection\\_validation.py\", line 598, in _fit_and_score\n    estimator.fit(X_train, y_train, **fit_params)\n  File \"C:\\Users\\Asus\\anaconda3\\anaconda\\lib\\site-packages\\keras\\wrappers\\scikit_learn.py\", line 236, in fit\n    return super(KerasClassifier, self).fit(x, y, **kwargs)\n  File \"C:\\Users\\Asus\\anaconda3\\anaconda\\lib\\site-packages\\keras\\wrappers\\scikit_learn.py\", line 164, in fit\n    history = self.model.fit(x, y, **fit_args)\n  File \"C:\\Users\\Asus\\anaconda3\\anaconda\\lib\\site-packages\\keras\\utils\\traceback_utils.py\", line 67, in error_handler\n    raise e.with_traceback(filtered_tb) from None\n  File \"C:\\Users\\Asus\\AppData\\Local\\Temp\\__autograph_generated_fileetbnm25r.py\", line 15, in tf__train_function\n    retval_ = ag__.converted_call(ag__.ld(step_function), (ag__.ld(self), ag__.ld(iterator)), None, fscope)\nValueError: in user code:\n\n    File \"C:\\Users\\Asus\\anaconda3\\anaconda\\lib\\site-packages\\keras\\engine\\training.py\", line 1051, in train_function  *\n        return step_function(self, iterator)\n    File \"C:\\Users\\Asus\\anaconda3\\anaconda\\lib\\site-packages\\keras\\engine\\training.py\", line 1040, in step_function  **\n        outputs = model.distribute_strategy.run(run_step, args=(data,))\n    File \"C:\\Users\\Asus\\anaconda3\\anaconda\\lib\\site-packages\\keras\\engine\\training.py\", line 1030, in run_step  **\n        outputs = model.train_step(data)\n    File \"C:\\Users\\Asus\\anaconda3\\anaconda\\lib\\site-packages\\keras\\engine\\training.py\", line 889, in train_step\n        y_pred = self(x, training=True)\n    File \"C:\\Users\\Asus\\anaconda3\\anaconda\\lib\\site-packages\\keras\\utils\\traceback_utils.py\", line 67, in error_handler\n        raise e.with_traceback(filtered_tb) from None\n    File \"C:\\Users\\Asus\\anaconda3\\anaconda\\lib\\site-packages\\keras\\engine\\input_spec.py\", line 264, in assert_input_compatibility\n        raise ValueError(f'Input {input_index} of layer \"{layer_name}\" is '\n\n    ValueError: Input 0 of layer \"sequential_182\" is incompatible with the layer: expected shape=(None, 8), found shape=(None, 30)\n\n\n  warnings.warn(\"Estimator fit failed. The score on this train-test\"\nC:\\Users\\Asus\\anaconda3\\anaconda\\lib\\site-packages\\keras\\optimizers\\optimizer_v2\\adam.py:110: UserWarning: The `lr` argument is deprecated, use `learning_rate` instead.\n  super(Adam, self).__init__(name, **kwargs)\nC:\\Users\\Asus\\anaconda3\\anaconda\\lib\\site-packages\\sklearn\\model_selection\\_validation.py:615: FitFailedWarning: Estimator fit failed. The score on this train-test partition for these parameters will be set to nan. Details: \nTraceback (most recent call last):\n  File \"C:\\Users\\Asus\\anaconda3\\anaconda\\lib\\site-packages\\sklearn\\model_selection\\_validation.py\", line 598, in _fit_and_score\n    estimator.fit(X_train, y_train, **fit_params)\n  File \"C:\\Users\\Asus\\anaconda3\\anaconda\\lib\\site-packages\\keras\\wrappers\\scikit_learn.py\", line 236, in fit\n    return super(KerasClassifier, self).fit(x, y, **kwargs)\n  File \"C:\\Users\\Asus\\anaconda3\\anaconda\\lib\\site-packages\\keras\\wrappers\\scikit_learn.py\", line 164, in fit\n    history = self.model.fit(x, y, **fit_args)\n  File \"C:\\Users\\Asus\\anaconda3\\anaconda\\lib\\site-packages\\keras\\utils\\traceback_utils.py\", line 67, in error_handler\n    raise e.with_traceback(filtered_tb) from None\n  File \"C:\\Users\\Asus\\AppData\\Local\\Temp\\__autograph_generated_fileetbnm25r.py\", line 15, in tf__train_function\n    retval_ = ag__.converted_call(ag__.ld(step_function), (ag__.ld(self), ag__.ld(iterator)), None, fscope)\nValueError: in user code:\n\n    File \"C:\\Users\\Asus\\anaconda3\\anaconda\\lib\\site-packages\\keras\\engine\\training.py\", line 1051, in train_function  *\n        return step_function(self, iterator)\n    File \"C:\\Users\\Asus\\anaconda3\\anaconda\\lib\\site-packages\\keras\\engine\\training.py\", line 1040, in step_function  **\n        outputs = model.distribute_strategy.run(run_step, args=(data,))\n    File \"C:\\Users\\Asus\\anaconda3\\anaconda\\lib\\site-packages\\keras\\engine\\training.py\", line 1030, in run_step  **\n        outputs = model.train_step(data)\n    File \"C:\\Users\\Asus\\anaconda3\\anaconda\\lib\\site-packages\\keras\\engine\\training.py\", line 889, in train_step\n        y_pred = self(x, training=True)\n    File \"C:\\Users\\Asus\\anaconda3\\anaconda\\lib\\site-packages\\keras\\utils\\traceback_utils.py\", line 67, in error_handler\n        raise e.with_traceback(filtered_tb) from None\n    File \"C:\\Users\\Asus\\anaconda3\\anaconda\\lib\\site-packages\\keras\\engine\\input_spec.py\", line 264, in assert_input_compatibility\n        raise ValueError(f'Input {input_index} of layer \"{layer_name}\" is '\n\n    ValueError: Input 0 of layer \"sequential_183\" is incompatible with the layer: expected shape=(None, 8), found shape=(None, 30)\n\n\n  warnings.warn(\"Estimator fit failed. The score on this train-test\"\n"
        },
        {
          "name": "stdout",
          "output_type": "stream",
          "text": "[CV 4/5; 6/9] END ...........neuron1=8, neuron2=8;, score=nan total time=   0.2s\n[CV 5/5; 6/9] START neuron1=8, neuron2=8........................................\n[CV 5/5; 6/9] END ...........neuron1=8, neuron2=8;, score=nan total time=   0.1s\n[CV 1/5; 7/9] START neuron1=16, neuron2=2.......................................\n"
        },
        {
          "name": "stderr",
          "output_type": "stream",
          "text": "C:\\Users\\Asus\\anaconda3\\anaconda\\lib\\site-packages\\keras\\optimizers\\optimizer_v2\\adam.py:110: UserWarning: The `lr` argument is deprecated, use `learning_rate` instead.\n  super(Adam, self).__init__(name, **kwargs)\nC:\\Users\\Asus\\anaconda3\\anaconda\\lib\\site-packages\\sklearn\\model_selection\\_validation.py:615: FitFailedWarning: Estimator fit failed. The score on this train-test partition for these parameters will be set to nan. Details: \nTraceback (most recent call last):\n  File \"C:\\Users\\Asus\\anaconda3\\anaconda\\lib\\site-packages\\sklearn\\model_selection\\_validation.py\", line 598, in _fit_and_score\n    estimator.fit(X_train, y_train, **fit_params)\n  File \"C:\\Users\\Asus\\anaconda3\\anaconda\\lib\\site-packages\\keras\\wrappers\\scikit_learn.py\", line 236, in fit\n    return super(KerasClassifier, self).fit(x, y, **kwargs)\n  File \"C:\\Users\\Asus\\anaconda3\\anaconda\\lib\\site-packages\\keras\\wrappers\\scikit_learn.py\", line 164, in fit\n    history = self.model.fit(x, y, **fit_args)\n  File \"C:\\Users\\Asus\\anaconda3\\anaconda\\lib\\site-packages\\keras\\utils\\traceback_utils.py\", line 67, in error_handler\n    raise e.with_traceback(filtered_tb) from None\n  File \"C:\\Users\\Asus\\AppData\\Local\\Temp\\__autograph_generated_fileetbnm25r.py\", line 15, in tf__train_function\n    retval_ = ag__.converted_call(ag__.ld(step_function), (ag__.ld(self), ag__.ld(iterator)), None, fscope)\nValueError: in user code:\n\n    File \"C:\\Users\\Asus\\anaconda3\\anaconda\\lib\\site-packages\\keras\\engine\\training.py\", line 1051, in train_function  *\n        return step_function(self, iterator)\n    File \"C:\\Users\\Asus\\anaconda3\\anaconda\\lib\\site-packages\\keras\\engine\\training.py\", line 1040, in step_function  **\n        outputs = model.distribute_strategy.run(run_step, args=(data,))\n    File \"C:\\Users\\Asus\\anaconda3\\anaconda\\lib\\site-packages\\keras\\engine\\training.py\", line 1030, in run_step  **\n        outputs = model.train_step(data)\n    File \"C:\\Users\\Asus\\anaconda3\\anaconda\\lib\\site-packages\\keras\\engine\\training.py\", line 889, in train_step\n        y_pred = self(x, training=True)\n    File \"C:\\Users\\Asus\\anaconda3\\anaconda\\lib\\site-packages\\keras\\utils\\traceback_utils.py\", line 67, in error_handler\n        raise e.with_traceback(filtered_tb) from None\n    File \"C:\\Users\\Asus\\anaconda3\\anaconda\\lib\\site-packages\\keras\\engine\\input_spec.py\", line 264, in assert_input_compatibility\n        raise ValueError(f'Input {input_index} of layer \"{layer_name}\" is '\n\n    ValueError: Input 0 of layer \"sequential_184\" is incompatible with the layer: expected shape=(None, 8), found shape=(None, 30)\n\n\n  warnings.warn(\"Estimator fit failed. The score on this train-test\"\nC:\\Users\\Asus\\anaconda3\\anaconda\\lib\\site-packages\\keras\\optimizers\\optimizer_v2\\adam.py:110: UserWarning: The `lr` argument is deprecated, use `learning_rate` instead.\n  super(Adam, self).__init__(name, **kwargs)\n"
        },
        {
          "name": "stdout",
          "output_type": "stream",
          "text": "[CV 1/5; 7/9] END ..........neuron1=16, neuron2=2;, score=nan total time=   0.1s\n[CV 2/5; 7/9] START neuron1=16, neuron2=2.......................................\n[CV 2/5; 7/9] END ..........neuron1=16, neuron2=2;, score=nan total time=   0.1s\n[CV 3/5; 7/9] START neuron1=16, neuron2=2.......................................\n"
        },
        {
          "name": "stderr",
          "output_type": "stream",
          "text": "C:\\Users\\Asus\\anaconda3\\anaconda\\lib\\site-packages\\sklearn\\model_selection\\_validation.py:615: FitFailedWarning: Estimator fit failed. The score on this train-test partition for these parameters will be set to nan. Details: \nTraceback (most recent call last):\n  File \"C:\\Users\\Asus\\anaconda3\\anaconda\\lib\\site-packages\\sklearn\\model_selection\\_validation.py\", line 598, in _fit_and_score\n    estimator.fit(X_train, y_train, **fit_params)\n  File \"C:\\Users\\Asus\\anaconda3\\anaconda\\lib\\site-packages\\keras\\wrappers\\scikit_learn.py\", line 236, in fit\n    return super(KerasClassifier, self).fit(x, y, **kwargs)\n  File \"C:\\Users\\Asus\\anaconda3\\anaconda\\lib\\site-packages\\keras\\wrappers\\scikit_learn.py\", line 164, in fit\n    history = self.model.fit(x, y, **fit_args)\n  File \"C:\\Users\\Asus\\anaconda3\\anaconda\\lib\\site-packages\\keras\\utils\\traceback_utils.py\", line 67, in error_handler\n    raise e.with_traceback(filtered_tb) from None\n  File \"C:\\Users\\Asus\\AppData\\Local\\Temp\\__autograph_generated_fileetbnm25r.py\", line 15, in tf__train_function\n    retval_ = ag__.converted_call(ag__.ld(step_function), (ag__.ld(self), ag__.ld(iterator)), None, fscope)\nValueError: in user code:\n\n    File \"C:\\Users\\Asus\\anaconda3\\anaconda\\lib\\site-packages\\keras\\engine\\training.py\", line 1051, in train_function  *\n        return step_function(self, iterator)\n    File \"C:\\Users\\Asus\\anaconda3\\anaconda\\lib\\site-packages\\keras\\engine\\training.py\", line 1040, in step_function  **\n        outputs = model.distribute_strategy.run(run_step, args=(data,))\n    File \"C:\\Users\\Asus\\anaconda3\\anaconda\\lib\\site-packages\\keras\\engine\\training.py\", line 1030, in run_step  **\n        outputs = model.train_step(data)\n    File \"C:\\Users\\Asus\\anaconda3\\anaconda\\lib\\site-packages\\keras\\engine\\training.py\", line 889, in train_step\n        y_pred = self(x, training=True)\n    File \"C:\\Users\\Asus\\anaconda3\\anaconda\\lib\\site-packages\\keras\\utils\\traceback_utils.py\", line 67, in error_handler\n        raise e.with_traceback(filtered_tb) from None\n    File \"C:\\Users\\Asus\\anaconda3\\anaconda\\lib\\site-packages\\keras\\engine\\input_spec.py\", line 264, in assert_input_compatibility\n        raise ValueError(f'Input {input_index} of layer \"{layer_name}\" is '\n\n    ValueError: Input 0 of layer \"sequential_185\" is incompatible with the layer: expected shape=(None, 8), found shape=(None, 30)\n\n\n  warnings.warn(\"Estimator fit failed. The score on this train-test\"\nC:\\Users\\Asus\\anaconda3\\anaconda\\lib\\site-packages\\keras\\optimizers\\optimizer_v2\\adam.py:110: UserWarning: The `lr` argument is deprecated, use `learning_rate` instead.\n  super(Adam, self).__init__(name, **kwargs)\nC:\\Users\\Asus\\anaconda3\\anaconda\\lib\\site-packages\\sklearn\\model_selection\\_validation.py:615: FitFailedWarning: Estimator fit failed. The score on this train-test partition for these parameters will be set to nan. Details: \nTraceback (most recent call last):\n  File \"C:\\Users\\Asus\\anaconda3\\anaconda\\lib\\site-packages\\sklearn\\model_selection\\_validation.py\", line 598, in _fit_and_score\n    estimator.fit(X_train, y_train, **fit_params)\n  File \"C:\\Users\\Asus\\anaconda3\\anaconda\\lib\\site-packages\\keras\\wrappers\\scikit_learn.py\", line 236, in fit\n    return super(KerasClassifier, self).fit(x, y, **kwargs)\n  File \"C:\\Users\\Asus\\anaconda3\\anaconda\\lib\\site-packages\\keras\\wrappers\\scikit_learn.py\", line 164, in fit\n    history = self.model.fit(x, y, **fit_args)\n  File \"C:\\Users\\Asus\\anaconda3\\anaconda\\lib\\site-packages\\keras\\utils\\traceback_utils.py\", line 67, in error_handler\n    raise e.with_traceback(filtered_tb) from None\n  File \"C:\\Users\\Asus\\AppData\\Local\\Temp\\__autograph_generated_fileetbnm25r.py\", line 15, in tf__train_function\n    retval_ = ag__.converted_call(ag__.ld(step_function), (ag__.ld(self), ag__.ld(iterator)), None, fscope)\nValueError: in user code:\n\n    File \"C:\\Users\\Asus\\anaconda3\\anaconda\\lib\\site-packages\\keras\\engine\\training.py\", line 1051, in train_function  *\n        return step_function(self, iterator)\n    File \"C:\\Users\\Asus\\anaconda3\\anaconda\\lib\\site-packages\\keras\\engine\\training.py\", line 1040, in step_function  **\n        outputs = model.distribute_strategy.run(run_step, args=(data,))\n    File \"C:\\Users\\Asus\\anaconda3\\anaconda\\lib\\site-packages\\keras\\engine\\training.py\", line 1030, in run_step  **\n        outputs = model.train_step(data)\n    File \"C:\\Users\\Asus\\anaconda3\\anaconda\\lib\\site-packages\\keras\\engine\\training.py\", line 889, in train_step\n        y_pred = self(x, training=True)\n    File \"C:\\Users\\Asus\\anaconda3\\anaconda\\lib\\site-packages\\keras\\utils\\traceback_utils.py\", line 67, in error_handler\n        raise e.with_traceback(filtered_tb) from None\n    File \"C:\\Users\\Asus\\anaconda3\\anaconda\\lib\\site-packages\\keras\\engine\\input_spec.py\", line 264, in assert_input_compatibility\n        raise ValueError(f'Input {input_index} of layer \"{layer_name}\" is '\n\n    ValueError: Input 0 of layer \"sequential_186\" is incompatible with the layer: expected shape=(None, 8), found shape=(None, 30)\n\n\n  warnings.warn(\"Estimator fit failed. The score on this train-test\"\n"
        },
        {
          "name": "stdout",
          "output_type": "stream",
          "text": "[CV 3/5; 7/9] END ..........neuron1=16, neuron2=2;, score=nan total time=   0.1s\n[CV 4/5; 7/9] START neuron1=16, neuron2=2.......................................\n"
        },
        {
          "name": "stderr",
          "output_type": "stream",
          "text": "C:\\Users\\Asus\\anaconda3\\anaconda\\lib\\site-packages\\keras\\optimizers\\optimizer_v2\\adam.py:110: UserWarning: The `lr` argument is deprecated, use `learning_rate` instead.\n  super(Adam, self).__init__(name, **kwargs)\nC:\\Users\\Asus\\anaconda3\\anaconda\\lib\\site-packages\\sklearn\\model_selection\\_validation.py:615: FitFailedWarning: Estimator fit failed. The score on this train-test partition for these parameters will be set to nan. Details: \nTraceback (most recent call last):\n  File \"C:\\Users\\Asus\\anaconda3\\anaconda\\lib\\site-packages\\sklearn\\model_selection\\_validation.py\", line 598, in _fit_and_score\n    estimator.fit(X_train, y_train, **fit_params)\n  File \"C:\\Users\\Asus\\anaconda3\\anaconda\\lib\\site-packages\\keras\\wrappers\\scikit_learn.py\", line 236, in fit\n    return super(KerasClassifier, self).fit(x, y, **kwargs)\n  File \"C:\\Users\\Asus\\anaconda3\\anaconda\\lib\\site-packages\\keras\\wrappers\\scikit_learn.py\", line 164, in fit\n    history = self.model.fit(x, y, **fit_args)\n  File \"C:\\Users\\Asus\\anaconda3\\anaconda\\lib\\site-packages\\keras\\utils\\traceback_utils.py\", line 67, in error_handler\n    raise e.with_traceback(filtered_tb) from None\n  File \"C:\\Users\\Asus\\AppData\\Local\\Temp\\__autograph_generated_fileetbnm25r.py\", line 15, in tf__train_function\n    retval_ = ag__.converted_call(ag__.ld(step_function), (ag__.ld(self), ag__.ld(iterator)), None, fscope)\nValueError: in user code:\n\n    File \"C:\\Users\\Asus\\anaconda3\\anaconda\\lib\\site-packages\\keras\\engine\\training.py\", line 1051, in train_function  *\n        return step_function(self, iterator)\n    File \"C:\\Users\\Asus\\anaconda3\\anaconda\\lib\\site-packages\\keras\\engine\\training.py\", line 1040, in step_function  **\n        outputs = model.distribute_strategy.run(run_step, args=(data,))\n    File \"C:\\Users\\Asus\\anaconda3\\anaconda\\lib\\site-packages\\keras\\engine\\training.py\", line 1030, in run_step  **\n        outputs = model.train_step(data)\n    File \"C:\\Users\\Asus\\anaconda3\\anaconda\\lib\\site-packages\\keras\\engine\\training.py\", line 889, in train_step\n        y_pred = self(x, training=True)\n    File \"C:\\Users\\Asus\\anaconda3\\anaconda\\lib\\site-packages\\keras\\utils\\traceback_utils.py\", line 67, in error_handler\n        raise e.with_traceback(filtered_tb) from None\n    File \"C:\\Users\\Asus\\anaconda3\\anaconda\\lib\\site-packages\\keras\\engine\\input_spec.py\", line 264, in assert_input_compatibility\n        raise ValueError(f'Input {input_index} of layer \"{layer_name}\" is '\n\n    ValueError: Input 0 of layer \"sequential_187\" is incompatible with the layer: expected shape=(None, 8), found shape=(None, 30)\n\n\n  warnings.warn(\"Estimator fit failed. The score on this train-test\"\nC:\\Users\\Asus\\anaconda3\\anaconda\\lib\\site-packages\\keras\\optimizers\\optimizer_v2\\adam.py:110: UserWarning: The `lr` argument is deprecated, use `learning_rate` instead.\n  super(Adam, self).__init__(name, **kwargs)\n"
        },
        {
          "name": "stdout",
          "output_type": "stream",
          "text": "[CV 4/5; 7/9] END ..........neuron1=16, neuron2=2;, score=nan total time=   0.1s\n[CV 5/5; 7/9] START neuron1=16, neuron2=2.......................................\n[CV 5/5; 7/9] END ..........neuron1=16, neuron2=2;, score=nan total time=   0.1s\n[CV 1/5; 8/9] START neuron1=16, neuron2=4.......................................\n"
        },
        {
          "name": "stderr",
          "output_type": "stream",
          "text": "C:\\Users\\Asus\\anaconda3\\anaconda\\lib\\site-packages\\sklearn\\model_selection\\_validation.py:615: FitFailedWarning: Estimator fit failed. The score on this train-test partition for these parameters will be set to nan. Details: \nTraceback (most recent call last):\n  File \"C:\\Users\\Asus\\anaconda3\\anaconda\\lib\\site-packages\\sklearn\\model_selection\\_validation.py\", line 598, in _fit_and_score\n    estimator.fit(X_train, y_train, **fit_params)\n  File \"C:\\Users\\Asus\\anaconda3\\anaconda\\lib\\site-packages\\keras\\wrappers\\scikit_learn.py\", line 236, in fit\n    return super(KerasClassifier, self).fit(x, y, **kwargs)\n  File \"C:\\Users\\Asus\\anaconda3\\anaconda\\lib\\site-packages\\keras\\wrappers\\scikit_learn.py\", line 164, in fit\n    history = self.model.fit(x, y, **fit_args)\n  File \"C:\\Users\\Asus\\anaconda3\\anaconda\\lib\\site-packages\\keras\\utils\\traceback_utils.py\", line 67, in error_handler\n    raise e.with_traceback(filtered_tb) from None\n  File \"C:\\Users\\Asus\\AppData\\Local\\Temp\\__autograph_generated_fileetbnm25r.py\", line 15, in tf__train_function\n    retval_ = ag__.converted_call(ag__.ld(step_function), (ag__.ld(self), ag__.ld(iterator)), None, fscope)\nValueError: in user code:\n\n    File \"C:\\Users\\Asus\\anaconda3\\anaconda\\lib\\site-packages\\keras\\engine\\training.py\", line 1051, in train_function  *\n        return step_function(self, iterator)\n    File \"C:\\Users\\Asus\\anaconda3\\anaconda\\lib\\site-packages\\keras\\engine\\training.py\", line 1040, in step_function  **\n        outputs = model.distribute_strategy.run(run_step, args=(data,))\n    File \"C:\\Users\\Asus\\anaconda3\\anaconda\\lib\\site-packages\\keras\\engine\\training.py\", line 1030, in run_step  **\n        outputs = model.train_step(data)\n    File \"C:\\Users\\Asus\\anaconda3\\anaconda\\lib\\site-packages\\keras\\engine\\training.py\", line 889, in train_step\n        y_pred = self(x, training=True)\n    File \"C:\\Users\\Asus\\anaconda3\\anaconda\\lib\\site-packages\\keras\\utils\\traceback_utils.py\", line 67, in error_handler\n        raise e.with_traceback(filtered_tb) from None\n    File \"C:\\Users\\Asus\\anaconda3\\anaconda\\lib\\site-packages\\keras\\engine\\input_spec.py\", line 264, in assert_input_compatibility\n        raise ValueError(f'Input {input_index} of layer \"{layer_name}\" is '\n\n    ValueError: Input 0 of layer \"sequential_188\" is incompatible with the layer: expected shape=(None, 8), found shape=(None, 30)\n\n\n  warnings.warn(\"Estimator fit failed. The score on this train-test\"\nC:\\Users\\Asus\\anaconda3\\anaconda\\lib\\site-packages\\keras\\optimizers\\optimizer_v2\\adam.py:110: UserWarning: The `lr` argument is deprecated, use `learning_rate` instead.\n  super(Adam, self).__init__(name, **kwargs)\nC:\\Users\\Asus\\anaconda3\\anaconda\\lib\\site-packages\\sklearn\\model_selection\\_validation.py:615: FitFailedWarning: Estimator fit failed. The score on this train-test partition for these parameters will be set to nan. Details: \nTraceback (most recent call last):\n  File \"C:\\Users\\Asus\\anaconda3\\anaconda\\lib\\site-packages\\sklearn\\model_selection\\_validation.py\", line 598, in _fit_and_score\n    estimator.fit(X_train, y_train, **fit_params)\n  File \"C:\\Users\\Asus\\anaconda3\\anaconda\\lib\\site-packages\\keras\\wrappers\\scikit_learn.py\", line 236, in fit\n    return super(KerasClassifier, self).fit(x, y, **kwargs)\n  File \"C:\\Users\\Asus\\anaconda3\\anaconda\\lib\\site-packages\\keras\\wrappers\\scikit_learn.py\", line 164, in fit\n    history = self.model.fit(x, y, **fit_args)\n  File \"C:\\Users\\Asus\\anaconda3\\anaconda\\lib\\site-packages\\keras\\utils\\traceback_utils.py\", line 67, in error_handler\n    raise e.with_traceback(filtered_tb) from None\n  File \"C:\\Users\\Asus\\AppData\\Local\\Temp\\__autograph_generated_fileetbnm25r.py\", line 15, in tf__train_function\n    retval_ = ag__.converted_call(ag__.ld(step_function), (ag__.ld(self), ag__.ld(iterator)), None, fscope)\nValueError: in user code:\n\n    File \"C:\\Users\\Asus\\anaconda3\\anaconda\\lib\\site-packages\\keras\\engine\\training.py\", line 1051, in train_function  *\n        return step_function(self, iterator)\n    File \"C:\\Users\\Asus\\anaconda3\\anaconda\\lib\\site-packages\\keras\\engine\\training.py\", line 1040, in step_function  **\n        outputs = model.distribute_strategy.run(run_step, args=(data,))\n    File \"C:\\Users\\Asus\\anaconda3\\anaconda\\lib\\site-packages\\keras\\engine\\training.py\", line 1030, in run_step  **\n        outputs = model.train_step(data)\n    File \"C:\\Users\\Asus\\anaconda3\\anaconda\\lib\\site-packages\\keras\\engine\\training.py\", line 889, in train_step\n        y_pred = self(x, training=True)\n    File \"C:\\Users\\Asus\\anaconda3\\anaconda\\lib\\site-packages\\keras\\utils\\traceback_utils.py\", line 67, in error_handler\n        raise e.with_traceback(filtered_tb) from None\n    File \"C:\\Users\\Asus\\anaconda3\\anaconda\\lib\\site-packages\\keras\\engine\\input_spec.py\", line 264, in assert_input_compatibility\n        raise ValueError(f'Input {input_index} of layer \"{layer_name}\" is '\n\n    ValueError: Input 0 of layer \"sequential_189\" is incompatible with the layer: expected shape=(None, 8), found shape=(None, 30)\n\n\n  warnings.warn(\"Estimator fit failed. The score on this train-test\"\nC:\\Users\\Asus\\anaconda3\\anaconda\\lib\\site-packages\\keras\\optimizers\\optimizer_v2\\adam.py:110: UserWarning: The `lr` argument is deprecated, use `learning_rate` instead.\n  super(Adam, self).__init__(name, **kwargs)\n"
        },
        {
          "name": "stdout",
          "output_type": "stream",
          "text": "[CV 1/5; 8/9] END ..........neuron1=16, neuron2=4;, score=nan total time=   0.2s\n[CV 2/5; 8/9] START neuron1=16, neuron2=4.......................................\n"
        },
        {
          "name": "stderr",
          "output_type": "stream",
          "text": "C:\\Users\\Asus\\anaconda3\\anaconda\\lib\\site-packages\\sklearn\\model_selection\\_validation.py:615: FitFailedWarning: Estimator fit failed. The score on this train-test partition for these parameters will be set to nan. Details: \nTraceback (most recent call last):\n  File \"C:\\Users\\Asus\\anaconda3\\anaconda\\lib\\site-packages\\sklearn\\model_selection\\_validation.py\", line 598, in _fit_and_score\n    estimator.fit(X_train, y_train, **fit_params)\n  File \"C:\\Users\\Asus\\anaconda3\\anaconda\\lib\\site-packages\\keras\\wrappers\\scikit_learn.py\", line 236, in fit\n    return super(KerasClassifier, self).fit(x, y, **kwargs)\n  File \"C:\\Users\\Asus\\anaconda3\\anaconda\\lib\\site-packages\\keras\\wrappers\\scikit_learn.py\", line 164, in fit\n    history = self.model.fit(x, y, **fit_args)\n  File \"C:\\Users\\Asus\\anaconda3\\anaconda\\lib\\site-packages\\keras\\utils\\traceback_utils.py\", line 67, in error_handler\n    raise e.with_traceback(filtered_tb) from None\n  File \"C:\\Users\\Asus\\AppData\\Local\\Temp\\__autograph_generated_fileetbnm25r.py\", line 15, in tf__train_function\n    retval_ = ag__.converted_call(ag__.ld(step_function), (ag__.ld(self), ag__.ld(iterator)), None, fscope)\nValueError: in user code:\n\n    File \"C:\\Users\\Asus\\anaconda3\\anaconda\\lib\\site-packages\\keras\\engine\\training.py\", line 1051, in train_function  *\n        return step_function(self, iterator)\n    File \"C:\\Users\\Asus\\anaconda3\\anaconda\\lib\\site-packages\\keras\\engine\\training.py\", line 1040, in step_function  **\n        outputs = model.distribute_strategy.run(run_step, args=(data,))\n    File \"C:\\Users\\Asus\\anaconda3\\anaconda\\lib\\site-packages\\keras\\engine\\training.py\", line 1030, in run_step  **\n        outputs = model.train_step(data)\n    File \"C:\\Users\\Asus\\anaconda3\\anaconda\\lib\\site-packages\\keras\\engine\\training.py\", line 889, in train_step\n        y_pred = self(x, training=True)\n    File \"C:\\Users\\Asus\\anaconda3\\anaconda\\lib\\site-packages\\keras\\utils\\traceback_utils.py\", line 67, in error_handler\n        raise e.with_traceback(filtered_tb) from None\n    File \"C:\\Users\\Asus\\anaconda3\\anaconda\\lib\\site-packages\\keras\\engine\\input_spec.py\", line 264, in assert_input_compatibility\n        raise ValueError(f'Input {input_index} of layer \"{layer_name}\" is '\n\n    ValueError: Input 0 of layer \"sequential_190\" is incompatible with the layer: expected shape=(None, 8), found shape=(None, 30)\n\n\n  warnings.warn(\"Estimator fit failed. The score on this train-test\"\nC:\\Users\\Asus\\anaconda3\\anaconda\\lib\\site-packages\\keras\\optimizers\\optimizer_v2\\adam.py:110: UserWarning: The `lr` argument is deprecated, use `learning_rate` instead.\n  super(Adam, self).__init__(name, **kwargs)\n"
        },
        {
          "name": "stdout",
          "output_type": "stream",
          "text": "[CV 2/5; 8/9] END ..........neuron1=16, neuron2=4;, score=nan total time=   0.3s\n[CV 3/5; 8/9] START neuron1=16, neuron2=4.......................................\n"
        },
        {
          "name": "stderr",
          "output_type": "stream",
          "text": "C:\\Users\\Asus\\anaconda3\\anaconda\\lib\\site-packages\\sklearn\\model_selection\\_validation.py:615: FitFailedWarning: Estimator fit failed. The score on this train-test partition for these parameters will be set to nan. Details: \nTraceback (most recent call last):\n  File \"C:\\Users\\Asus\\anaconda3\\anaconda\\lib\\site-packages\\sklearn\\model_selection\\_validation.py\", line 598, in _fit_and_score\n    estimator.fit(X_train, y_train, **fit_params)\n  File \"C:\\Users\\Asus\\anaconda3\\anaconda\\lib\\site-packages\\keras\\wrappers\\scikit_learn.py\", line 236, in fit\n    return super(KerasClassifier, self).fit(x, y, **kwargs)\n  File \"C:\\Users\\Asus\\anaconda3\\anaconda\\lib\\site-packages\\keras\\wrappers\\scikit_learn.py\", line 164, in fit\n    history = self.model.fit(x, y, **fit_args)\n  File \"C:\\Users\\Asus\\anaconda3\\anaconda\\lib\\site-packages\\keras\\utils\\traceback_utils.py\", line 67, in error_handler\n    raise e.with_traceback(filtered_tb) from None\n  File \"C:\\Users\\Asus\\AppData\\Local\\Temp\\__autograph_generated_fileetbnm25r.py\", line 15, in tf__train_function\n    retval_ = ag__.converted_call(ag__.ld(step_function), (ag__.ld(self), ag__.ld(iterator)), None, fscope)\nValueError: in user code:\n\n    File \"C:\\Users\\Asus\\anaconda3\\anaconda\\lib\\site-packages\\keras\\engine\\training.py\", line 1051, in train_function  *\n        return step_function(self, iterator)\n    File \"C:\\Users\\Asus\\anaconda3\\anaconda\\lib\\site-packages\\keras\\engine\\training.py\", line 1040, in step_function  **\n        outputs = model.distribute_strategy.run(run_step, args=(data,))\n    File \"C:\\Users\\Asus\\anaconda3\\anaconda\\lib\\site-packages\\keras\\engine\\training.py\", line 1030, in run_step  **\n        outputs = model.train_step(data)\n    File \"C:\\Users\\Asus\\anaconda3\\anaconda\\lib\\site-packages\\keras\\engine\\training.py\", line 889, in train_step\n        y_pred = self(x, training=True)\n    File \"C:\\Users\\Asus\\anaconda3\\anaconda\\lib\\site-packages\\keras\\utils\\traceback_utils.py\", line 67, in error_handler\n        raise e.with_traceback(filtered_tb) from None\n    File \"C:\\Users\\Asus\\anaconda3\\anaconda\\lib\\site-packages\\keras\\engine\\input_spec.py\", line 264, in assert_input_compatibility\n        raise ValueError(f'Input {input_index} of layer \"{layer_name}\" is '\n\n    ValueError: Input 0 of layer \"sequential_191\" is incompatible with the layer: expected shape=(None, 8), found shape=(None, 30)\n\n\n  warnings.warn(\"Estimator fit failed. The score on this train-test\"\nC:\\Users\\Asus\\anaconda3\\anaconda\\lib\\site-packages\\keras\\optimizers\\optimizer_v2\\adam.py:110: UserWarning: The `lr` argument is deprecated, use `learning_rate` instead.\n  super(Adam, self).__init__(name, **kwargs)\n"
        },
        {
          "name": "stdout",
          "output_type": "stream",
          "text": "[CV 3/5; 8/9] END ..........neuron1=16, neuron2=4;, score=nan total time=   0.4s\n[CV 4/5; 8/9] START neuron1=16, neuron2=4.......................................\n"
        },
        {
          "name": "stderr",
          "output_type": "stream",
          "text": "C:\\Users\\Asus\\anaconda3\\anaconda\\lib\\site-packages\\sklearn\\model_selection\\_validation.py:615: FitFailedWarning: Estimator fit failed. The score on this train-test partition for these parameters will be set to nan. Details: \nTraceback (most recent call last):\n  File \"C:\\Users\\Asus\\anaconda3\\anaconda\\lib\\site-packages\\sklearn\\model_selection\\_validation.py\", line 598, in _fit_and_score\n    estimator.fit(X_train, y_train, **fit_params)\n  File \"C:\\Users\\Asus\\anaconda3\\anaconda\\lib\\site-packages\\keras\\wrappers\\scikit_learn.py\", line 236, in fit\n    return super(KerasClassifier, self).fit(x, y, **kwargs)\n  File \"C:\\Users\\Asus\\anaconda3\\anaconda\\lib\\site-packages\\keras\\wrappers\\scikit_learn.py\", line 164, in fit\n    history = self.model.fit(x, y, **fit_args)\n  File \"C:\\Users\\Asus\\anaconda3\\anaconda\\lib\\site-packages\\keras\\utils\\traceback_utils.py\", line 67, in error_handler\n    raise e.with_traceback(filtered_tb) from None\n  File \"C:\\Users\\Asus\\AppData\\Local\\Temp\\__autograph_generated_fileetbnm25r.py\", line 15, in tf__train_function\n    retval_ = ag__.converted_call(ag__.ld(step_function), (ag__.ld(self), ag__.ld(iterator)), None, fscope)\nValueError: in user code:\n\n    File \"C:\\Users\\Asus\\anaconda3\\anaconda\\lib\\site-packages\\keras\\engine\\training.py\", line 1051, in train_function  *\n        return step_function(self, iterator)\n    File \"C:\\Users\\Asus\\anaconda3\\anaconda\\lib\\site-packages\\keras\\engine\\training.py\", line 1040, in step_function  **\n        outputs = model.distribute_strategy.run(run_step, args=(data,))\n    File \"C:\\Users\\Asus\\anaconda3\\anaconda\\lib\\site-packages\\keras\\engine\\training.py\", line 1030, in run_step  **\n        outputs = model.train_step(data)\n    File \"C:\\Users\\Asus\\anaconda3\\anaconda\\lib\\site-packages\\keras\\engine\\training.py\", line 889, in train_step\n        y_pred = self(x, training=True)\n    File \"C:\\Users\\Asus\\anaconda3\\anaconda\\lib\\site-packages\\keras\\utils\\traceback_utils.py\", line 67, in error_handler\n        raise e.with_traceback(filtered_tb) from None\n    File \"C:\\Users\\Asus\\anaconda3\\anaconda\\lib\\site-packages\\keras\\engine\\input_spec.py\", line 264, in assert_input_compatibility\n        raise ValueError(f'Input {input_index} of layer \"{layer_name}\" is '\n\n    ValueError: Input 0 of layer \"sequential_192\" is incompatible with the layer: expected shape=(None, 8), found shape=(None, 30)\n\n\n  warnings.warn(\"Estimator fit failed. The score on this train-test\"\nC:\\Users\\Asus\\anaconda3\\anaconda\\lib\\site-packages\\keras\\optimizers\\optimizer_v2\\adam.py:110: UserWarning: The `lr` argument is deprecated, use `learning_rate` instead.\n  super(Adam, self).__init__(name, **kwargs)\n"
        },
        {
          "name": "stdout",
          "output_type": "stream",
          "text": "[CV 4/5; 8/9] END ..........neuron1=16, neuron2=4;, score=nan total time=   0.3s\n[CV 5/5; 8/9] START neuron1=16, neuron2=4.......................................\n"
        },
        {
          "name": "stderr",
          "output_type": "stream",
          "text": "C:\\Users\\Asus\\anaconda3\\anaconda\\lib\\site-packages\\sklearn\\model_selection\\_validation.py:615: FitFailedWarning: Estimator fit failed. The score on this train-test partition for these parameters will be set to nan. Details: \nTraceback (most recent call last):\n  File \"C:\\Users\\Asus\\anaconda3\\anaconda\\lib\\site-packages\\sklearn\\model_selection\\_validation.py\", line 598, in _fit_and_score\n    estimator.fit(X_train, y_train, **fit_params)\n  File \"C:\\Users\\Asus\\anaconda3\\anaconda\\lib\\site-packages\\keras\\wrappers\\scikit_learn.py\", line 236, in fit\n    return super(KerasClassifier, self).fit(x, y, **kwargs)\n  File \"C:\\Users\\Asus\\anaconda3\\anaconda\\lib\\site-packages\\keras\\wrappers\\scikit_learn.py\", line 164, in fit\n    history = self.model.fit(x, y, **fit_args)\n  File \"C:\\Users\\Asus\\anaconda3\\anaconda\\lib\\site-packages\\keras\\utils\\traceback_utils.py\", line 67, in error_handler\n    raise e.with_traceback(filtered_tb) from None\n  File \"C:\\Users\\Asus\\AppData\\Local\\Temp\\__autograph_generated_fileetbnm25r.py\", line 15, in tf__train_function\n    retval_ = ag__.converted_call(ag__.ld(step_function), (ag__.ld(self), ag__.ld(iterator)), None, fscope)\nValueError: in user code:\n\n    File \"C:\\Users\\Asus\\anaconda3\\anaconda\\lib\\site-packages\\keras\\engine\\training.py\", line 1051, in train_function  *\n        return step_function(self, iterator)\n    File \"C:\\Users\\Asus\\anaconda3\\anaconda\\lib\\site-packages\\keras\\engine\\training.py\", line 1040, in step_function  **\n        outputs = model.distribute_strategy.run(run_step, args=(data,))\n    File \"C:\\Users\\Asus\\anaconda3\\anaconda\\lib\\site-packages\\keras\\engine\\training.py\", line 1030, in run_step  **\n        outputs = model.train_step(data)\n    File \"C:\\Users\\Asus\\anaconda3\\anaconda\\lib\\site-packages\\keras\\engine\\training.py\", line 889, in train_step\n        y_pred = self(x, training=True)\n    File \"C:\\Users\\Asus\\anaconda3\\anaconda\\lib\\site-packages\\keras\\utils\\traceback_utils.py\", line 67, in error_handler\n        raise e.with_traceback(filtered_tb) from None\n    File \"C:\\Users\\Asus\\anaconda3\\anaconda\\lib\\site-packages\\keras\\engine\\input_spec.py\", line 264, in assert_input_compatibility\n        raise ValueError(f'Input {input_index} of layer \"{layer_name}\" is '\n\n    ValueError: Input 0 of layer \"sequential_193\" is incompatible with the layer: expected shape=(None, 8), found shape=(None, 30)\n\n\n  warnings.warn(\"Estimator fit failed. The score on this train-test\"\nC:\\Users\\Asus\\anaconda3\\anaconda\\lib\\site-packages\\keras\\optimizers\\optimizer_v2\\adam.py:110: UserWarning: The `lr` argument is deprecated, use `learning_rate` instead.\n  super(Adam, self).__init__(name, **kwargs)\nC:\\Users\\Asus\\anaconda3\\anaconda\\lib\\site-packages\\sklearn\\model_selection\\_validation.py:615: FitFailedWarning: Estimator fit failed. The score on this train-test partition for these parameters will be set to nan. Details: \nTraceback (most recent call last):\n  File \"C:\\Users\\Asus\\anaconda3\\anaconda\\lib\\site-packages\\sklearn\\model_selection\\_validation.py\", line 598, in _fit_and_score\n    estimator.fit(X_train, y_train, **fit_params)\n  File \"C:\\Users\\Asus\\anaconda3\\anaconda\\lib\\site-packages\\keras\\wrappers\\scikit_learn.py\", line 236, in fit\n    return super(KerasClassifier, self).fit(x, y, **kwargs)\n  File \"C:\\Users\\Asus\\anaconda3\\anaconda\\lib\\site-packages\\keras\\wrappers\\scikit_learn.py\", line 164, in fit\n    history = self.model.fit(x, y, **fit_args)\n  File \"C:\\Users\\Asus\\anaconda3\\anaconda\\lib\\site-packages\\keras\\utils\\traceback_utils.py\", line 67, in error_handler\n    raise e.with_traceback(filtered_tb) from None\n  File \"C:\\Users\\Asus\\AppData\\Local\\Temp\\__autograph_generated_fileetbnm25r.py\", line 15, in tf__train_function\n    retval_ = ag__.converted_call(ag__.ld(step_function), (ag__.ld(self), ag__.ld(iterator)), None, fscope)\nValueError: in user code:\n\n    File \"C:\\Users\\Asus\\anaconda3\\anaconda\\lib\\site-packages\\keras\\engine\\training.py\", line 1051, in train_function  *\n        return step_function(self, iterator)\n    File \"C:\\Users\\Asus\\anaconda3\\anaconda\\lib\\site-packages\\keras\\engine\\training.py\", line 1040, in step_function  **\n        outputs = model.distribute_strategy.run(run_step, args=(data,))\n    File \"C:\\Users\\Asus\\anaconda3\\anaconda\\lib\\site-packages\\keras\\engine\\training.py\", line 1030, in run_step  **\n        outputs = model.train_step(data)\n    File \"C:\\Users\\Asus\\anaconda3\\anaconda\\lib\\site-packages\\keras\\engine\\training.py\", line 889, in train_step\n        y_pred = self(x, training=True)\n    File \"C:\\Users\\Asus\\anaconda3\\anaconda\\lib\\site-packages\\keras\\utils\\traceback_utils.py\", line 67, in error_handler\n        raise e.with_traceback(filtered_tb) from None\n    File \"C:\\Users\\Asus\\anaconda3\\anaconda\\lib\\site-packages\\keras\\engine\\input_spec.py\", line 264, in assert_input_compatibility\n        raise ValueError(f'Input {input_index} of layer \"{layer_name}\" is '\n\n    ValueError: Input 0 of layer \"sequential_194\" is incompatible with the layer: expected shape=(None, 8), found shape=(None, 30)\n\n\n  warnings.warn(\"Estimator fit failed. The score on this train-test\"\n"
        },
        {
          "name": "stdout",
          "output_type": "stream",
          "text": "[CV 5/5; 8/9] END ..........neuron1=16, neuron2=4;, score=nan total time=   0.2s\n[CV 1/5; 9/9] START neuron1=16, neuron2=8.......................................\n[CV 1/5; 9/9] END ..........neuron1=16, neuron2=8;, score=nan total time=   0.1s\n[CV 2/5; 9/9] START neuron1=16, neuron2=8......................................."
        },
        {
          "name": "stderr",
          "output_type": "stream",
          "text": "C:\\Users\\Asus\\anaconda3\\anaconda\\lib\\site-packages\\keras\\optimizers\\optimizer_v2\\adam.py:110: UserWarning: The `lr` argument is deprecated, use `learning_rate` instead.\n  super(Adam, self).__init__(name, **kwargs)\nC:\\Users\\Asus\\anaconda3\\anaconda\\lib\\site-packages\\sklearn\\model_selection\\_validation.py:615: FitFailedWarning: Estimator fit failed. The score on this train-test partition for these parameters will be set to nan. Details: \nTraceback (most recent call last):\n  File \"C:\\Users\\Asus\\anaconda3\\anaconda\\lib\\site-packages\\sklearn\\model_selection\\_validation.py\", line 598, in _fit_and_score\n    estimator.fit(X_train, y_train, **fit_params)\n  File \"C:\\Users\\Asus\\anaconda3\\anaconda\\lib\\site-packages\\keras\\wrappers\\scikit_learn.py\", line 236, in fit\n    return super(KerasClassifier, self).fit(x, y, **kwargs)\n  File \"C:\\Users\\Asus\\anaconda3\\anaconda\\lib\\site-packages\\keras\\wrappers\\scikit_learn.py\", line 164, in fit\n    history = self.model.fit(x, y, **fit_args)\n  File \"C:\\Users\\Asus\\anaconda3\\anaconda\\lib\\site-packages\\keras\\utils\\traceback_utils.py\", line 67, in error_handler\n    raise e.with_traceback(filtered_tb) from None\n  File \"C:\\Users\\Asus\\AppData\\Local\\Temp\\__autograph_generated_fileetbnm25r.py\", line 15, in tf__train_function\n    retval_ = ag__.converted_call(ag__.ld(step_function), (ag__.ld(self), ag__.ld(iterator)), None, fscope)\nValueError: in user code:\n\n    File \"C:\\Users\\Asus\\anaconda3\\anaconda\\lib\\site-packages\\keras\\engine\\training.py\", line 1051, in train_function  *\n        return step_function(self, iterator)\n    File \"C:\\Users\\Asus\\anaconda3\\anaconda\\lib\\site-packages\\keras\\engine\\training.py\", line 1040, in step_function  **\n        outputs = model.distribute_strategy.run(run_step, args=(data,))\n    File \"C:\\Users\\Asus\\anaconda3\\anaconda\\lib\\site-packages\\keras\\engine\\training.py\", line 1030, in run_step  **\n        outputs = model.train_step(data)\n    File \"C:\\Users\\Asus\\anaconda3\\anaconda\\lib\\site-packages\\keras\\engine\\training.py\", line 889, in train_step\n        y_pred = self(x, training=True)\n    File \"C:\\Users\\Asus\\anaconda3\\anaconda\\lib\\site-packages\\keras\\utils\\traceback_utils.py\", line 67, in error_handler\n        raise e.with_traceback(filtered_tb) from None\n    File \"C:\\Users\\Asus\\anaconda3\\anaconda\\lib\\site-packages\\keras\\engine\\input_spec.py\", line 264, in assert_input_compatibility\n        raise ValueError(f'Input {input_index} of layer \"{layer_name}\" is '\n\n    ValueError: Input 0 of layer \"sequential_195\" is incompatible with the layer: expected shape=(None, 8), found shape=(None, 30)\n\n\n  warnings.warn(\"Estimator fit failed. The score on this train-test\"\nC:\\Users\\Asus\\anaconda3\\anaconda\\lib\\site-packages\\keras\\optimizers\\optimizer_v2\\adam.py:110: UserWarning: The `lr` argument is deprecated, use `learning_rate` instead.\n  super(Adam, self).__init__(name, **kwargs)\n"
        },
        {
          "name": "stdout",
          "output_type": "stream",
          "text": "\n[CV 2/5; 9/9] END ..........neuron1=16, neuron2=8;, score=nan total time=   0.1s\n[CV 3/5; 9/9] START neuron1=16, neuron2=8.......................................\n[CV 3/5; 9/9] END ..........neuron1=16, neuron2=8;, score=nan total time=   0.1s\n[CV 4/5; 9/9] START neuron1=16, neuron2=8.......................................\n"
        },
        {
          "name": "stderr",
          "output_type": "stream",
          "text": "C:\\Users\\Asus\\anaconda3\\anaconda\\lib\\site-packages\\sklearn\\model_selection\\_validation.py:615: FitFailedWarning: Estimator fit failed. The score on this train-test partition for these parameters will be set to nan. Details: \nTraceback (most recent call last):\n  File \"C:\\Users\\Asus\\anaconda3\\anaconda\\lib\\site-packages\\sklearn\\model_selection\\_validation.py\", line 598, in _fit_and_score\n    estimator.fit(X_train, y_train, **fit_params)\n  File \"C:\\Users\\Asus\\anaconda3\\anaconda\\lib\\site-packages\\keras\\wrappers\\scikit_learn.py\", line 236, in fit\n    return super(KerasClassifier, self).fit(x, y, **kwargs)\n  File \"C:\\Users\\Asus\\anaconda3\\anaconda\\lib\\site-packages\\keras\\wrappers\\scikit_learn.py\", line 164, in fit\n    history = self.model.fit(x, y, **fit_args)\n  File \"C:\\Users\\Asus\\anaconda3\\anaconda\\lib\\site-packages\\keras\\utils\\traceback_utils.py\", line 67, in error_handler\n    raise e.with_traceback(filtered_tb) from None\n  File \"C:\\Users\\Asus\\AppData\\Local\\Temp\\__autograph_generated_fileetbnm25r.py\", line 15, in tf__train_function\n    retval_ = ag__.converted_call(ag__.ld(step_function), (ag__.ld(self), ag__.ld(iterator)), None, fscope)\nValueError: in user code:\n\n    File \"C:\\Users\\Asus\\anaconda3\\anaconda\\lib\\site-packages\\keras\\engine\\training.py\", line 1051, in train_function  *\n        return step_function(self, iterator)\n    File \"C:\\Users\\Asus\\anaconda3\\anaconda\\lib\\site-packages\\keras\\engine\\training.py\", line 1040, in step_function  **\n        outputs = model.distribute_strategy.run(run_step, args=(data,))\n    File \"C:\\Users\\Asus\\anaconda3\\anaconda\\lib\\site-packages\\keras\\engine\\training.py\", line 1030, in run_step  **\n        outputs = model.train_step(data)\n    File \"C:\\Users\\Asus\\anaconda3\\anaconda\\lib\\site-packages\\keras\\engine\\training.py\", line 889, in train_step\n        y_pred = self(x, training=True)\n    File \"C:\\Users\\Asus\\anaconda3\\anaconda\\lib\\site-packages\\keras\\utils\\traceback_utils.py\", line 67, in error_handler\n        raise e.with_traceback(filtered_tb) from None\n    File \"C:\\Users\\Asus\\anaconda3\\anaconda\\lib\\site-packages\\keras\\engine\\input_spec.py\", line 264, in assert_input_compatibility\n        raise ValueError(f'Input {input_index} of layer \"{layer_name}\" is '\n\n    ValueError: Input 0 of layer \"sequential_196\" is incompatible with the layer: expected shape=(None, 8), found shape=(None, 30)\n\n\n  warnings.warn(\"Estimator fit failed. The score on this train-test\"\nC:\\Users\\Asus\\anaconda3\\anaconda\\lib\\site-packages\\keras\\optimizers\\optimizer_v2\\adam.py:110: UserWarning: The `lr` argument is deprecated, use `learning_rate` instead.\n  super(Adam, self).__init__(name, **kwargs)\nC:\\Users\\Asus\\anaconda3\\anaconda\\lib\\site-packages\\sklearn\\model_selection\\_validation.py:615: FitFailedWarning: Estimator fit failed. The score on this train-test partition for these parameters will be set to nan. Details: \nTraceback (most recent call last):\n  File \"C:\\Users\\Asus\\anaconda3\\anaconda\\lib\\site-packages\\sklearn\\model_selection\\_validation.py\", line 598, in _fit_and_score\n    estimator.fit(X_train, y_train, **fit_params)\n  File \"C:\\Users\\Asus\\anaconda3\\anaconda\\lib\\site-packages\\keras\\wrappers\\scikit_learn.py\", line 236, in fit\n    return super(KerasClassifier, self).fit(x, y, **kwargs)\n  File \"C:\\Users\\Asus\\anaconda3\\anaconda\\lib\\site-packages\\keras\\wrappers\\scikit_learn.py\", line 164, in fit\n    history = self.model.fit(x, y, **fit_args)\n  File \"C:\\Users\\Asus\\anaconda3\\anaconda\\lib\\site-packages\\keras\\utils\\traceback_utils.py\", line 67, in error_handler\n    raise e.with_traceback(filtered_tb) from None\n  File \"C:\\Users\\Asus\\AppData\\Local\\Temp\\__autograph_generated_fileetbnm25r.py\", line 15, in tf__train_function\n    retval_ = ag__.converted_call(ag__.ld(step_function), (ag__.ld(self), ag__.ld(iterator)), None, fscope)\nValueError: in user code:\n\n    File \"C:\\Users\\Asus\\anaconda3\\anaconda\\lib\\site-packages\\keras\\engine\\training.py\", line 1051, in train_function  *\n        return step_function(self, iterator)\n    File \"C:\\Users\\Asus\\anaconda3\\anaconda\\lib\\site-packages\\keras\\engine\\training.py\", line 1040, in step_function  **\n        outputs = model.distribute_strategy.run(run_step, args=(data,))\n    File \"C:\\Users\\Asus\\anaconda3\\anaconda\\lib\\site-packages\\keras\\engine\\training.py\", line 1030, in run_step  **\n        outputs = model.train_step(data)\n    File \"C:\\Users\\Asus\\anaconda3\\anaconda\\lib\\site-packages\\keras\\engine\\training.py\", line 889, in train_step\n        y_pred = self(x, training=True)\n    File \"C:\\Users\\Asus\\anaconda3\\anaconda\\lib\\site-packages\\keras\\utils\\traceback_utils.py\", line 67, in error_handler\n        raise e.with_traceback(filtered_tb) from None\n    File \"C:\\Users\\Asus\\anaconda3\\anaconda\\lib\\site-packages\\keras\\engine\\input_spec.py\", line 264, in assert_input_compatibility\n        raise ValueError(f'Input {input_index} of layer \"{layer_name}\" is '\n\n    ValueError: Input 0 of layer \"sequential_197\" is incompatible with the layer: expected shape=(None, 8), found shape=(None, 30)\n\n\n  warnings.warn(\"Estimator fit failed. The score on this train-test\"\nC:\\Users\\Asus\\anaconda3\\anaconda\\lib\\site-packages\\keras\\optimizers\\optimizer_v2\\adam.py:110: UserWarning: The `lr` argument is deprecated, use `learning_rate` instead.\n  super(Adam, self).__init__(name, **kwargs)\n"
        },
        {
          "name": "stdout",
          "output_type": "stream",
          "text": "[CV 4/5; 9/9] END ..........neuron1=16, neuron2=8;, score=nan total time=   0.1s\n[CV 5/5; 9/9] START neuron1=16, neuron2=8.......................................\n"
        },
        {
          "name": "stderr",
          "output_type": "stream",
          "text": "C:\\Users\\Asus\\anaconda3\\anaconda\\lib\\site-packages\\sklearn\\model_selection\\_validation.py:615: FitFailedWarning: Estimator fit failed. The score on this train-test partition for these parameters will be set to nan. Details: \nTraceback (most recent call last):\n  File \"C:\\Users\\Asus\\anaconda3\\anaconda\\lib\\site-packages\\sklearn\\model_selection\\_validation.py\", line 598, in _fit_and_score\n    estimator.fit(X_train, y_train, **fit_params)\n  File \"C:\\Users\\Asus\\anaconda3\\anaconda\\lib\\site-packages\\keras\\wrappers\\scikit_learn.py\", line 236, in fit\n    return super(KerasClassifier, self).fit(x, y, **kwargs)\n  File \"C:\\Users\\Asus\\anaconda3\\anaconda\\lib\\site-packages\\keras\\wrappers\\scikit_learn.py\", line 164, in fit\n    history = self.model.fit(x, y, **fit_args)\n  File \"C:\\Users\\Asus\\anaconda3\\anaconda\\lib\\site-packages\\keras\\utils\\traceback_utils.py\", line 67, in error_handler\n    raise e.with_traceback(filtered_tb) from None\n  File \"C:\\Users\\Asus\\AppData\\Local\\Temp\\__autograph_generated_fileetbnm25r.py\", line 15, in tf__train_function\n    retval_ = ag__.converted_call(ag__.ld(step_function), (ag__.ld(self), ag__.ld(iterator)), None, fscope)\nValueError: in user code:\n\n    File \"C:\\Users\\Asus\\anaconda3\\anaconda\\lib\\site-packages\\keras\\engine\\training.py\", line 1051, in train_function  *\n        return step_function(self, iterator)\n    File \"C:\\Users\\Asus\\anaconda3\\anaconda\\lib\\site-packages\\keras\\engine\\training.py\", line 1040, in step_function  **\n        outputs = model.distribute_strategy.run(run_step, args=(data,))\n    File \"C:\\Users\\Asus\\anaconda3\\anaconda\\lib\\site-packages\\keras\\engine\\training.py\", line 1030, in run_step  **\n        outputs = model.train_step(data)\n    File \"C:\\Users\\Asus\\anaconda3\\anaconda\\lib\\site-packages\\keras\\engine\\training.py\", line 889, in train_step\n        y_pred = self(x, training=True)\n    File \"C:\\Users\\Asus\\anaconda3\\anaconda\\lib\\site-packages\\keras\\utils\\traceback_utils.py\", line 67, in error_handler\n        raise e.with_traceback(filtered_tb) from None\n    File \"C:\\Users\\Asus\\anaconda3\\anaconda\\lib\\site-packages\\keras\\engine\\input_spec.py\", line 264, in assert_input_compatibility\n        raise ValueError(f'Input {input_index} of layer \"{layer_name}\" is '\n\n    ValueError: Input 0 of layer \"sequential_198\" is incompatible with the layer: expected shape=(None, 8), found shape=(None, 30)\n\n\n  warnings.warn(\"Estimator fit failed. The score on this train-test\"\nC:\\Users\\Asus\\anaconda3\\anaconda\\lib\\site-packages\\sklearn\\model_selection\\_search.py:922: UserWarning: One or more of the test scores are non-finite: [nan nan nan nan nan nan nan nan nan]\n  warnings.warn(\n"
        },
        {
          "name": "stdout",
          "output_type": "stream",
          "text": "[CV 5/5; 9/9] END ..........neuron1=16, neuron2=8;, score=nan total time=   0.2s\n"
        },
        {
          "ename": "ValueError",
          "evalue": "in user code:\n\n    File \"C:\\Users\\Asus\\anaconda3\\anaconda\\lib\\site-packages\\keras\\engine\\training.py\", line 1051, in train_function  *\n        return step_function(self, iterator)\n    File \"C:\\Users\\Asus\\anaconda3\\anaconda\\lib\\site-packages\\keras\\engine\\training.py\", line 1040, in step_function  **\n        outputs = model.distribute_strategy.run(run_step, args=(data,))\n    File \"C:\\Users\\Asus\\anaconda3\\anaconda\\lib\\site-packages\\keras\\engine\\training.py\", line 1030, in run_step  **\n        outputs = model.train_step(data)\n    File \"C:\\Users\\Asus\\anaconda3\\anaconda\\lib\\site-packages\\keras\\engine\\training.py\", line 889, in train_step\n        y_pred = self(x, training=True)\n    File \"C:\\Users\\Asus\\anaconda3\\anaconda\\lib\\site-packages\\keras\\utils\\traceback_utils.py\", line 67, in error_handler\n        raise e.with_traceback(filtered_tb) from None\n    File \"C:\\Users\\Asus\\anaconda3\\anaconda\\lib\\site-packages\\keras\\engine\\input_spec.py\", line 264, in assert_input_compatibility\n        raise ValueError(f'Input {input_index} of layer \"{layer_name}\" is '\n\n    ValueError: Input 0 of layer \"sequential_199\" is incompatible with the layer: expected shape=(None, 8), found shape=(None, 30)\n",
          "output_type": "error",
          "traceback": [
            "\u001b[1;31m---------------------------------------------------------------------------\u001b[0m",
            "\u001b[1;31mValueError\u001b[0m                                Traceback (most recent call last)",
            "\u001b[1;32m~\\AppData\\Local\\Temp/ipykernel_16168/326346131.py\u001b[0m in \u001b[0;36m<module>\u001b[1;34m\u001b[0m\n\u001b[0;32m      8\u001b[0m \u001b[1;31m# Build and fit the GridSearchCV\u001b[0m\u001b[1;33m\u001b[0m\u001b[1;33m\u001b[0m\u001b[0m\n\u001b[0;32m      9\u001b[0m \u001b[0mgrid\u001b[0m \u001b[1;33m=\u001b[0m \u001b[0mGridSearchCV\u001b[0m\u001b[1;33m(\u001b[0m\u001b[0mestimator\u001b[0m \u001b[1;33m=\u001b[0m \u001b[0mmodel\u001b[0m\u001b[1;33m,\u001b[0m\u001b[0mparam_grid\u001b[0m \u001b[1;33m=\u001b[0m \u001b[0mparam_grids\u001b[0m\u001b[1;33m,\u001b[0m\u001b[0mcv\u001b[0m \u001b[1;33m=\u001b[0m \u001b[0mKFold\u001b[0m\u001b[1;33m(\u001b[0m\u001b[1;33m)\u001b[0m\u001b[1;33m,\u001b[0m\u001b[0mverbose\u001b[0m \u001b[1;33m=\u001b[0m \u001b[1;36m10\u001b[0m\u001b[1;33m)\u001b[0m\u001b[1;33m\u001b[0m\u001b[1;33m\u001b[0m\u001b[0m\n\u001b[1;32m---> 10\u001b[1;33m \u001b[0mgrid_result\u001b[0m \u001b[1;33m=\u001b[0m \u001b[0mgrid\u001b[0m\u001b[1;33m.\u001b[0m\u001b[0mfit\u001b[0m\u001b[1;33m(\u001b[0m\u001b[0mX_standardized\u001b[0m\u001b[1;33m,\u001b[0m\u001b[0my\u001b[0m\u001b[1;33m)\u001b[0m\u001b[1;33m\u001b[0m\u001b[1;33m\u001b[0m\u001b[0m\n\u001b[0m",
            "\u001b[1;32m~\\anaconda3\\anaconda\\lib\\site-packages\\sklearn\\utils\\validation.py\u001b[0m in \u001b[0;36minner_f\u001b[1;34m(*args, **kwargs)\u001b[0m\n\u001b[0;32m     61\u001b[0m             \u001b[0mextra_args\u001b[0m \u001b[1;33m=\u001b[0m \u001b[0mlen\u001b[0m\u001b[1;33m(\u001b[0m\u001b[0margs\u001b[0m\u001b[1;33m)\u001b[0m \u001b[1;33m-\u001b[0m \u001b[0mlen\u001b[0m\u001b[1;33m(\u001b[0m\u001b[0mall_args\u001b[0m\u001b[1;33m)\u001b[0m\u001b[1;33m\u001b[0m\u001b[1;33m\u001b[0m\u001b[0m\n\u001b[0;32m     62\u001b[0m             \u001b[1;32mif\u001b[0m \u001b[0mextra_args\u001b[0m \u001b[1;33m<=\u001b[0m \u001b[1;36m0\u001b[0m\u001b[1;33m:\u001b[0m\u001b[1;33m\u001b[0m\u001b[1;33m\u001b[0m\u001b[0m\n\u001b[1;32m---> 63\u001b[1;33m                 \u001b[1;32mreturn\u001b[0m \u001b[0mf\u001b[0m\u001b[1;33m(\u001b[0m\u001b[1;33m*\u001b[0m\u001b[0margs\u001b[0m\u001b[1;33m,\u001b[0m \u001b[1;33m**\u001b[0m\u001b[0mkwargs\u001b[0m\u001b[1;33m)\u001b[0m\u001b[1;33m\u001b[0m\u001b[1;33m\u001b[0m\u001b[0m\n\u001b[0m\u001b[0;32m     64\u001b[0m \u001b[1;33m\u001b[0m\u001b[0m\n\u001b[0;32m     65\u001b[0m             \u001b[1;31m# extra_args > 0\u001b[0m\u001b[1;33m\u001b[0m\u001b[1;33m\u001b[0m\u001b[0m\n",
            "\u001b[1;32m~\\anaconda3\\anaconda\\lib\\site-packages\\sklearn\\model_selection\\_search.py\u001b[0m in \u001b[0;36mfit\u001b[1;34m(self, X, y, groups, **fit_params)\u001b[0m\n\u001b[0;32m    878\u001b[0m             \u001b[0mrefit_start_time\u001b[0m \u001b[1;33m=\u001b[0m \u001b[0mtime\u001b[0m\u001b[1;33m.\u001b[0m\u001b[0mtime\u001b[0m\u001b[1;33m(\u001b[0m\u001b[1;33m)\u001b[0m\u001b[1;33m\u001b[0m\u001b[1;33m\u001b[0m\u001b[0m\n\u001b[0;32m    879\u001b[0m             \u001b[1;32mif\u001b[0m \u001b[0my\u001b[0m \u001b[1;32mis\u001b[0m \u001b[1;32mnot\u001b[0m \u001b[1;32mNone\u001b[0m\u001b[1;33m:\u001b[0m\u001b[1;33m\u001b[0m\u001b[1;33m\u001b[0m\u001b[0m\n\u001b[1;32m--> 880\u001b[1;33m                 \u001b[0mself\u001b[0m\u001b[1;33m.\u001b[0m\u001b[0mbest_estimator_\u001b[0m\u001b[1;33m.\u001b[0m\u001b[0mfit\u001b[0m\u001b[1;33m(\u001b[0m\u001b[0mX\u001b[0m\u001b[1;33m,\u001b[0m \u001b[0my\u001b[0m\u001b[1;33m,\u001b[0m \u001b[1;33m**\u001b[0m\u001b[0mfit_params\u001b[0m\u001b[1;33m)\u001b[0m\u001b[1;33m\u001b[0m\u001b[1;33m\u001b[0m\u001b[0m\n\u001b[0m\u001b[0;32m    881\u001b[0m             \u001b[1;32melse\u001b[0m\u001b[1;33m:\u001b[0m\u001b[1;33m\u001b[0m\u001b[1;33m\u001b[0m\u001b[0m\n\u001b[0;32m    882\u001b[0m                 \u001b[0mself\u001b[0m\u001b[1;33m.\u001b[0m\u001b[0mbest_estimator_\u001b[0m\u001b[1;33m.\u001b[0m\u001b[0mfit\u001b[0m\u001b[1;33m(\u001b[0m\u001b[0mX\u001b[0m\u001b[1;33m,\u001b[0m \u001b[1;33m**\u001b[0m\u001b[0mfit_params\u001b[0m\u001b[1;33m)\u001b[0m\u001b[1;33m\u001b[0m\u001b[1;33m\u001b[0m\u001b[0m\n",
            "\u001b[1;32m~\\anaconda3\\anaconda\\lib\\site-packages\\keras\\wrappers\\scikit_learn.py\u001b[0m in \u001b[0;36mfit\u001b[1;34m(self, x, y, **kwargs)\u001b[0m\n\u001b[0;32m    234\u001b[0m       \u001b[1;32mraise\u001b[0m \u001b[0mValueError\u001b[0m\u001b[1;33m(\u001b[0m\u001b[1;34m'Invalid shape for y: '\u001b[0m \u001b[1;33m+\u001b[0m \u001b[0mstr\u001b[0m\u001b[1;33m(\u001b[0m\u001b[0my\u001b[0m\u001b[1;33m.\u001b[0m\u001b[0mshape\u001b[0m\u001b[1;33m)\u001b[0m\u001b[1;33m)\u001b[0m\u001b[1;33m\u001b[0m\u001b[1;33m\u001b[0m\u001b[0m\n\u001b[0;32m    235\u001b[0m     \u001b[0mself\u001b[0m\u001b[1;33m.\u001b[0m\u001b[0mn_classes_\u001b[0m \u001b[1;33m=\u001b[0m \u001b[0mlen\u001b[0m\u001b[1;33m(\u001b[0m\u001b[0mself\u001b[0m\u001b[1;33m.\u001b[0m\u001b[0mclasses_\u001b[0m\u001b[1;33m)\u001b[0m\u001b[1;33m\u001b[0m\u001b[1;33m\u001b[0m\u001b[0m\n\u001b[1;32m--> 236\u001b[1;33m     \u001b[1;32mreturn\u001b[0m \u001b[0msuper\u001b[0m\u001b[1;33m(\u001b[0m\u001b[0mKerasClassifier\u001b[0m\u001b[1;33m,\u001b[0m \u001b[0mself\u001b[0m\u001b[1;33m)\u001b[0m\u001b[1;33m.\u001b[0m\u001b[0mfit\u001b[0m\u001b[1;33m(\u001b[0m\u001b[0mx\u001b[0m\u001b[1;33m,\u001b[0m \u001b[0my\u001b[0m\u001b[1;33m,\u001b[0m \u001b[1;33m**\u001b[0m\u001b[0mkwargs\u001b[0m\u001b[1;33m)\u001b[0m\u001b[1;33m\u001b[0m\u001b[1;33m\u001b[0m\u001b[0m\n\u001b[0m\u001b[0;32m    237\u001b[0m \u001b[1;33m\u001b[0m\u001b[0m\n\u001b[0;32m    238\u001b[0m   \u001b[1;32mdef\u001b[0m \u001b[0mpredict\u001b[0m\u001b[1;33m(\u001b[0m\u001b[0mself\u001b[0m\u001b[1;33m,\u001b[0m \u001b[0mx\u001b[0m\u001b[1;33m,\u001b[0m \u001b[1;33m**\u001b[0m\u001b[0mkwargs\u001b[0m\u001b[1;33m)\u001b[0m\u001b[1;33m:\u001b[0m\u001b[1;33m\u001b[0m\u001b[1;33m\u001b[0m\u001b[0m\n",
            "\u001b[1;32m~\\anaconda3\\anaconda\\lib\\site-packages\\keras\\wrappers\\scikit_learn.py\u001b[0m in \u001b[0;36mfit\u001b[1;34m(self, x, y, **kwargs)\u001b[0m\n\u001b[0;32m    162\u001b[0m     \u001b[0mfit_args\u001b[0m\u001b[1;33m.\u001b[0m\u001b[0mupdate\u001b[0m\u001b[1;33m(\u001b[0m\u001b[0mkwargs\u001b[0m\u001b[1;33m)\u001b[0m\u001b[1;33m\u001b[0m\u001b[1;33m\u001b[0m\u001b[0m\n\u001b[0;32m    163\u001b[0m \u001b[1;33m\u001b[0m\u001b[0m\n\u001b[1;32m--> 164\u001b[1;33m     \u001b[0mhistory\u001b[0m \u001b[1;33m=\u001b[0m \u001b[0mself\u001b[0m\u001b[1;33m.\u001b[0m\u001b[0mmodel\u001b[0m\u001b[1;33m.\u001b[0m\u001b[0mfit\u001b[0m\u001b[1;33m(\u001b[0m\u001b[0mx\u001b[0m\u001b[1;33m,\u001b[0m \u001b[0my\u001b[0m\u001b[1;33m,\u001b[0m \u001b[1;33m**\u001b[0m\u001b[0mfit_args\u001b[0m\u001b[1;33m)\u001b[0m\u001b[1;33m\u001b[0m\u001b[1;33m\u001b[0m\u001b[0m\n\u001b[0m\u001b[0;32m    165\u001b[0m \u001b[1;33m\u001b[0m\u001b[0m\n\u001b[0;32m    166\u001b[0m     \u001b[1;32mreturn\u001b[0m \u001b[0mhistory\u001b[0m\u001b[1;33m\u001b[0m\u001b[1;33m\u001b[0m\u001b[0m\n",
            "\u001b[1;32m~\\anaconda3\\anaconda\\lib\\site-packages\\keras\\utils\\traceback_utils.py\u001b[0m in \u001b[0;36merror_handler\u001b[1;34m(*args, **kwargs)\u001b[0m\n\u001b[0;32m     65\u001b[0m     \u001b[1;32mexcept\u001b[0m \u001b[0mException\u001b[0m \u001b[1;32mas\u001b[0m \u001b[0me\u001b[0m\u001b[1;33m:\u001b[0m  \u001b[1;31m# pylint: disable=broad-except\u001b[0m\u001b[1;33m\u001b[0m\u001b[1;33m\u001b[0m\u001b[0m\n\u001b[0;32m     66\u001b[0m       \u001b[0mfiltered_tb\u001b[0m \u001b[1;33m=\u001b[0m \u001b[0m_process_traceback_frames\u001b[0m\u001b[1;33m(\u001b[0m\u001b[0me\u001b[0m\u001b[1;33m.\u001b[0m\u001b[0m__traceback__\u001b[0m\u001b[1;33m)\u001b[0m\u001b[1;33m\u001b[0m\u001b[1;33m\u001b[0m\u001b[0m\n\u001b[1;32m---> 67\u001b[1;33m       \u001b[1;32mraise\u001b[0m \u001b[0me\u001b[0m\u001b[1;33m.\u001b[0m\u001b[0mwith_traceback\u001b[0m\u001b[1;33m(\u001b[0m\u001b[0mfiltered_tb\u001b[0m\u001b[1;33m)\u001b[0m \u001b[1;32mfrom\u001b[0m \u001b[1;32mNone\u001b[0m\u001b[1;33m\u001b[0m\u001b[1;33m\u001b[0m\u001b[0m\n\u001b[0m\u001b[0;32m     68\u001b[0m     \u001b[1;32mfinally\u001b[0m\u001b[1;33m:\u001b[0m\u001b[1;33m\u001b[0m\u001b[1;33m\u001b[0m\u001b[0m\n\u001b[0;32m     69\u001b[0m       \u001b[1;32mdel\u001b[0m \u001b[0mfiltered_tb\u001b[0m\u001b[1;33m\u001b[0m\u001b[1;33m\u001b[0m\u001b[0m\n",
            "\u001b[1;32m~\\anaconda3\\anaconda\\lib\\site-packages\\keras\\engine\\training.py\u001b[0m in \u001b[0;36mtf__train_function\u001b[1;34m(iterator)\u001b[0m\n\u001b[0;32m     13\u001b[0m                 \u001b[1;32mtry\u001b[0m\u001b[1;33m:\u001b[0m\u001b[1;33m\u001b[0m\u001b[1;33m\u001b[0m\u001b[0m\n\u001b[0;32m     14\u001b[0m                     \u001b[0mdo_return\u001b[0m \u001b[1;33m=\u001b[0m \u001b[1;32mTrue\u001b[0m\u001b[1;33m\u001b[0m\u001b[1;33m\u001b[0m\u001b[0m\n\u001b[1;32m---> 15\u001b[1;33m                     \u001b[0mretval_\u001b[0m \u001b[1;33m=\u001b[0m \u001b[0mag__\u001b[0m\u001b[1;33m.\u001b[0m\u001b[0mconverted_call\u001b[0m\u001b[1;33m(\u001b[0m\u001b[0mag__\u001b[0m\u001b[1;33m.\u001b[0m\u001b[0mld\u001b[0m\u001b[1;33m(\u001b[0m\u001b[0mstep_function\u001b[0m\u001b[1;33m)\u001b[0m\u001b[1;33m,\u001b[0m \u001b[1;33m(\u001b[0m\u001b[0mag__\u001b[0m\u001b[1;33m.\u001b[0m\u001b[0mld\u001b[0m\u001b[1;33m(\u001b[0m\u001b[0mself\u001b[0m\u001b[1;33m)\u001b[0m\u001b[1;33m,\u001b[0m \u001b[0mag__\u001b[0m\u001b[1;33m.\u001b[0m\u001b[0mld\u001b[0m\u001b[1;33m(\u001b[0m\u001b[0miterator\u001b[0m\u001b[1;33m)\u001b[0m\u001b[1;33m)\u001b[0m\u001b[1;33m,\u001b[0m \u001b[1;32mNone\u001b[0m\u001b[1;33m,\u001b[0m \u001b[0mfscope\u001b[0m\u001b[1;33m)\u001b[0m\u001b[1;33m\u001b[0m\u001b[1;33m\u001b[0m\u001b[0m\n\u001b[0m\u001b[0;32m     16\u001b[0m                 \u001b[1;32mexcept\u001b[0m\u001b[1;33m:\u001b[0m\u001b[1;33m\u001b[0m\u001b[1;33m\u001b[0m\u001b[0m\n\u001b[0;32m     17\u001b[0m                     \u001b[0mdo_return\u001b[0m \u001b[1;33m=\u001b[0m \u001b[1;32mFalse\u001b[0m\u001b[1;33m\u001b[0m\u001b[1;33m\u001b[0m\u001b[0m\n",
            "\u001b[1;31mValueError\u001b[0m: in user code:\n\n    File \"C:\\Users\\Asus\\anaconda3\\anaconda\\lib\\site-packages\\keras\\engine\\training.py\", line 1051, in train_function  *\n        return step_function(self, iterator)\n    File \"C:\\Users\\Asus\\anaconda3\\anaconda\\lib\\site-packages\\keras\\engine\\training.py\", line 1040, in step_function  **\n        outputs = model.distribute_strategy.run(run_step, args=(data,))\n    File \"C:\\Users\\Asus\\anaconda3\\anaconda\\lib\\site-packages\\keras\\engine\\training.py\", line 1030, in run_step  **\n        outputs = model.train_step(data)\n    File \"C:\\Users\\Asus\\anaconda3\\anaconda\\lib\\site-packages\\keras\\engine\\training.py\", line 889, in train_step\n        y_pred = self(x, training=True)\n    File \"C:\\Users\\Asus\\anaconda3\\anaconda\\lib\\site-packages\\keras\\utils\\traceback_utils.py\", line 67, in error_handler\n        raise e.with_traceback(filtered_tb) from None\n    File \"C:\\Users\\Asus\\anaconda3\\anaconda\\lib\\site-packages\\keras\\engine\\input_spec.py\", line 264, in assert_input_compatibility\n        raise ValueError(f'Input {input_index} of layer \"{layer_name}\" is '\n\n    ValueError: Input 0 of layer \"sequential_199\" is incompatible with the layer: expected shape=(None, 8), found shape=(None, 30)\n"
          ]
        }
      ]
    },
    {
      "metadata": {
        "ExecuteTime": {
          "end_time": "2022-06-13T07:29:48.063634Z",
          "start_time": "2022-06-13T07:29:48.049438Z"
        },
        "trusted": false
      },
      "id": "5c08b1c7",
      "cell_type": "code",
      "source": "print('Best : {}, using {}'.format(grid_result.best_score_,grid_result.best_params_))\nmeans = grid_result.cv_results_['mean_test_score']\nstds = grid_result.cv_results_['std_test_score']\nparams = grid_result.cv_results_['params']\nfor mean, stdev, param in zip(means, stds, params):\n  print('{},{} with: {}'.format(mean, stdev, param))",
      "execution_count": 30,
      "outputs": [
        {
          "name": "stdout",
          "output_type": "stream",
          "text": "Best : 0.845033609867096, using {'activation_function': 'linear', 'init': 'normal'}\n0.7305825233459473,0.15435061319000673 with: {'activation_function': 'softmax', 'init': 'uniform'}\n0.6305825233459472,0.24482772813004766 with: {'activation_function': 'softmax', 'init': 'normal'}\n0.7208737850189209,0.16794994181639633 with: {'activation_function': 'softmax', 'init': 'zero'}\n0.7635922312736512,0.16155351939420937 with: {'activation_function': 'relu', 'init': 'uniform'}\n0.7305825233459473,0.15435061319000673 with: {'activation_function': 'relu', 'init': 'normal'}\n0.7305825233459473,0.15435061319000673 with: {'activation_function': 'relu', 'init': 'zero'}\n0.839227044582367,0.0850227928870106 with: {'activation_function': 'tanh', 'init': 'uniform'}\n0.8314973950386048,0.09420599944428691 with: {'activation_function': 'tanh', 'init': 'normal'}\n0.7305825233459473,0.15435061319000673 with: {'activation_function': 'tanh', 'init': 'zero'}\n0.8373226284980774,0.07844197772802802 with: {'activation_function': 'linear', 'init': 'uniform'}\n0.845033609867096,0.08839657341096986 with: {'activation_function': 'linear', 'init': 'normal'}\n0.7305825233459473,0.15435061319000673 with: {'activation_function': 'linear', 'init': 'zero'}\n"
        }
      ]
    },
    {
      "metadata": {
        "ExecuteTime": {
          "end_time": "2022-06-13T07:54:03.062487Z",
          "start_time": "2022-06-13T07:54:03.042751Z"
        },
        "trusted": false
      },
      "id": "41c5de35",
      "cell_type": "code",
      "source": "from sklearn.metrics import classification_report, accuracy_score\n\n# Defining the model\n\ndef create_model():\n    model = Sequential()\n    model.add(Dense(16,input_dim = 8,kernel_initializer = 'uniform',activation = 'tanh'))\n    model.add(Dropout(0.1))\n    model.add(Dense(4,input_dim = 16,kernel_initializer = 'uniform',activation = 'tanh'))\n    model.add(Dropout(0.1))\n    model.add(Dense(1,activation = 'sigmoid'))\n    \n    adam = Adam(lr = 0.001) #sgd = SGD(lr=learning_rate, momentum=momentum, decay=decay_rate, nesterov=False)\n    model.compile(loss = 'binary_crossentropy',optimizer = adam,metrics = ['accuracy'])\n    return model\n\n",
      "execution_count": 39,
      "outputs": []
    },
    {
      "metadata": {
        "trusted": false
      },
      "id": "90d82fea",
      "cell_type": "code",
      "source": "# Create the model\n\nmodel = KerasClassifier(build_fn = create_model,verbose = 0,batch_size = 40,epochs = 10)\n\nmodel.fit(X_standardized,y)          # Fitting the model\n\ny_predict = model.predict(X_standardized)   # Predicting using trained model\n\nprint(accuracy_score(y,y_predict))    # Printing the metrics",
      "execution_count": null,
      "outputs": []
    }
  ],
  "metadata": {
    "kernelspec": {
      "name": "python3",
      "display_name": "Python 3 (ipykernel)",
      "language": "python"
    },
    "language_info": {
      "name": "python",
      "version": "3.9.7",
      "mimetype": "text/x-python",
      "codemirror_mode": {
        "name": "ipython",
        "version": 3
      },
      "pygments_lexer": "ipython3",
      "nbconvert_exporter": "python",
      "file_extension": ".py"
    },
    "gist": {
      "id": "",
      "data": {
        "description": "Assignment_16_ForestFires.ipynb",
        "public": true
      }
    }
  },
  "nbformat": 4,
  "nbformat_minor": 5
}